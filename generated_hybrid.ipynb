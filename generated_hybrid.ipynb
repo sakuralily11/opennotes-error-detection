{
  "nbformat": 4,
  "nbformat_minor": 0,
  "metadata": {
    "colab": {
      "name": "generated_hybrid.ipynb",
      "provenance": [],
      "collapsed_sections": []
    },
    "kernelspec": {
      "name": "python3",
      "display_name": "Python 3"
    },
    "language_info": {
      "name": "python"
    }
  },
  "cells": [
    {
      "cell_type": "code",
      "metadata": {
        "id": "j0KzrYXsevxl",
        "colab": {
          "base_uri": "https://localhost:8080/"
        },
        "outputId": "c8be5672-3dff-456a-8f0c-53d8a56bb181"
      },
      "source": [
        "!pip install spacy==2.3.5\n",
        "!pip install scispacy==0.3.0\n",
        "!pip install eli5"
      ],
      "execution_count": 1,
      "outputs": [
        {
          "output_type": "stream",
          "text": [
            "Requirement already satisfied: spacy==2.3.5 in /usr/local/lib/python3.7/dist-packages (2.3.5)\n",
            "Requirement already satisfied: cymem<2.1.0,>=2.0.2 in /usr/local/lib/python3.7/dist-packages (from spacy==2.3.5) (2.0.5)\n",
            "Requirement already satisfied: murmurhash<1.1.0,>=0.28.0 in /usr/local/lib/python3.7/dist-packages (from spacy==2.3.5) (1.0.5)\n",
            "Requirement already satisfied: catalogue<1.1.0,>=0.0.7 in /usr/local/lib/python3.7/dist-packages (from spacy==2.3.5) (1.0.0)\n",
            "Requirement already satisfied: wasabi<1.1.0,>=0.4.0 in /usr/local/lib/python3.7/dist-packages (from spacy==2.3.5) (0.8.2)\n",
            "Requirement already satisfied: setuptools in /usr/local/lib/python3.7/dist-packages (from spacy==2.3.5) (56.1.0)\n",
            "Requirement already satisfied: blis<0.8.0,>=0.4.0 in /usr/local/lib/python3.7/dist-packages (from spacy==2.3.5) (0.4.1)\n",
            "Requirement already satisfied: srsly<1.1.0,>=1.0.2 in /usr/local/lib/python3.7/dist-packages (from spacy==2.3.5) (1.0.5)\n",
            "Requirement already satisfied: tqdm<5.0.0,>=4.38.0 in /usr/local/lib/python3.7/dist-packages (from spacy==2.3.5) (4.41.1)\n",
            "Requirement already satisfied: requests<3.0.0,>=2.13.0 in /usr/local/lib/python3.7/dist-packages (from spacy==2.3.5) (2.23.0)\n",
            "Requirement already satisfied: preshed<3.1.0,>=3.0.2 in /usr/local/lib/python3.7/dist-packages (from spacy==2.3.5) (3.0.5)\n",
            "Requirement already satisfied: numpy>=1.15.0 in /usr/local/lib/python3.7/dist-packages (from spacy==2.3.5) (1.19.5)\n",
            "Requirement already satisfied: plac<1.2.0,>=0.9.6 in /usr/local/lib/python3.7/dist-packages (from spacy==2.3.5) (1.1.3)\n",
            "Requirement already satisfied: thinc<7.5.0,>=7.4.1 in /usr/local/lib/python3.7/dist-packages (from spacy==2.3.5) (7.4.5)\n",
            "Requirement already satisfied: importlib-metadata>=0.20; python_version < \"3.8\" in /usr/local/lib/python3.7/dist-packages (from catalogue<1.1.0,>=0.0.7->spacy==2.3.5) (4.0.1)\n",
            "Requirement already satisfied: chardet<4,>=3.0.2 in /usr/local/lib/python3.7/dist-packages (from requests<3.0.0,>=2.13.0->spacy==2.3.5) (3.0.4)\n",
            "Requirement already satisfied: certifi>=2017.4.17 in /usr/local/lib/python3.7/dist-packages (from requests<3.0.0,>=2.13.0->spacy==2.3.5) (2020.12.5)\n",
            "Requirement already satisfied: urllib3!=1.25.0,!=1.25.1,<1.26,>=1.21.1 in /usr/local/lib/python3.7/dist-packages (from requests<3.0.0,>=2.13.0->spacy==2.3.5) (1.24.3)\n",
            "Requirement already satisfied: idna<3,>=2.5 in /usr/local/lib/python3.7/dist-packages (from requests<3.0.0,>=2.13.0->spacy==2.3.5) (2.10)\n",
            "Requirement already satisfied: typing-extensions>=3.6.4; python_version < \"3.8\" in /usr/local/lib/python3.7/dist-packages (from importlib-metadata>=0.20; python_version < \"3.8\"->catalogue<1.1.0,>=0.0.7->spacy==2.3.5) (3.7.4.3)\n",
            "Requirement already satisfied: zipp>=0.5 in /usr/local/lib/python3.7/dist-packages (from importlib-metadata>=0.20; python_version < \"3.8\"->catalogue<1.1.0,>=0.0.7->spacy==2.3.5) (3.4.1)\n",
            "Requirement already satisfied: scispacy==0.3.0 in /usr/local/lib/python3.7/dist-packages (0.3.0)\n",
            "Requirement already satisfied: nmslib>=1.7.3.6 in /usr/local/lib/python3.7/dist-packages (from scispacy==0.3.0) (2.1.1)\n",
            "Requirement already satisfied: spacy<3.0.0,>=2.3.0 in /usr/local/lib/python3.7/dist-packages (from scispacy==0.3.0) (2.3.5)\n",
            "Requirement already satisfied: requests<3.0.0conllu,>=2.0.0 in /usr/local/lib/python3.7/dist-packages (from scispacy==0.3.0) (2.23.0)\n",
            "Requirement already satisfied: pysbd in /usr/local/lib/python3.7/dist-packages (from scispacy==0.3.0) (0.3.4)\n",
            "Requirement already satisfied: scikit-learn>=0.20.3 in /usr/local/lib/python3.7/dist-packages (from scispacy==0.3.0) (0.22.2.post1)\n",
            "Requirement already satisfied: joblib in /usr/local/lib/python3.7/dist-packages (from scispacy==0.3.0) (1.0.1)\n",
            "Requirement already satisfied: numpy in /usr/local/lib/python3.7/dist-packages (from scispacy==0.3.0) (1.19.5)\n",
            "Requirement already satisfied: psutil in /usr/local/lib/python3.7/dist-packages (from nmslib>=1.7.3.6->scispacy==0.3.0) (5.4.8)\n",
            "Requirement already satisfied: pybind11<2.6.2 in /usr/local/lib/python3.7/dist-packages (from nmslib>=1.7.3.6->scispacy==0.3.0) (2.6.1)\n",
            "Requirement already satisfied: srsly<1.1.0,>=1.0.2 in /usr/local/lib/python3.7/dist-packages (from spacy<3.0.0,>=2.3.0->scispacy==0.3.0) (1.0.5)\n",
            "Requirement already satisfied: preshed<3.1.0,>=3.0.2 in /usr/local/lib/python3.7/dist-packages (from spacy<3.0.0,>=2.3.0->scispacy==0.3.0) (3.0.5)\n",
            "Requirement already satisfied: wasabi<1.1.0,>=0.4.0 in /usr/local/lib/python3.7/dist-packages (from spacy<3.0.0,>=2.3.0->scispacy==0.3.0) (0.8.2)\n",
            "Requirement already satisfied: cymem<2.1.0,>=2.0.2 in /usr/local/lib/python3.7/dist-packages (from spacy<3.0.0,>=2.3.0->scispacy==0.3.0) (2.0.5)\n",
            "Requirement already satisfied: setuptools in /usr/local/lib/python3.7/dist-packages (from spacy<3.0.0,>=2.3.0->scispacy==0.3.0) (56.1.0)\n",
            "Requirement already satisfied: catalogue<1.1.0,>=0.0.7 in /usr/local/lib/python3.7/dist-packages (from spacy<3.0.0,>=2.3.0->scispacy==0.3.0) (1.0.0)\n",
            "Requirement already satisfied: tqdm<5.0.0,>=4.38.0 in /usr/local/lib/python3.7/dist-packages (from spacy<3.0.0,>=2.3.0->scispacy==0.3.0) (4.41.1)\n",
            "Requirement already satisfied: blis<0.8.0,>=0.4.0 in /usr/local/lib/python3.7/dist-packages (from spacy<3.0.0,>=2.3.0->scispacy==0.3.0) (0.4.1)\n",
            "Requirement already satisfied: thinc<7.5.0,>=7.4.1 in /usr/local/lib/python3.7/dist-packages (from spacy<3.0.0,>=2.3.0->scispacy==0.3.0) (7.4.5)\n",
            "Requirement already satisfied: murmurhash<1.1.0,>=0.28.0 in /usr/local/lib/python3.7/dist-packages (from spacy<3.0.0,>=2.3.0->scispacy==0.3.0) (1.0.5)\n",
            "Requirement already satisfied: plac<1.2.0,>=0.9.6 in /usr/local/lib/python3.7/dist-packages (from spacy<3.0.0,>=2.3.0->scispacy==0.3.0) (1.1.3)\n",
            "Requirement already satisfied: chardet<4,>=3.0.2 in /usr/local/lib/python3.7/dist-packages (from requests<3.0.0conllu,>=2.0.0->scispacy==0.3.0) (3.0.4)\n",
            "Requirement already satisfied: certifi>=2017.4.17 in /usr/local/lib/python3.7/dist-packages (from requests<3.0.0conllu,>=2.0.0->scispacy==0.3.0) (2020.12.5)\n",
            "Requirement already satisfied: idna<3,>=2.5 in /usr/local/lib/python3.7/dist-packages (from requests<3.0.0conllu,>=2.0.0->scispacy==0.3.0) (2.10)\n",
            "Requirement already satisfied: urllib3!=1.25.0,!=1.25.1,<1.26,>=1.21.1 in /usr/local/lib/python3.7/dist-packages (from requests<3.0.0conllu,>=2.0.0->scispacy==0.3.0) (1.24.3)\n",
            "Requirement already satisfied: scipy>=0.17.0 in /usr/local/lib/python3.7/dist-packages (from scikit-learn>=0.20.3->scispacy==0.3.0) (1.4.1)\n",
            "Requirement already satisfied: importlib-metadata>=0.20; python_version < \"3.8\" in /usr/local/lib/python3.7/dist-packages (from catalogue<1.1.0,>=0.0.7->spacy<3.0.0,>=2.3.0->scispacy==0.3.0) (4.0.1)\n",
            "Requirement already satisfied: typing-extensions>=3.6.4; python_version < \"3.8\" in /usr/local/lib/python3.7/dist-packages (from importlib-metadata>=0.20; python_version < \"3.8\"->catalogue<1.1.0,>=0.0.7->spacy<3.0.0,>=2.3.0->scispacy==0.3.0) (3.7.4.3)\n",
            "Requirement already satisfied: zipp>=0.5 in /usr/local/lib/python3.7/dist-packages (from importlib-metadata>=0.20; python_version < \"3.8\"->catalogue<1.1.0,>=0.0.7->spacy<3.0.0,>=2.3.0->scispacy==0.3.0) (3.4.1)\n",
            "Requirement already satisfied: eli5 in /usr/local/lib/python3.7/dist-packages (0.11.0)\n",
            "Requirement already satisfied: scikit-learn>=0.20 in /usr/local/lib/python3.7/dist-packages (from eli5) (0.22.2.post1)\n",
            "Requirement already satisfied: tabulate>=0.7.7 in /usr/local/lib/python3.7/dist-packages (from eli5) (0.8.9)\n",
            "Requirement already satisfied: six in /usr/local/lib/python3.7/dist-packages (from eli5) (1.15.0)\n",
            "Requirement already satisfied: graphviz in /usr/local/lib/python3.7/dist-packages (from eli5) (0.10.1)\n",
            "Requirement already satisfied: attrs>16.0.0 in /usr/local/lib/python3.7/dist-packages (from eli5) (21.2.0)\n",
            "Requirement already satisfied: jinja2 in /usr/local/lib/python3.7/dist-packages (from eli5) (2.11.3)\n",
            "Requirement already satisfied: numpy>=1.9.0 in /usr/local/lib/python3.7/dist-packages (from eli5) (1.19.5)\n",
            "Requirement already satisfied: scipy in /usr/local/lib/python3.7/dist-packages (from eli5) (1.4.1)\n",
            "Requirement already satisfied: joblib>=0.11 in /usr/local/lib/python3.7/dist-packages (from scikit-learn>=0.20->eli5) (1.0.1)\n",
            "Requirement already satisfied: MarkupSafe>=0.23 in /usr/local/lib/python3.7/dist-packages (from jinja2->eli5) (1.1.1)\n"
          ],
          "name": "stdout"
        }
      ]
    },
    {
      "cell_type": "code",
      "metadata": {
        "id": "67h9_xP2e65g",
        "colab": {
          "base_uri": "https://localhost:8080/"
        },
        "outputId": "34745de2-8d9e-4764-d8e6-64fd231910b8"
      },
      "source": [
        "import spacy\n",
        "import scispacy\n",
        "import eli5\n",
        "\n",
        "from pprint import pprint\n",
        "from tqdm import tqdm\n",
        "from collections import OrderedDict\n",
        "import pandas as pd\n",
        "\n",
        "from spacy import displacy\n",
        "from scispacy.umls_linking import UmlsEntityLinker\n",
        "\n",
        "from sklearn.base import BaseEstimator\n",
        "from typing import Dict, Tuple\n",
        "import numpy as np\n",
        "\n",
        "from sklearn.ensemble import GradientBoostingClassifier\n",
        "\n",
        "# Standard Imports\n",
        "import seaborn as sns\n",
        "import matplotlib.pyplot as plt\n",
        "import pickle\n",
        "\n",
        "# Transformers\n",
        "from sklearn.preprocessing import LabelEncoder, OneHotEncoder, StandardScaler, MinMaxScaler\n",
        "\n",
        "# Modeling Evaluation\n",
        "from sklearn.model_selection import train_test_split, cross_val_score, KFold, GridSearchCV\n",
        "from sklearn.pipeline import Pipeline, FeatureUnion\n",
        "from sklearn.compose import ColumnTransformer\n",
        "from sklearn.metrics import accuracy_score, precision_score, recall_score,f1_score, confusion_matrix, classification_report\n",
        "from IPython.display import display, Markdown\n",
        "\n",
        "\n",
        "# should be 2.3.5 and >=0.3.0\n",
        "spacy.__version__, scispacy.__version__"
      ],
      "execution_count": 26,
      "outputs": [
        {
          "output_type": "execute_result",
          "data": {
            "text/plain": [
              "('2.3.5', '0.3.0')"
            ]
          },
          "metadata": {
            "tags": []
          },
          "execution_count": 26
        }
      ]
    },
    {
      "cell_type": "code",
      "metadata": {
        "id": "wS5mTJPRe4Zc",
        "colab": {
          "base_uri": "https://localhost:8080/"
        },
        "outputId": "56fbfa9a-9281-4d21-ce86-4b73283f1558"
      },
      "source": [
        "from google.colab import drive \n",
        "drive.mount('/content/gdrive')"
      ],
      "execution_count": 3,
      "outputs": [
        {
          "output_type": "stream",
          "text": [
            "Drive already mounted at /content/gdrive; to attempt to forcibly remount, call drive.mount(\"/content/gdrive\", force_remount=True).\n"
          ],
          "name": "stdout"
        }
      ]
    },
    {
      "cell_type": "markdown",
      "metadata": {
        "id": "HFa7R3gWgxp0"
      },
      "source": [
        "Read in structured data with relevant features (generated and hand labeled data)\n",
        "\n"
      ]
    },
    {
      "cell_type": "code",
      "metadata": {
        "id": "Ffn_bN5pNfut"
      },
      "source": [
        "# read in hand labeled data\n",
        "hand_df = pd.read_csv(\"gdrive/MyDrive/6.871/hand_labeled_mimic_features.csv\")\n",
        "\n",
        "# split labeled data into training, testing sets for hand labeled data\n",
        "\n",
        "hand_X = hand_df[['check_umls', 'neg_check_umls', \"check_med7\", \"dep_sim\"]].copy()\n",
        "hand_y = hand_df[\"contradiction?\"]\n",
        "\n",
        "hand_train_X, hand_test_X, hand_train_y, hand_test_y = train_test_split(hand_X, hand_y, test_size=0.3)"
      ],
      "execution_count": 4,
      "outputs": []
    },
    {
      "cell_type": "code",
      "metadata": {
        "colab": {
          "base_uri": "https://localhost:8080/"
        },
        "id": "zwSxI5fZPQj0",
        "outputId": "b9af17ab-0665-4002-c4ad-32a7c547adbe"
      },
      "source": [
        "# for generated dataset\n",
        "generated_df = pd.read_csv(\"gdrive/MyDrive/6.871/generated_features.csv\")\n",
        "print(generated_df)"
      ],
      "execution_count": 5,
      "outputs": [
        {
          "output_type": "stream",
          "text": [
            "    Unnamed: 0  neg_check_umls  ...  conflict_type  pair_id\n",
            "0            0               1  ...            lab        0\n",
            "1            1               0  ...            lab        1\n",
            "2            2               0  ...            lab        2\n",
            "3            3               0  ...   prescription        3\n",
            "4            4               0  ...   prescription        4\n",
            "..         ...             ...  ...            ...      ...\n",
            "68          68               0  ...            lab       68\n",
            "69          69               0  ...            lab       69\n",
            "70          70               0  ...      diagnosis       70\n",
            "71          71               0  ...      diagnosis       71\n",
            "72          72               0  ...      diagnosis       72\n",
            "\n",
            "[73 rows x 10 columns]\n"
          ],
          "name": "stdout"
        }
      ]
    },
    {
      "cell_type": "code",
      "metadata": {
        "colab": {
          "base_uri": "https://localhost:8080/"
        },
        "id": "-MF7kujsPvKQ",
        "outputId": "b1f8e07b-3b92-49a6-db49-f5b551dce942"
      },
      "source": [
        "# fill Na with 0\n",
        "generated_df = generated_df.fillna(0)\n",
        "\n",
        "generated_X = generated_df.drop([\"sentence_1\", \"sentence_2\", \"Unnamed: 0\", 'pair_id', 'conflict_type', \"contradiction?\"], axis=1)\n",
        "generated_y = generated_df[\"contradiction?\"]\n",
        "\n",
        "# split into train and test sets\n",
        "gen_train_X, gen_test_X, gen_train_y, gen_test_y = train_test_split(generated_X, generated_y, test_size=0.3)\n",
        "\n",
        "gen_train_X = gen_train_X.reset_index(drop=True)\n",
        "gen_test_X = gen_test_X.reset_index(drop=True)\n",
        "gen_train_y = gen_train_y.reset_index(drop=True)\n",
        "gen_test_y = gen_test_y.reset_index(drop=True)\n",
        "\n",
        "gen_train_X = pd.concat((gen_train_X, hand_train_X), axis=0)\n",
        "gen_test_X = pd.concat((gen_test_X, hand_test_X), axis=0)\n",
        "gen_train_y = pd.concat((gen_train_y, hand_train_y), axis=0)\n",
        "gen_test_y = pd.concat((gen_test_y, hand_test_y), axis=0)\n",
        "\n",
        "#print(generated_X)\n",
        "#print(generated_y)\n",
        "\n",
        "print(gen_train_X)\n",
        "print(gen_test_X)\n",
        "print(gen_train_y)\n",
        "print(gen_test_y)"
      ],
      "execution_count": 6,
      "outputs": [
        {
          "output_type": "stream",
          "text": [
            "    neg_check_umls  check_umls  check_med7   dep_sim\n",
            "0                1           1           0  0.644780\n",
            "1                0           1           1  0.606756\n",
            "2                0           1           0  0.720361\n",
            "3                0           1           0  0.931884\n",
            "4                0           1           0  1.000000\n",
            "..             ...         ...         ...       ...\n",
            "17               0           1           0  0.614619\n",
            "19               0           1           1  0.793324\n",
            "35               0           1           0  0.718066\n",
            "22               0           1           1  0.793324\n",
            "20               0           0           0  0.656870\n",
            "\n",
            "[88 rows x 4 columns]\n",
            "    neg_check_umls  check_umls  check_med7   dep_sim\n",
            "0                0           1           0  0.774842\n",
            "1                0           1           1  0.569560\n",
            "2                0           1           0  0.700741\n",
            "3                0           1           0  0.388793\n",
            "4                0           1           0  0.562344\n",
            "5                0           1           0  0.362019\n",
            "6                0           1           0  0.648228\n",
            "7                0           1           1  0.469686\n",
            "8                0           1           0  0.738861\n",
            "9                1           1           0  0.765677\n",
            "10               0           1           0  0.357760\n",
            "11               0           1           0  0.570362\n",
            "12               0           1           0  0.451797\n",
            "13               0           1           0  0.402572\n",
            "14               0           1           0  0.678041\n",
            "15               0           1           0  0.731091\n",
            "16               0           1           0  0.702676\n",
            "17               0           1           0  0.599886\n",
            "18               0           1           1  0.757271\n",
            "19               0           0           0  0.660996\n",
            "20               0           1           0  0.705711\n",
            "21               0           1           0  0.819331\n",
            "10               0           1           0  0.824536\n",
            "38               1           1           0  0.232861\n",
            "9                1           1           0  0.847793\n",
            "11               1           1           0  0.755498\n",
            "52               1           1           0  0.635903\n",
            "1                0           1           0  0.539810\n",
            "5                0           1           0  0.768168\n",
            "13               0           1           1  1.000000\n",
            "8                0           1           0  0.386088\n",
            "37               0           1           0  0.609080\n",
            "41               1           1           0 -0.008538\n",
            "34               0           1           0  0.562344\n",
            "25               0           1           1  0.666866\n",
            "50               0           0           0  0.704805\n",
            "45               0           1           0  0.589428\n",
            "30               0           1           0  0.475809\n",
            "14               0           1           0  0.748352\n",
            "0     0\n",
            "1     1\n",
            "2     0\n",
            "3     1\n",
            "4     1\n",
            "     ..\n",
            "17    0\n",
            "19    0\n",
            "35    0\n",
            "22    0\n",
            "20    0\n",
            "Name: contradiction?, Length: 88, dtype: int64\n",
            "0     0\n",
            "1     0\n",
            "2     1\n",
            "3     0\n",
            "4     0\n",
            "5     1\n",
            "6     0\n",
            "7     1\n",
            "8     0\n",
            "9     1\n",
            "10    1\n",
            "11    0\n",
            "12    0\n",
            "13    1\n",
            "14    0\n",
            "15    1\n",
            "16    0\n",
            "17    1\n",
            "18    0\n",
            "19    0\n",
            "20    1\n",
            "21    0\n",
            "10    0\n",
            "38    0\n",
            "9     0\n",
            "11    0\n",
            "52    0\n",
            "1     0\n",
            "5     0\n",
            "13    1\n",
            "8     0\n",
            "37    0\n",
            "41    0\n",
            "34    0\n",
            "25    0\n",
            "50    1\n",
            "45    0\n",
            "30    0\n",
            "14    0\n",
            "Name: contradiction?, dtype: int64\n"
          ],
          "name": "stdout"
        }
      ]
    },
    {
      "cell_type": "markdown",
      "metadata": {
        "id": "HuFVC4Ozg2G2"
      },
      "source": [
        "Establish rules to explore as relevant features"
      ]
    },
    {
      "cell_type": "code",
      "metadata": {
        "id": "rMHxanE8fDZX"
      },
      "source": [
        "# RULES:\n",
        "# check_umls: if they do not share a concept, return 1 (no contradiction)\n",
        "# neg_check_umls: if number of neg tokens is equal, return 0 (no contradiction); otherwise, return 1 (contradiction)\n",
        "# check_med7: if not talking about same DRUG -> return 0 (no contradiction); if same DRUG but different other info -> return 1 (contradiction)\n",
        "# dep_sim: if similarity < 0.5 (contradiction)\n",
        "\n",
        "\n",
        "rules = {\"check_umls\": [\n",
        "                (\"=\", 1, 0.0)\n",
        "              ], \n",
        "        \"neg_check_umls\": [\n",
        "                (\"=\", 1, 1.0)\n",
        "              ],\n",
        "         \"check_med7\": [\n",
        "                (\"=\", 1, 1.0)\n",
        "              ],\n",
        "         \"dep_sim\": [\n",
        "                (\"<\", 0.5, 1.0)\n",
        "              ]\n",
        "        }"
      ],
      "execution_count": 7,
      "outputs": []
    },
    {
      "cell_type": "markdown",
      "metadata": {
        "id": "r5P_Od4-gsXj"
      },
      "source": [
        "Hybrid rule-based learning with auto learned rules"
      ]
    },
    {
      "cell_type": "code",
      "metadata": {
        "id": "hHq5-HyZfK-4"
      },
      "source": [
        "class RuleAugmentedEstimator(BaseEstimator):\n",
        "  \"\"\"\n",
        "  Augments sklearn estimators with deterministic rule-based logic.\n",
        "  \"\"\"\n",
        "\n",
        "  def __init__(self, base_model: BaseEstimator, rules: Dict, **base_params):\n",
        "      \"\"\"\n",
        "      Initializes the rule-augmented estimator by supplying underlying sklearn estimator\n",
        "      and hard-coded rules.\n",
        "\n",
        "      Args:\n",
        "        base_model: underlying sklearn estimator.\n",
        "          Must implement fit and predict method.\n",
        "        rules: hard coded rules in format of dictionary,\n",
        "          with keys being the pandas dataframe column name, \n",
        "          and values being a tuple in the following form: \n",
        "          (comparison operator, value, return value)\n",
        "\n",
        "          Acceptable comparison operators are: \n",
        "          \"=\", \"<\", \">\", \"<=\", \">=\"\n",
        "\n",
        "          Example:\n",
        "                \n",
        "                {\"House Type\": [\n",
        "                    (\"=\", \"Penthouse\", 1.0),\n",
        "                    (\"=\", \"Shack\", 0.0)\n",
        "                  ],\n",
        "                  \"House Price\": [\n",
        "                      (\"<\", 1000.0, 0.0),\n",
        "                      (\">=\", 500000.0, 1.0)\n",
        "                ]}\n",
        "        **base_params: Optional keyword arguments which will be passed on\n",
        "            to the base_model.\n",
        "\n",
        "      \"\"\"\n",
        "      self.rules = rules\n",
        "      self.base_model = base_model\n",
        "      self.base_model.set_params(**base_params)\n",
        "      self.outcome_range = [0,1]\n",
        "\n",
        "  def __repr__(self):\n",
        "      return \"Rule Augmented Estimator:\\n\\n\\t Base Model: {}\\n\\t Rules: {}\".format(self.base_model, self.rules)\n",
        "\n",
        "  def __str__(self):\n",
        "      return self.__str__\n",
        "\n",
        "  def _get_base_model_data(self, X: pd.DataFrame, y: pd.Series) -> Tuple[pd.DataFrame, pd.Series]:\n",
        "      \"\"\"\n",
        "      Filters the training data for data points not affected by the rules.\n",
        "      \"\"\"\n",
        "      train_x = X\n",
        "\n",
        "      for category, rules in self.rules.items():\n",
        "\n",
        "          if category not in train_x.columns.values: continue\n",
        "\n",
        "          for rule in rules:\n",
        "\n",
        "              if rule[0] == \"=\":\n",
        "                  train_x = train_x.loc[train_x[category] != rule[1]]\n",
        "\n",
        "              elif rule[0] == \"<\":\n",
        "                  train_x = train_x.loc[train_x[category] >= rule[1]]\n",
        "\n",
        "              elif rule[0] == \">\":\n",
        "                  train_x = train_x.loc[train_x[category] <= rule[1]]\n",
        "\n",
        "              elif rule[0] == \"<=\":\n",
        "                  train_x = train_x.loc[train_x[category] > rule[1]]\n",
        "\n",
        "              elif rule[0] == \">=\":\n",
        "                  train_x = train_x.loc[train_x[category] < rule[1]]\n",
        "\n",
        "              else:\n",
        "                  print(\"Invalid rule detected: {}\".format(rule))\n",
        "              \n",
        "      indices = train_x.index.values\n",
        "      train_y = y.iloc[indices]\n",
        "      \n",
        "      train_x = train_x.reset_index(drop=True)\n",
        "      train_y = train_y.reset_index(drop=True)\n",
        "      \n",
        "      return train_x, train_y   \n",
        "\n",
        "  def fit(self, X: pd.DataFrame, y: pd.Series, **kwargs):\n",
        "      \"\"\"Fits the estimator to the data.\n",
        "      \n",
        "      Fits the estimator to the data, only training the underlying estimator\n",
        "      on data which isn't affected by the hard-coded rules.\n",
        "      \n",
        "      Args:\n",
        "          X: The training feature data.\n",
        "          y: The training label data.\n",
        "          **kwargs: Optional keyword arguments passed to the underlying\n",
        "          estimator's fit function.\n",
        "              \n",
        "      \"\"\"\n",
        "      train_x, train_y = self._get_base_model_data(X, y)\n",
        "      self.base_model.fit(train_x, train_y, **kwargs)\n",
        "\n",
        "  def predict(self, X: pd.DataFrame) -> np.array:\n",
        "      \"\"\"Gets predictions for the provided feature data.\n",
        "      \n",
        "      The predicitons are evaluated using the provided rules wherever possible\n",
        "      otherwise the underlying estimator is used.\n",
        "      \n",
        "      Args:\n",
        "          X: The feature data to evaluate predictions for.\n",
        "      \n",
        "      Returns:\n",
        "          np.array: Evaluated predictions.\n",
        "      \"\"\"\n",
        "      \n",
        "      p_X = X.copy()\n",
        "      p_X['prediction'] = np.nan\n",
        "\n",
        "      for category, rules in self.rules.items():\n",
        "\n",
        "          if category not in p_X.columns.values: continue\n",
        "\n",
        "          for rule in rules:\n",
        "\n",
        "              if rule[0] == \"=\":\n",
        "                  p_X.loc[p_X[category] == rule[1], 'prediction'] = rule[2]\n",
        "\n",
        "              elif rule[0] == \"<\":\n",
        "                  p_X.loc[p_X[category] < rule[1], 'prediction'] = rule[2]\n",
        "\n",
        "              elif rule[0] == \">\":\n",
        "                  p_X.loc[p_X[category] > rule[1], 'prediction'] = rule[2]\n",
        "\n",
        "              elif rule[0] == \"<=\":\n",
        "                  p_X.loc[p_X[category] <= rule[1], 'prediction'] = rule[2]\n",
        "\n",
        "              elif rule[0] == \">=\":\n",
        "                  p_X.loc[p_X[category] >= rule[1], 'prediction'] = rule[2]\n",
        "\n",
        "              else:\n",
        "                  print(\"Invalid rule detected: {}\".format(rule))\n",
        "\n",
        "      if len(p_X.loc[p_X['prediction'].isna()].index != 0):\n",
        "\n",
        "          base_X = p_X.loc[p_X['prediction'].isna()].copy()\n",
        "          base_X.drop('prediction', axis=1, inplace=True)\n",
        "          p_X.loc[p_X['prediction'].isna(), 'prediction'] = self.base_model.predict(base_X)\n",
        "\n",
        "      return p_X['prediction'].values\n",
        "    \n",
        "  def get_params(self, deep: bool = True) -> Dict:\n",
        "      \"\"\"Return the model's and base model's parameters.\n",
        "      Args:\n",
        "          deep: Whether to recursively return the base model's parameters.\n",
        "      Returns\n",
        "          Dict: The model's parameters.\n",
        "      \"\"\"\n",
        "      \n",
        "      params = {'base_model': self.base_model,\n",
        "                'outcome_range': self.outcome_range,\n",
        "                'rules': self.rules\n",
        "                }\n",
        "\n",
        "      params.update(self.base_model.get_params(deep=deep))\n",
        "      return params\n",
        "    \n",
        "  def set_params(self, **params):\n",
        "      \"\"\"Sets parameters for the model and base model.\n",
        "      Args:\n",
        "          **params: Optional keyword arguments.\n",
        "      \"\"\"\n",
        "                \n",
        "      parameters = params\n",
        "      param_keys = parameters.keys()\n",
        "      \n",
        "      if 'base_model' in param_keys:\n",
        "          value = parameters.pop('base_model')\n",
        "          self.base_model = value"
      ],
      "execution_count": 8,
      "outputs": []
    },
    {
      "cell_type": "code",
      "metadata": {
        "id": "5Bp43BfJf2Ll"
      },
      "source": [
        "def evaluation(y, y_hat, title = 'Confusion Matrix'):\n",
        "    cm = confusion_matrix(y, y_hat)\n",
        "    precision = precision_score(y, y_hat)\n",
        "    recall = recall_score(y, y_hat)\n",
        "    accuracy = accuracy_score(y,y_hat)\n",
        "    f1 = f1_score(y,y_hat)\n",
        "    print('Recall: ', recall)\n",
        "    print('Accuracy: ', accuracy)\n",
        "    print('Precision: ', precision)\n",
        "    print('F1: ', f1)\n",
        "    sns.heatmap(cm,  cmap= 'PuBu', annot=True, fmt='g', annot_kws=    {'size':20})\n",
        "    plt.xlabel('predicted', fontsize=18)\n",
        "    plt.ylabel('actual', fontsize=18)\n",
        "    plt.title(title, fontsize=18)\n",
        "    \n",
        "    plt.show();"
      ],
      "execution_count": 9,
      "outputs": []
    },
    {
      "cell_type": "markdown",
      "metadata": {
        "id": "MOFmShToRLhs"
      },
      "source": [
        "Set up training for generated dataset"
      ]
    },
    {
      "cell_type": "code",
      "metadata": {
        "colab": {
          "base_uri": "https://localhost:8080/"
        },
        "id": "DSN78blXROnR",
        "outputId": "f246dd2d-e776-4180-d901-d602f854c326"
      },
      "source": [
        "# fit the hybrid model with relevant features after hyperparameter tuning\n",
        "gbc = GradientBoostingClassifier(n_estimators=100, verbose=1)\n",
        "hybrid_model = RuleAugmentedEstimator(gbc, rules)\n",
        "\n",
        "hybrid_model.fit(gen_train_X, gen_train_y)\n",
        "predictions = hybrid_model.predict(gen_test_X)"
      ],
      "execution_count": 10,
      "outputs": [
        {
          "output_type": "stream",
          "text": [
            "      Iter       Train Loss   Remaining Time \n",
            "         1           0.9351            0.14s\n",
            "         2           0.7981            0.13s\n",
            "         3           0.6909            0.12s\n",
            "         4           0.6035            0.12s\n",
            "         5           0.5306            0.11s\n",
            "         6           0.4686            0.11s\n",
            "         7           0.4155            0.11s\n",
            "         8           0.3694            0.11s\n",
            "         9           0.3292            0.11s\n",
            "        10           0.2940            0.10s\n",
            "        20           0.1007            0.06s\n",
            "        30           0.0362            0.05s\n",
            "        40           0.0132            0.04s\n",
            "        50           0.0048            0.03s\n",
            "        60           0.0018            0.02s\n",
            "        70           0.0007            0.02s\n",
            "        80           0.0005            0.01s\n",
            "        90           0.0005            0.01s\n",
            "       100           0.0005            0.00s\n"
          ],
          "name": "stdout"
        }
      ]
    },
    {
      "cell_type": "code",
      "metadata": {
        "colab": {
          "base_uri": "https://localhost:8080/",
          "height": 374
        },
        "id": "tl2WUb1GROx7",
        "outputId": "37fc18f4-0605-42bf-c06e-3e5f2fe144ad"
      },
      "source": [
        "# hybrid\n",
        "evaluation(gen_test_y, predictions)"
      ],
      "execution_count": 11,
      "outputs": [
        {
          "output_type": "stream",
          "text": [
            "Recall:  0.5454545454545454\n",
            "Accuracy:  0.5641025641025641\n",
            "Precision:  0.3333333333333333\n",
            "F1:  0.41379310344827586\n"
          ],
          "name": "stdout"
        },
        {
          "output_type": "display_data",
          "data": {
            "image/png": "[encoded data removed]",
            "text/plain": [
              "<Figure size 432x288 with 2 Axes>"
            ]
          },
          "metadata": {
            "tags": [],
            "needs_background": "light"
          }
        }
      ]
    },
    {
      "cell_type": "code",
      "metadata": {
        "colab": {
          "base_uri": "https://localhost:8080/"
        },
        "id": "khiEjBZFOYMW",
        "outputId": "3a951c81-db04-4abd-fbb6-f3b98ac58820"
      },
      "source": [
        "# hybrid model features\n",
        "num_feats = list(gen_train_X.columns)\n",
        "feat_imp = eli5.explain_weights_df(gbc, top=10, feature_names=num_feats)\n",
        "print(feat_imp)"
      ],
      "execution_count": 12,
      "outputs": [
        {
          "output_type": "stream",
          "text": [
            "          feature  weight       std\n",
            "0         dep_sim     1.0  0.433013\n",
            "1      check_med7     0.0  0.000000\n",
            "2      check_umls     0.0  0.000000\n",
            "3  neg_check_umls     0.0  0.000000\n"
          ],
          "name": "stdout"
        }
      ]
    },
    {
      "cell_type": "markdown",
      "metadata": {
        "id": "hfsxW-j-f_gd"
      },
      "source": [
        "Rule based model only"
      ]
    },
    {
      "cell_type": "code",
      "metadata": {
        "id": "ILyREGA2gF76"
      },
      "source": [
        "class RuleBasedEstimator(BaseEstimator):\n",
        "  \"\"\"\n",
        "  Uses deterministic rule-based logic.\n",
        "  \"\"\"\n",
        "\n",
        "  def __init__(self, base_model: BaseEstimator, rules: Dict, **base_params):\n",
        "      \"\"\"\n",
        "      Initializes the rule-based estimator by supplying hard-coded rules.\n",
        "\n",
        "      Args:\n",
        "        base_model: underlying sklearn estimator.\n",
        "          Must implement fit and predict method.\n",
        "        rules: hard coded rules in format of dictionary,\n",
        "          with keys being the pandas dataframe column name, \n",
        "          and values being a tuple in the following form: \n",
        "          (comparison operator, value, return value)\n",
        "\n",
        "          Acceptable comparison operators are: \n",
        "          \"=\", \"<\", \">\", \"<=\", \">=\"\n",
        "\n",
        "          Example:\n",
        "                \n",
        "                {\"House Type\": [\n",
        "                    (\"=\", \"Penthouse\", 1.0),\n",
        "                    (\"=\", \"Shack\", 0.0)\n",
        "                  ],\n",
        "                  \"House Price\": [\n",
        "                      (\"<\", 1000.0, 0.0),\n",
        "                      (\">=\", 500000.0, 1.0)\n",
        "                ]}\n",
        "        **base_params: Optional keyword arguments which will be passed on\n",
        "            to the base_model.\n",
        "\n",
        "      \"\"\"\n",
        "      self.rules = rules\n",
        "      self.base_model = base_model\n",
        "      self.base_model.set_params(**base_params)\n",
        "\n",
        "  def __repr__(self):\n",
        "      return \"Rule Augmented Estimator:\\n\\n\\t Base Model: {}\\n\\t Rules: {}\".format(self.base_model, self.rules)\n",
        "\n",
        "  def __str__(self):\n",
        "      return self.__str__\n",
        "  \n",
        "\n",
        "  def fit(self, X: pd.DataFrame, y: pd.Series, **kwargs):\n",
        "      \"\"\"Fits the estimator to the data.\n",
        "      \n",
        "      Fits the estimator to the data, only training the underlying estimator\n",
        "      on data which isn't affected by the hard-coded rules.\n",
        "      \n",
        "      Args:\n",
        "          X: The training feature data.\n",
        "          y: The training label data.\n",
        "          **kwargs: Optional keyword arguments passed to the underlying\n",
        "          estimator's fit function.\n",
        "              \n",
        "      \"\"\"\n",
        "      self.base_model.fit(X, y, **kwargs)\n",
        "\n",
        "  def predict(self, X: pd.DataFrame) -> np.array:\n",
        "      \"\"\"Gets predictions for the provided feature data.\n",
        "      \n",
        "      The predicitons are evaluated using the provided rules wherever possible\n",
        "      otherwise the underlying estimator is used.\n",
        "      \n",
        "      Args:\n",
        "          X: The feature data to evaluate predictions for.\n",
        "      \n",
        "      Returns:\n",
        "          np.array: Evaluated predictions.\n",
        "      \"\"\"\n",
        "      \n",
        "      p_X = X.copy()\n",
        "      p_X['prediction'] = np.nan\n",
        "\n",
        "      for category, rules in self.rules.items():\n",
        "\n",
        "          if category not in p_X.columns.values: continue\n",
        "\n",
        "          for rule in rules:\n",
        "\n",
        "              if rule[0] == \"=\":\n",
        "                  p_X.loc[p_X[category] == rule[1], 'prediction'] = rule[2]\n",
        "\n",
        "              elif rule[0] == \"<\":\n",
        "                  p_X.loc[p_X[category] < rule[1], 'prediction'] = rule[2]\n",
        "\n",
        "              elif rule[0] == \">\":\n",
        "                  p_X.loc[p_X[category] > rule[1], 'prediction'] = rule[2]\n",
        "\n",
        "              elif rule[0] == \"<=\":\n",
        "                  p_X.loc[p_X[category] <= rule[1], 'prediction'] = rule[2]\n",
        "\n",
        "              elif rule[0] == \">=\":\n",
        "                  p_X.loc[p_X[category] >= rule[1], 'prediction'] = rule[2]\n",
        "\n",
        "              else:\n",
        "                  print(\"Invalid rule detected: {}\".format(rule))\n",
        "\n",
        "      # check if any predictions missing (relegate to base_model)\n",
        "      if len(p_X.loc[p_X['prediction'].isna()].index != 0):\n",
        "\n",
        "          base_X = p_X.loc[p_X['prediction'].isna()].copy()\n",
        "          base_X.drop('prediction', axis=1, inplace=True)\n",
        "          p_X.loc[p_X['prediction'].isna(), 'prediction'] = self.base_model.predict(base_X)\n",
        "\n",
        "      return p_X['prediction'].values\n",
        "    \n",
        "\n",
        "  def get_params(self, deep: bool = True) -> Dict:\n",
        "      \"\"\"Return the model's and base model's parameters.\n",
        "      Args:\n",
        "          deep: Whether to recursively return the base model's parameters.\n",
        "      Returns\n",
        "          Dict: The model's parameters.\n",
        "      \"\"\"\n",
        "      \n",
        "      params = {'base_model': self.base_model,\n",
        "                'rules': self.rules\n",
        "                }\n",
        "\n",
        "      params.update(self.base_model.get_params(deep=deep))\n",
        "      return params\n",
        "  \n",
        "\n",
        "  def set_params(self, **params):\n",
        "      \"\"\"Sets parameters for the model and base model.\n",
        "      Args:\n",
        "          **params: Optional keyword arguments.\n",
        "      \"\"\"\n",
        "                \n",
        "      parameters = params\n",
        "      param_keys = parameters.keys()\n",
        "      \n",
        "      if 'base_model' in param_keys:\n",
        "          value = parameters.pop('base_model')\n",
        "          self.base_model = value\n",
        "          \n",
        "      if 'rules' in param_keys:\n",
        "          value = parameters.pop('rules')\n",
        "          self.rules = value\n",
        "      \n",
        "      self.base_model.set_params(**parameters)"
      ],
      "execution_count": 13,
      "outputs": []
    },
    {
      "cell_type": "code",
      "metadata": {
        "id": "5w0ZST-dY0GC"
      },
      "source": [
        "rules = {\"check_umls\": [\n",
        "                (\"=\", 1, 0.0),\n",
        "                (\"=\", 0, 1.0)\n",
        "              ], \n",
        "        \"neg_check_umls\": [\n",
        "                (\"=\", 1, 1.0),\n",
        "                (\"=\", 0, 0.0)\n",
        "              ],\n",
        "         \"check_med7\": [\n",
        "                (\"=\", 1, 1.0),\n",
        "                (\"=\", 0, 0.0)\n",
        "              ],\n",
        "         \"dep_sim\": [\n",
        "                (\"<\", 0.5, 1.0),\n",
        "                (\">=\", 0.5, 0.0)\n",
        "              ]\n",
        "        }"
      ],
      "execution_count": 14,
      "outputs": []
    },
    {
      "cell_type": "code",
      "metadata": {
        "colab": {
          "base_uri": "https://localhost:8080/"
        },
        "id": "NsM3fKK3RxNF",
        "outputId": "1b0fa3c7-095e-4a3a-fd01-556b19787d2a"
      },
      "source": [
        "# fit the rule based model with relevant features\n",
        "gbc = GradientBoostingClassifier(n_estimators=100, verbose=1)\n",
        "rule_model = RuleBasedEstimator(gbc, rules)\n",
        "rule_model.fit(gen_train_X, gen_train_y)\n",
        "predictions = rule_model.predict(gen_test_X)"
      ],
      "execution_count": 15,
      "outputs": [
        {
          "output_type": "stream",
          "text": [
            "      Iter       Train Loss   Remaining Time \n",
            "         1           1.0624            0.24s\n",
            "         2           1.0302            0.23s\n",
            "         3           0.9977            0.25s\n",
            "         4           0.9738            0.24s\n",
            "         5           0.9516            0.32s\n",
            "         6           0.9331            0.29s\n",
            "         7           0.8934            0.28s\n",
            "         8           0.8747            0.26s\n",
            "         9           0.8443            0.24s\n",
            "        10           0.8180            0.23s\n",
            "        20           0.6803            0.13s\n",
            "        30           0.6075            0.09s\n",
            "        40           0.5111            0.07s\n",
            "        50           0.4433            0.05s\n",
            "        60           0.3943            0.04s\n",
            "        70           0.3637            0.03s\n",
            "        80           0.3361            0.02s\n",
            "        90           0.3135            0.01s\n",
            "       100           0.2936            0.00s\n"
          ],
          "name": "stdout"
        }
      ]
    },
    {
      "cell_type": "code",
      "metadata": {
        "colab": {
          "base_uri": "https://localhost:8080/",
          "height": 374
        },
        "id": "1zPY3gaIRytR",
        "outputId": "16241127-63f7-4f0d-bda9-a31ee5741361"
      },
      "source": [
        "# rule only\n",
        "evaluation(gen_test_y, predictions)"
      ],
      "execution_count": 16,
      "outputs": [
        {
          "output_type": "stream",
          "text": [
            "Recall:  0.36363636363636365\n",
            "Accuracy:  0.6666666666666666\n",
            "Precision:  0.4\n",
            "F1:  0.380952380952381\n"
          ],
          "name": "stdout"
        },
        {
          "output_type": "display_data",
          "data": {
            "image/png": "[encoded data removed]",
            "text/plain": [
              "<Figure size 432x288 with 2 Axes>"
            ]
          },
          "metadata": {
            "tags": [],
            "needs_background": "light"
          }
        }
      ]
    },
    {
      "cell_type": "code",
      "metadata": {
        "colab": {
          "base_uri": "https://localhost:8080/"
        },
        "id": "m651GM3JOswf",
        "outputId": "24b7a30e-184e-40f0-fd78-6208cad1295a"
      },
      "source": [
        "# rule model features\n",
        "num_feats = list(gen_train_X.columns)\n",
        "feat_imp = eli5.explain_weights_df(gbc, top=10, feature_names=num_feats)\n",
        "print(feat_imp)"
      ],
      "execution_count": 17,
      "outputs": [
        {
          "output_type": "stream",
          "text": [
            "          feature    weight       std\n",
            "0         dep_sim  0.913342  0.077582\n",
            "1      check_med7  0.054628  0.066035\n",
            "2  neg_check_umls  0.029258  0.050562\n",
            "3      check_umls  0.002772  0.007961\n"
          ],
          "name": "stdout"
        }
      ]
    },
    {
      "cell_type": "markdown",
      "metadata": {
        "id": "QKXE4XQmgem6"
      },
      "source": [
        "Decision tree algorithm (gradient boosting classifier): auto learned rules only"
      ]
    },
    {
      "cell_type": "code",
      "metadata": {
        "colab": {
          "base_uri": "https://localhost:8080/"
        },
        "id": "8yxiL2WbRwR3",
        "outputId": "27d876c0-542b-4245-b13f-b4f9337a0ce6"
      },
      "source": [
        "gbc = GradientBoostingClassifier(n_estimators=100, verbose=1)\n",
        "gbc.fit(gen_train_X, gen_train_y)\n",
        "predictions = gbc.predict(gen_test_X)"
      ],
      "execution_count": 18,
      "outputs": [
        {
          "output_type": "stream",
          "text": [
            "      Iter       Train Loss   Remaining Time \n",
            "         1           1.0624            0.28s\n",
            "         2           1.0302            0.34s\n",
            "         3           0.9977            0.27s\n",
            "         4           0.9738            0.23s\n",
            "         5           0.9516            0.21s\n",
            "         6           0.9331            0.20s\n",
            "         7           0.8934            0.18s\n",
            "         8           0.8747            0.17s\n",
            "         9           0.8443            0.16s\n",
            "        10           0.8180            0.15s\n",
            "        20           0.6803            0.09s\n",
            "        30           0.6075            0.07s\n",
            "        40           0.5111            0.05s\n",
            "        50           0.4433            0.04s\n",
            "        60           0.3943            0.03s\n",
            "        70           0.3637            0.02s\n",
            "        80           0.3361            0.01s\n",
            "        90           0.3135            0.01s\n",
            "       100           0.2936            0.00s\n"
          ],
          "name": "stdout"
        }
      ]
    },
    {
      "cell_type": "code",
      "metadata": {
        "colab": {
          "base_uri": "https://localhost:8080/",
          "height": 374
        },
        "id": "rwhkwE0GR55E",
        "outputId": "38798c93-ffdd-4585-fb4e-237fb5c95ffd"
      },
      "source": [
        "# GBC only\n",
        "evaluation(gen_test_y, predictions)"
      ],
      "execution_count": 19,
      "outputs": [
        {
          "output_type": "stream",
          "text": [
            "Recall:  0.18181818181818182\n",
            "Accuracy:  0.5897435897435898\n",
            "Precision:  0.2222222222222222\n",
            "F1:  0.19999999999999998\n"
          ],
          "name": "stdout"
        },
        {
          "output_type": "display_data",
          "data": {
            "image/png": "[encoded data removed]",
            "text/plain": [
              "<Figure size 432x288 with 2 Axes>"
            ]
          },
          "metadata": {
            "tags": [],
            "needs_background": "light"
          }
        }
      ]
    },
    {
      "cell_type": "code",
      "metadata": {
        "colab": {
          "base_uri": "https://localhost:8080/"
        },
        "id": "70BXngiZO3df",
        "outputId": "0554beb4-d2dd-4e1f-b0a1-212277329ec0"
      },
      "source": [
        "# gbc model features\n",
        "num_feats = list(gen_train_X.columns)\n",
        "feat_imp = eli5.explain_weights_df(gbc, top=10, feature_names=num_feats)\n",
        "print(feat_imp)"
      ],
      "execution_count": 20,
      "outputs": [
        {
          "output_type": "stream",
          "text": [
            "          feature    weight       std\n",
            "0         dep_sim  0.912282  0.078543\n",
            "1      check_med7  0.055738  0.067712\n",
            "2  neg_check_umls  0.029207  0.049579\n",
            "3      check_umls  0.002772  0.007961\n"
          ],
          "name": "stdout"
        }
      ]
    },
    {
      "cell_type": "markdown",
      "metadata": {
        "id": "Kr2ZgqoaPDxw"
      },
      "source": [
        "MIMIC qualitative exploration"
      ]
    },
    {
      "cell_type": "code",
      "metadata": {
        "colab": {
          "base_uri": "https://localhost:8080/"
        },
        "id": "t_Pf8RdTap6s",
        "outputId": "54517ab7-3951-4b10-a444-85bbd3e5becb"
      },
      "source": [
        "# for generated dataset\n",
        "mimic_df = pd.read_csv(\"gdrive/MyDrive/6.871/mimic_features.csv\")\n",
        "print(mimic_df)"
      ],
      "execution_count": 21,
      "outputs": [
        {
          "output_type": "stream",
          "text": [
            "     Unnamed: 0  neg_check_umls  ...         conflict_type  pair_id\n",
            "0             0               0  ...         ['diagnosis']        0\n",
            "1             1               0  ...         ['diagnosis']        1\n",
            "2             2               0  ...         ['diagnosis']        2\n",
            "3             3               0  ...         ['diagnosis']        3\n",
            "4             4               0  ...         ['diagnosis']        4\n",
            "..          ...             ...  ...                   ...      ...\n",
            "836         836               0  ...              ['test']      156\n",
            "837         837               0  ...              ['test']      157\n",
            "838         838               0  ...  ['diagnosis', 'med']      158\n",
            "839         839               0  ...  ['diagnosis', 'med']      159\n",
            "840         840               0  ...  ['diagnosis', 'med']      160\n",
            "\n",
            "[841 rows x 10 columns]\n"
          ],
          "name": "stdout"
        }
      ]
    },
    {
      "cell_type": "code",
      "metadata": {
        "colab": {
          "base_uri": "https://localhost:8080/"
        },
        "id": "3TkEs0sAPH5K",
        "outputId": "9d893e34-8c06-41dd-ae56-87bda865d669"
      },
      "source": [
        "mimic_X = mimic_df[['check_umls', 'neg_check_umls', \"check_med7\", \"dep_sim\"]].copy()\n",
        "print(mimic_X)"
      ],
      "execution_count": 22,
      "outputs": [
        {
          "output_type": "stream",
          "text": [
            "     check_umls  neg_check_umls  check_med7   dep_sim\n",
            "0             1               0           0  0.761119\n",
            "1             1               0           0  0.268047\n",
            "2             1               0           0  0.588540\n",
            "3             1               0           0  0.758409\n",
            "4             1               0           0  0.808922\n",
            "..          ...             ...         ...       ...\n",
            "836           1               0           0  0.327957\n",
            "837           1               0           0  0.868670\n",
            "838           1               0           0  0.643665\n",
            "839           1               0           0  0.658082\n",
            "840           1               0           0  0.941207\n",
            "\n",
            "[841 rows x 4 columns]\n"
          ],
          "name": "stdout"
        }
      ]
    },
    {
      "cell_type": "code",
      "metadata": {
        "colab": {
          "base_uri": "https://localhost:8080/"
        },
        "id": "j6LoMzF8PJj4",
        "outputId": "70fb3643-7308-474f-c85a-0fd99b119898"
      },
      "source": [
        "# gbc only\n",
        "gbc = GradientBoostingClassifier(n_estimators=100, verbose=1)\n",
        "gbc.fit(gen_train_X, gen_train_y)\n",
        "predictions = gbc.predict(mimic_X)"
      ],
      "execution_count": 23,
      "outputs": [
        {
          "output_type": "stream",
          "text": [
            "      Iter       Train Loss   Remaining Time \n",
            "         1           1.0624            0.13s\n",
            "         2           1.0302            0.14s\n",
            "         3           0.9977            0.15s\n",
            "         4           0.9738            0.14s\n",
            "         5           0.9516            0.12s\n",
            "         6           0.9331            0.12s\n",
            "         7           0.8934            0.11s\n",
            "         8           0.8747            0.11s\n",
            "         9           0.8443            0.11s\n",
            "        10           0.8180            0.10s\n",
            "        20           0.6803            0.07s\n",
            "        30           0.6075            0.05s\n",
            "        40           0.5111            0.04s\n",
            "        50           0.4433            0.03s\n",
            "        60           0.3943            0.03s\n",
            "        70           0.3637            0.02s\n",
            "        80           0.3361            0.01s\n",
            "        90           0.3135            0.01s\n",
            "       100           0.2936            0.00s\n"
          ],
          "name": "stdout"
        }
      ]
    },
    {
      "cell_type": "code",
      "metadata": {
        "colab": {
          "base_uri": "https://localhost:8080/"
        },
        "id": "J_cg-0tFPONv",
        "outputId": "2ca2e81d-3d46-4487-c273-f0e916872b80"
      },
      "source": [
        "# positive examples\n",
        "positive_indices = np.where(predictions == 1)\n",
        "\n",
        "positive_examples_df = pd.DataFrame()\n",
        "for positive_index in tqdm(positive_indices[0]):\n",
        "  pos_example = mimic_df.iloc[positive_index]\n",
        "  positive_examples_df = pd.concat((positive_examples_df, pos_example), axis=1)\n",
        "\n",
        "positive_examples_df_transposed = positive_examples_df.T \n",
        "print(positive_examples_df_transposed)\n",
        "positive_examples_df_transposed.to_csv(\"positive_examples_mimic_eval_generated.csv\")"
      ],
      "execution_count": 29,
      "outputs": [
        {
          "output_type": "stream",
          "text": [
            "100%|██████████| 163/163 [00:00<00:00, 745.22it/s]"
          ],
          "name": "stderr"
        },
        {
          "output_type": "stream",
          "text": [
            "    Unnamed: 0 neg_check_umls check_umls  ... hadm_id         conflict_type pair_id\n",
            "4            4              0          1  ...  162197         ['diagnosis']       4\n",
            "6            6              1          1  ...  162197         ['diagnosis']       6\n",
            "15          15              1          1  ...  162197         ['diagnosis']      15\n",
            "18          18              1          1  ...  162197         ['diagnosis']      18\n",
            "23          23              0          1  ...  162197         ['diagnosis']      23\n",
            "..         ...            ...        ...  ...     ...                   ...     ...\n",
            "817        817              0          1  ...  120799               ['med']     137\n",
            "824        824              0          1  ...  120799  ['diagnosis', 'med']     144\n",
            "826        826              0          1  ...  120799                    []     146\n",
            "834        834              1          1  ...  120799              ['test']     154\n",
            "840        840              0          1  ...  120799  ['diagnosis', 'med']     160\n",
            "\n",
            "[163 rows x 10 columns]\n"
          ],
          "name": "stdout"
        },
        {
          "output_type": "stream",
          "text": [
            "\n"
          ],
          "name": "stderr"
        }
      ]
    },
    {
      "cell_type": "code",
      "metadata": {
        "colab": {
          "base_uri": "https://localhost:8080/"
        },
        "id": "em1l9yJdPXZH",
        "outputId": "2a0c5faf-b634-48fa-e568-50928829a6c4"
      },
      "source": [
        "# negative examples\n",
        "negative_indices = np.where(predictions == 0)\n",
        "\n",
        "negative_examples_df = pd.DataFrame()\n",
        "for negative_index in tqdm(negative_indices[0]):\n",
        "  neg_example = mimic_df.iloc[negative_index]\n",
        "  negative_examples_df = pd.concat((negative_examples_df, neg_example), axis=1)\n",
        "\n",
        "negative_examples_df_transposed = negative_examples_df.T\n",
        "print(negative_examples_df_transposed)\n",
        "negative_examples_df_transposed.to_csv(\"negative_examples_mimic_eval_generated.csv\")\n",
        "\n"
      ],
      "execution_count": 30,
      "outputs": [
        {
          "output_type": "stream",
          "text": [
            "100%|██████████| 678/678 [00:00<00:00, 682.98it/s]\n"
          ],
          "name": "stderr"
        },
        {
          "output_type": "stream",
          "text": [
            "    Unnamed: 0 neg_check_umls check_umls  ... hadm_id         conflict_type pair_id\n",
            "0            0              0          1  ...  162197         ['diagnosis']       0\n",
            "1            1              0          1  ...  162197         ['diagnosis']       1\n",
            "2            2              0          1  ...  162197         ['diagnosis']       2\n",
            "3            3              0          1  ...  162197         ['diagnosis']       3\n",
            "5            5              0          1  ...  162197         ['diagnosis']       5\n",
            "..         ...            ...        ...  ...     ...                   ...     ...\n",
            "835        835              1          1  ...  120799              ['test']     155\n",
            "836        836              0          1  ...  120799              ['test']     156\n",
            "837        837              0          1  ...  120799              ['test']     157\n",
            "838        838              0          1  ...  120799  ['diagnosis', 'med']     158\n",
            "839        839              0          1  ...  120799  ['diagnosis', 'med']     159\n",
            "\n",
            "[678 rows x 10 columns]\n"
          ],
          "name": "stdout"
        }
      ]
    }
  ]
}