{
  "nbformat": 4,
  "nbformat_minor": 0,
  "metadata": {
    "colab": {
      "name": "medNLI_hybrid.ipynb",
      "provenance": [],
      "collapsed_sections": []
    },
    "kernelspec": {
      "name": "python3",
      "display_name": "Python 3"
    },
    "language_info": {
      "name": "python"
    }
  },
  "cells": [
    {
      "cell_type": "code",
      "metadata": {
        "colab": {
          "base_uri": "https://localhost:8080/"
        },
        "id": "jFVWPLs3dJDe",
        "outputId": "8620b1c9-1624-4be8-aa29-ee132cdc2866"
      },
      "source": [
        "!pip install spacy==2.3.5\n",
        "!pip install scispacy==0.3.0\n",
        "!pip install eli5"
      ],
      "execution_count": 1,
      "outputs": [
        {
          "output_type": "stream",
          "text": [
            "Collecting spacy==2.3.5\n",
            "\u001b[?25l  Downloading https://files.pythonhosted.org/packages/95/89/1539c4024c339650c222b0b2ca2b3e3f13523b7a02671f8001b7b1cee6f2/spacy-2.3.5-cp37-cp37m-manylinux2014_x86_64.whl (10.4MB)\n",
            "\u001b[K     |████████████████████████████████| 10.4MB 7.4MB/s \n",
            "\u001b[?25hRequirement already satisfied: catalogue<1.1.0,>=0.0.7 in /usr/local/lib/python3.7/dist-packages (from spacy==2.3.5) (1.0.0)\n",
            "Requirement already satisfied: cymem<2.1.0,>=2.0.2 in /usr/local/lib/python3.7/dist-packages (from spacy==2.3.5) (2.0.5)\n",
            "Requirement already satisfied: numpy>=1.15.0 in /usr/local/lib/python3.7/dist-packages (from spacy==2.3.5) (1.19.5)\n",
            "Requirement already satisfied: preshed<3.1.0,>=3.0.2 in /usr/local/lib/python3.7/dist-packages (from spacy==2.3.5) (3.0.5)\n",
            "Requirement already satisfied: srsly<1.1.0,>=1.0.2 in /usr/local/lib/python3.7/dist-packages (from spacy==2.3.5) (1.0.5)\n",
            "Requirement already satisfied: blis<0.8.0,>=0.4.0 in /usr/local/lib/python3.7/dist-packages (from spacy==2.3.5) (0.4.1)\n",
            "Requirement already satisfied: setuptools in /usr/local/lib/python3.7/dist-packages (from spacy==2.3.5) (56.1.0)\n",
            "Requirement already satisfied: wasabi<1.1.0,>=0.4.0 in /usr/local/lib/python3.7/dist-packages (from spacy==2.3.5) (0.8.2)\n",
            "Requirement already satisfied: requests<3.0.0,>=2.13.0 in /usr/local/lib/python3.7/dist-packages (from spacy==2.3.5) (2.23.0)\n",
            "Requirement already satisfied: plac<1.2.0,>=0.9.6 in /usr/local/lib/python3.7/dist-packages (from spacy==2.3.5) (1.1.3)\n",
            "Collecting thinc<7.5.0,>=7.4.1\n",
            "\u001b[?25l  Downloading https://files.pythonhosted.org/packages/9a/92/71ab278f865f7565c37ed6917d0f23342e4f9a0633013113bd435cf0a691/thinc-7.4.5-cp37-cp37m-manylinux2014_x86_64.whl (1.0MB)\n",
            "\u001b[K     |████████████████████████████████| 1.1MB 41.8MB/s \n",
            "\u001b[?25hRequirement already satisfied: tqdm<5.0.0,>=4.38.0 in /usr/local/lib/python3.7/dist-packages (from spacy==2.3.5) (4.41.1)\n",
            "Requirement already satisfied: murmurhash<1.1.0,>=0.28.0 in /usr/local/lib/python3.7/dist-packages (from spacy==2.3.5) (1.0.5)\n",
            "Requirement already satisfied: importlib-metadata>=0.20; python_version < \"3.8\" in /usr/local/lib/python3.7/dist-packages (from catalogue<1.1.0,>=0.0.7->spacy==2.3.5) (4.0.1)\n",
            "Requirement already satisfied: chardet<4,>=3.0.2 in /usr/local/lib/python3.7/dist-packages (from requests<3.0.0,>=2.13.0->spacy==2.3.5) (3.0.4)\n",
            "Requirement already satisfied: certifi>=2017.4.17 in /usr/local/lib/python3.7/dist-packages (from requests<3.0.0,>=2.13.0->spacy==2.3.5) (2020.12.5)\n",
            "Requirement already satisfied: idna<3,>=2.5 in /usr/local/lib/python3.7/dist-packages (from requests<3.0.0,>=2.13.0->spacy==2.3.5) (2.10)\n",
            "Requirement already satisfied: urllib3!=1.25.0,!=1.25.1,<1.26,>=1.21.1 in /usr/local/lib/python3.7/dist-packages (from requests<3.0.0,>=2.13.0->spacy==2.3.5) (1.24.3)\n",
            "Requirement already satisfied: typing-extensions>=3.6.4; python_version < \"3.8\" in /usr/local/lib/python3.7/dist-packages (from importlib-metadata>=0.20; python_version < \"3.8\"->catalogue<1.1.0,>=0.0.7->spacy==2.3.5) (3.7.4.3)\n",
            "Requirement already satisfied: zipp>=0.5 in /usr/local/lib/python3.7/dist-packages (from importlib-metadata>=0.20; python_version < \"3.8\"->catalogue<1.1.0,>=0.0.7->spacy==2.3.5) (3.4.1)\n",
            "Installing collected packages: thinc, spacy\n",
            "  Found existing installation: thinc 7.4.0\n",
            "    Uninstalling thinc-7.4.0:\n",
            "      Successfully uninstalled thinc-7.4.0\n",
            "  Found existing installation: spacy 2.2.4\n",
            "    Uninstalling spacy-2.2.4:\n",
            "      Successfully uninstalled spacy-2.2.4\n",
            "Successfully installed spacy-2.3.5 thinc-7.4.5\n",
            "Collecting scispacy==0.3.0\n",
            "\u001b[?25l  Downloading https://files.pythonhosted.org/packages/7b/0c/e1dc89d73122677cdee8a2d4e734c608c5f112e0c4ea2886f0944ceff1b6/scispacy-0.3.0-py3-none-any.whl (42kB)\n",
            "\u001b[K     |████████████████████████████████| 51kB 3.4MB/s \n",
            "\u001b[?25hRequirement already satisfied: numpy in /usr/local/lib/python3.7/dist-packages (from scispacy==0.3.0) (1.19.5)\n",
            "Requirement already satisfied: scikit-learn>=0.20.3 in /usr/local/lib/python3.7/dist-packages (from scispacy==0.3.0) (0.22.2.post1)\n",
            "Requirement already satisfied: spacy<3.0.0,>=2.3.0 in /usr/local/lib/python3.7/dist-packages (from scispacy==0.3.0) (2.3.5)\n",
            "Requirement already satisfied: requests<3.0.0conllu,>=2.0.0 in /usr/local/lib/python3.7/dist-packages (from scispacy==0.3.0) (2.23.0)\n",
            "Collecting pysbd\n",
            "\u001b[?25l  Downloading https://files.pythonhosted.org/packages/48/0a/c99fb7d7e176f8b176ef19704a32e6a9c6aafdf19ef75a187f701fc15801/pysbd-0.3.4-py3-none-any.whl (71kB)\n",
            "\u001b[K     |████████████████████████████████| 71kB 4.7MB/s \n",
            "\u001b[?25hRequirement already satisfied: joblib in /usr/local/lib/python3.7/dist-packages (from scispacy==0.3.0) (1.0.1)\n",
            "Collecting nmslib>=1.7.3.6\n",
            "\u001b[?25l  Downloading https://files.pythonhosted.org/packages/be/77/aebbd03a32488024d2ae2230b47a28f6fa83c887318e673fa5d3234f7772/nmslib-2.1.1-cp37-cp37m-manylinux2010_x86_64.whl (13.5MB)\n",
            "\u001b[K     |████████████████████████████████| 13.5MB 309kB/s \n",
            "\u001b[?25hRequirement already satisfied: scipy>=0.17.0 in /usr/local/lib/python3.7/dist-packages (from scikit-learn>=0.20.3->scispacy==0.3.0) (1.4.1)\n",
            "Requirement already satisfied: catalogue<1.1.0,>=0.0.7 in /usr/local/lib/python3.7/dist-packages (from spacy<3.0.0,>=2.3.0->scispacy==0.3.0) (1.0.0)\n",
            "Requirement already satisfied: tqdm<5.0.0,>=4.38.0 in /usr/local/lib/python3.7/dist-packages (from spacy<3.0.0,>=2.3.0->scispacy==0.3.0) (4.41.1)\n",
            "Requirement already satisfied: plac<1.2.0,>=0.9.6 in /usr/local/lib/python3.7/dist-packages (from spacy<3.0.0,>=2.3.0->scispacy==0.3.0) (1.1.3)\n",
            "Requirement already satisfied: blis<0.8.0,>=0.4.0 in /usr/local/lib/python3.7/dist-packages (from spacy<3.0.0,>=2.3.0->scispacy==0.3.0) (0.4.1)\n",
            "Requirement already satisfied: thinc<7.5.0,>=7.4.1 in /usr/local/lib/python3.7/dist-packages (from spacy<3.0.0,>=2.3.0->scispacy==0.3.0) (7.4.5)\n",
            "Requirement already satisfied: wasabi<1.1.0,>=0.4.0 in /usr/local/lib/python3.7/dist-packages (from spacy<3.0.0,>=2.3.0->scispacy==0.3.0) (0.8.2)\n",
            "Requirement already satisfied: cymem<2.1.0,>=2.0.2 in /usr/local/lib/python3.7/dist-packages (from spacy<3.0.0,>=2.3.0->scispacy==0.3.0) (2.0.5)\n",
            "Requirement already satisfied: setuptools in /usr/local/lib/python3.7/dist-packages (from spacy<3.0.0,>=2.3.0->scispacy==0.3.0) (56.1.0)\n",
            "Requirement already satisfied: srsly<1.1.0,>=1.0.2 in /usr/local/lib/python3.7/dist-packages (from spacy<3.0.0,>=2.3.0->scispacy==0.3.0) (1.0.5)\n",
            "Requirement already satisfied: preshed<3.1.0,>=3.0.2 in /usr/local/lib/python3.7/dist-packages (from spacy<3.0.0,>=2.3.0->scispacy==0.3.0) (3.0.5)\n",
            "Requirement already satisfied: murmurhash<1.1.0,>=0.28.0 in /usr/local/lib/python3.7/dist-packages (from spacy<3.0.0,>=2.3.0->scispacy==0.3.0) (1.0.5)\n",
            "Requirement already satisfied: certifi>=2017.4.17 in /usr/local/lib/python3.7/dist-packages (from requests<3.0.0conllu,>=2.0.0->scispacy==0.3.0) (2020.12.5)\n",
            "Requirement already satisfied: idna<3,>=2.5 in /usr/local/lib/python3.7/dist-packages (from requests<3.0.0conllu,>=2.0.0->scispacy==0.3.0) (2.10)\n",
            "Requirement already satisfied: chardet<4,>=3.0.2 in /usr/local/lib/python3.7/dist-packages (from requests<3.0.0conllu,>=2.0.0->scispacy==0.3.0) (3.0.4)\n",
            "Requirement already satisfied: urllib3!=1.25.0,!=1.25.1,<1.26,>=1.21.1 in /usr/local/lib/python3.7/dist-packages (from requests<3.0.0conllu,>=2.0.0->scispacy==0.3.0) (1.24.3)\n",
            "Requirement already satisfied: psutil in /usr/local/lib/python3.7/dist-packages (from nmslib>=1.7.3.6->scispacy==0.3.0) (5.4.8)\n",
            "Collecting pybind11<2.6.2\n",
            "\u001b[?25l  Downloading https://files.pythonhosted.org/packages/00/84/fc9dc13ee536ba5e6b8fd10ce368fea5b738fe394c3b296cde7c9b144a92/pybind11-2.6.1-py2.py3-none-any.whl (188kB)\n",
            "\u001b[K     |████████████████████████████████| 194kB 43.7MB/s \n",
            "\u001b[?25hRequirement already satisfied: importlib-metadata>=0.20; python_version < \"3.8\" in /usr/local/lib/python3.7/dist-packages (from catalogue<1.1.0,>=0.0.7->spacy<3.0.0,>=2.3.0->scispacy==0.3.0) (4.0.1)\n",
            "Requirement already satisfied: typing-extensions>=3.6.4; python_version < \"3.8\" in /usr/local/lib/python3.7/dist-packages (from importlib-metadata>=0.20; python_version < \"3.8\"->catalogue<1.1.0,>=0.0.7->spacy<3.0.0,>=2.3.0->scispacy==0.3.0) (3.7.4.3)\n",
            "Requirement already satisfied: zipp>=0.5 in /usr/local/lib/python3.7/dist-packages (from importlib-metadata>=0.20; python_version < \"3.8\"->catalogue<1.1.0,>=0.0.7->spacy<3.0.0,>=2.3.0->scispacy==0.3.0) (3.4.1)\n",
            "Installing collected packages: pysbd, pybind11, nmslib, scispacy\n",
            "Successfully installed nmslib-2.1.1 pybind11-2.6.1 pysbd-0.3.4 scispacy-0.3.0\n",
            "Collecting eli5\n",
            "\u001b[?25l  Downloading https://files.pythonhosted.org/packages/d1/54/04cab6e1c0ae535bec93f795d8403fdf6caf66fa5a6512263202dbb14ea6/eli5-0.11.0-py2.py3-none-any.whl (106kB)\n",
            "\u001b[K     |████████████████████████████████| 112kB 7.8MB/s \n",
            "\u001b[?25hRequirement already satisfied: scipy in /usr/local/lib/python3.7/dist-packages (from eli5) (1.4.1)\n",
            "Requirement already satisfied: tabulate>=0.7.7 in /usr/local/lib/python3.7/dist-packages (from eli5) (0.8.9)\n",
            "Requirement already satisfied: jinja2 in /usr/local/lib/python3.7/dist-packages (from eli5) (2.11.3)\n",
            "Requirement already satisfied: numpy>=1.9.0 in /usr/local/lib/python3.7/dist-packages (from eli5) (1.19.5)\n",
            "Requirement already satisfied: graphviz in /usr/local/lib/python3.7/dist-packages (from eli5) (0.10.1)\n",
            "Requirement already satisfied: six in /usr/local/lib/python3.7/dist-packages (from eli5) (1.15.0)\n",
            "Requirement already satisfied: scikit-learn>=0.20 in /usr/local/lib/python3.7/dist-packages (from eli5) (0.22.2.post1)\n",
            "Requirement already satisfied: attrs>16.0.0 in /usr/local/lib/python3.7/dist-packages (from eli5) (21.2.0)\n",
            "Requirement already satisfied: MarkupSafe>=0.23 in /usr/local/lib/python3.7/dist-packages (from jinja2->eli5) (1.1.1)\n",
            "Requirement already satisfied: joblib>=0.11 in /usr/local/lib/python3.7/dist-packages (from scikit-learn>=0.20->eli5) (1.0.1)\n",
            "Installing collected packages: eli5\n",
            "Successfully installed eli5-0.11.0\n"
          ],
          "name": "stdout"
        }
      ]
    },
    {
      "cell_type": "code",
      "metadata": {
        "colab": {
          "base_uri": "https://localhost:8080/"
        },
        "id": "S-0hult4dO5o",
        "outputId": "377432cb-8b1b-4465-fcbb-6277f3c8f9e0"
      },
      "source": [
        "import spacy\n",
        "import scispacy\n",
        "import eli5\n",
        "\n",
        "from tqdm import tqdm\n",
        "from pprint import pprint\n",
        "from collections import OrderedDict\n",
        "import pandas as pd\n",
        "\n",
        "from spacy import displacy\n",
        "from scispacy.umls_linking import UmlsEntityLinker\n",
        "\n",
        "from sklearn.base import BaseEstimator\n",
        "from typing import Dict, Tuple\n",
        "import numpy as np\n",
        "\n",
        "from sklearn.ensemble import GradientBoostingClassifier\n",
        "\n",
        "# Standard Imports\n",
        "import seaborn as sns\n",
        "import matplotlib.pyplot as plt\n",
        "import pickle\n",
        "\n",
        "# Transformers\n",
        "from sklearn.preprocessing import LabelEncoder, OneHotEncoder, StandardScaler, MinMaxScaler\n",
        "\n",
        "# Modeling Evaluation\n",
        "from sklearn.model_selection import train_test_split, cross_val_score, KFold, GridSearchCV\n",
        "from sklearn.pipeline import Pipeline, FeatureUnion\n",
        "from sklearn.compose import ColumnTransformer\n",
        "from sklearn.metrics import accuracy_score, precision_score, recall_score,f1_score, confusion_matrix, classification_report\n",
        "from IPython.display import display, Markdown\n",
        "\n",
        "\n",
        "# should be 2.3.5 and >=0.3.0\n",
        "spacy.__version__, scispacy.__version__"
      ],
      "execution_count": 2,
      "outputs": [
        {
          "output_type": "stream",
          "text": [
            "/usr/local/lib/python3.7/dist-packages/sklearn/utils/deprecation.py:144: FutureWarning: The sklearn.feature_selection.base module is  deprecated in version 0.22 and will be removed in version 0.24. The corresponding classes / functions should instead be imported from sklearn.feature_selection. Anything that cannot be imported from sklearn.feature_selection is now part of the private API.\n",
            "  warnings.warn(message, FutureWarning)\n"
          ],
          "name": "stderr"
        },
        {
          "output_type": "execute_result",
          "data": {
            "text/plain": [
              "('2.3.5', '0.3.0')"
            ]
          },
          "metadata": {
            "tags": []
          },
          "execution_count": 2
        }
      ]
    },
    {
      "cell_type": "code",
      "metadata": {
        "colab": {
          "base_uri": "https://localhost:8080/"
        },
        "id": "Nm9tIpWqdQ24",
        "outputId": "37dffe91-c18c-4100-8214-b893655937c1"
      },
      "source": [
        "from google.colab import drive \n",
        "drive.mount('/content/gdrive')"
      ],
      "execution_count": 3,
      "outputs": [
        {
          "output_type": "stream",
          "text": [
            "Mounted at /content/gdrive\n"
          ],
          "name": "stdout"
        }
      ]
    },
    {
      "cell_type": "markdown",
      "metadata": {
        "id": "ybV5UdB7dT-y"
      },
      "source": [
        "Read in structured data with relevant features (MedNLI and hand labeled data)"
      ]
    },
    {
      "cell_type": "code",
      "metadata": {
        "id": "GVNgLyvHJwSh"
      },
      "source": [
        "# read in hand labeled data\n",
        "hand_df = pd.read_csv(\"gdrive/MyDrive/6.871/hand_labeled_mimic_features.csv\")"
      ],
      "execution_count": 6,
      "outputs": []
    },
    {
      "cell_type": "code",
      "metadata": {
        "colab": {
          "base_uri": "https://localhost:8080/"
        },
        "id": "M3LIXSkSKAS_",
        "outputId": "48420697-f0a5-43ba-b40e-ab2779fe4614"
      },
      "source": [
        "print(hand_df)\n",
        "print(len(hand_df))"
      ],
      "execution_count": 7,
      "outputs": [
        {
          "output_type": "stream",
          "text": [
            "    Unnamed: 0  neg_check_umls  ...  pair_id  contradiction?\n",
            "0            0               1  ...        0               0\n",
            "1            1               0  ...        1               0\n",
            "2            2               0  ...        2               0\n",
            "3            3               1  ...        3               0\n",
            "4            4               0  ...        4               0\n",
            "5            5               0  ...        5               0\n",
            "6            6               1  ...        6               0\n",
            "7            7               0  ...        7               0\n",
            "8            8               0  ...        8               0\n",
            "9            9               1  ...        9               0\n",
            "10          10               0  ...       10               0\n",
            "11          11               1  ...       11               0\n",
            "12          12               0  ...       12               0\n",
            "13          13               0  ...       13               1\n",
            "14          14               0  ...       14               0\n",
            "15          15               0  ...       15               0\n",
            "16          16               0  ...       16               0\n",
            "17          17               0  ...       17               0\n",
            "18          18               0  ...       18               0\n",
            "19          19               0  ...       19               0\n",
            "20          20               0  ...       20               0\n",
            "21          21               0  ...       21               0\n",
            "22          22               0  ...       22               0\n",
            "23          23               0  ...       23               0\n",
            "24          24               0  ...       24               0\n",
            "25          25               0  ...       25               0\n",
            "26          26               0  ...       26               0\n",
            "27          27               0  ...       27               0\n",
            "28          28               0  ...       28               0\n",
            "29          29               0  ...       29               0\n",
            "30          30               0  ...       30               0\n",
            "31          31               0  ...       31               0\n",
            "32          32               1  ...       32               0\n",
            "33          33               0  ...       33               0\n",
            "34          34               0  ...       34               0\n",
            "35          35               0  ...       35               0\n",
            "36          36               0  ...       36               0\n",
            "37          37               0  ...       37               0\n",
            "38          38               1  ...       38               0\n",
            "39          39               1  ...       39               0\n",
            "40          40               1  ...       40               1\n",
            "41          41               1  ...       41               0\n",
            "42          42               0  ...       42               0\n",
            "43          43               0  ...       43               1\n",
            "44          44               0  ...       44               0\n",
            "45          45               0  ...       45               0\n",
            "46          46               0  ...       46               0\n",
            "47          47               1  ...       47               0\n",
            "48          48               1  ...       48               0\n",
            "49          49               0  ...       49               1\n",
            "50          50               0  ...       50               1\n",
            "51          51               0  ...       51               1\n",
            "52          52               1  ...       52               0\n",
            "53          53               0  ...       53               1\n",
            "\n",
            "[54 rows x 11 columns]\n",
            "54\n"
          ],
          "name": "stdout"
        }
      ]
    },
    {
      "cell_type": "code",
      "metadata": {
        "id": "fP_Gos0HKB6g"
      },
      "source": [
        "# split labeled data into training, testing sets for hand labeled data\n",
        "\n",
        "hand_X = hand_df[['check_umls', 'neg_check_umls', \"check_med7\", \"dep_sim\"]].copy()\n",
        "hand_y = hand_df[\"contradiction?\"]\n",
        "\n",
        "hand_train_X, hand_test_X, hand_train_y, hand_test_y = train_test_split(hand_X, hand_y, test_size=0.2)"
      ],
      "execution_count": 17,
      "outputs": []
    },
    {
      "cell_type": "code",
      "metadata": {
        "colab": {
          "base_uri": "https://localhost:8080/"
        },
        "id": "HW3UU8NDdSOx",
        "outputId": "aa72944d-de27-4071-8916-70e12d694d83"
      },
      "source": [
        "# split labeled data into training, testing sets for MedNLI data\n",
        "train_df = pd.read_csv(\"gdrive/MyDrive/6.871/train_features.csv\")\n",
        "dev_df = pd.read_csv(\"gdrive/MyDrive/6.871/dev_features.csv\")\n",
        "test_df = pd.read_csv(\"gdrive/MyDrive/6.871/test_features.csv\")\n",
        "\n",
        "total_train_df = pd.concat((train_df, dev_df), axis=0)\n",
        "print(total_train_df)"
      ],
      "execution_count": 12,
      "outputs": [
        {
          "output_type": "stream",
          "text": [
            "      Unnamed: 0  baseline   cr  ...  vaccines  vaccine  euvolemic\n",
            "0              0       1.0  1.0  ...       NaN      NaN        NaN\n",
            "1              1       0.0  1.0  ...       NaN      NaN        NaN\n",
            "2              0       1.0  1.0  ...       NaN      NaN        NaN\n",
            "3              1       0.0  1.0  ...       NaN      NaN        NaN\n",
            "4              0       NaN  NaN  ...       NaN      NaN        NaN\n",
            "...          ...       ...  ...  ...       ...      ...        ...\n",
            "1893           1       NaN  NaN  ...       NaN      NaN        NaN\n",
            "1894           0       NaN  NaN  ...       NaN      NaN        NaN\n",
            "1895           1       NaN  NaN  ...       NaN      NaN        NaN\n",
            "1896           0       NaN  NaN  ...       NaN      NaN        NaN\n",
            "1897           1       NaN  NaN  ...       NaN      NaN        NaN\n",
            "\n",
            "[16874 rows x 7469 columns]\n"
          ],
          "name": "stdout"
        }
      ]
    },
    {
      "cell_type": "code",
      "metadata": {
        "colab": {
          "base_uri": "https://localhost:8080/"
        },
        "id": "p31ELJ2sdXhd",
        "outputId": "7fcf8c46-3748-4880-bf75-08b981608d7b"
      },
      "source": [
        "# fill Na with 0\n",
        "total_train_df = total_train_df.fillna(0)\n",
        "test_df = test_df.fillna(0)\n",
        "\n",
        "# split into training and test sets with relevant features\n",
        "total_train_X = total_train_df[['check_umls', 'neg_check_umls', \"check_med7\", \"dep_sim\"]].copy()\n",
        "total_train_y = total_train_df[\"contradiction?\"]\n",
        "\n",
        "total_test_X = test_df[['check_umls', 'neg_check_umls', \"check_med7\", \"dep_sim\"]].copy()\n",
        "total_test_y = test_df[\"contradiction?\"]\n",
        "\n",
        "train_X = pd.concat((total_train_X, hand_train_X), axis=0)\n",
        "test_X = pd.concat((total_test_X, hand_test_X), axis=0)\n",
        "train_y = pd.concat((total_train_y, hand_train_y), axis=0)\n",
        "test_y = pd.concat((total_test_y, hand_test_y), axis=0)\n",
        "\n",
        "print(train_X)\n",
        "print(test_X)\n",
        "print(train_y)\n",
        "print(test_y)"
      ],
      "execution_count": 20,
      "outputs": [
        {
          "output_type": "stream",
          "text": [
            "    check_umls  neg_check_umls  check_med7   dep_sim\n",
            "0            0               0           0  0.611129\n",
            "1            0               0           0  0.611129\n",
            "2            0               0           0  0.564029\n",
            "3            0               0           0  0.564029\n",
            "4            0               0           0  0.652266\n",
            "..         ...             ...         ...       ...\n",
            "7            0               0           0  0.713808\n",
            "36           1               0           0  0.629654\n",
            "24           1               0           1  0.388291\n",
            "37           1               0           0  0.609080\n",
            "39           0               1           0  0.705798\n",
            "\n",
            "[16917 rows x 4 columns]\n",
            "    check_umls  neg_check_umls  check_med7   dep_sim\n",
            "0            0               0           0  0.591419\n",
            "1            0               0           0  0.591419\n",
            "2            0               0           0  0.595948\n",
            "3            0               0           0  0.595948\n",
            "4            0               0           0  0.832968\n",
            "..         ...             ...         ...       ...\n",
            "9            1               1           0  0.847793\n",
            "53           1               0           0  0.839883\n",
            "12           1               0           0  0.768048\n",
            "47           1               1           0  0.495445\n",
            "10           1               0           0  0.824536\n",
            "\n",
            "[1907 rows x 4 columns]\n",
            "0     0\n",
            "1     0\n",
            "2     1\n",
            "3     1\n",
            "4     0\n",
            "     ..\n",
            "7     0\n",
            "36    0\n",
            "24    0\n",
            "37    0\n",
            "39    0\n",
            "Name: contradiction?, Length: 16917, dtype: int64\n",
            "0     0\n",
            "1     0\n",
            "2     1\n",
            "3     1\n",
            "4     0\n",
            "     ..\n",
            "9     0\n",
            "53    1\n",
            "12    0\n",
            "47    0\n",
            "10    0\n",
            "Name: contradiction?, Length: 1907, dtype: int64\n"
          ],
          "name": "stdout"
        }
      ]
    },
    {
      "cell_type": "code",
      "metadata": {
        "id": "Jv0Ctz-VdnhC"
      },
      "source": [
        "# RULES:\n",
        "# check_umls: if they do not share a concept, return 1 (no contradiction)\n",
        "# neg_check_umls: if number of neg tokens is equal, return 0 (no contradiction); otherwise, return 1 (contradiction)\n",
        "# check_med7: if not talking about same DRUG -> return 0 (no contradiction); if same DRUG but different other info -> return 1 (contradiction)\n",
        "# dep_sim: if similarity < 0.5 (contradiction)\n",
        "\n",
        "\n",
        "rules = {\"check_umls\": [\n",
        "                (\"=\", 1, 0.0)\n",
        "              ], \n",
        "        \"neg_check_umls\": [\n",
        "                (\"=\", 1, 1.0)\n",
        "              ],\n",
        "         \"check_med7\": [\n",
        "                (\"=\", 1, 1.0)\n",
        "              ],\n",
        "         \"dep_sim\": [\n",
        "                (\"<\", 0.5, 1.0)\n",
        "              ]\n",
        "        }"
      ],
      "execution_count": 21,
      "outputs": []
    },
    {
      "cell_type": "code",
      "metadata": {
        "id": "sZHok0EKdqmV"
      },
      "source": [
        "class RuleAugmentedEstimator(BaseEstimator):\n",
        "  \"\"\"\n",
        "  Augments sklearn estimators with deterministic rule-based logic.\n",
        "  \"\"\"\n",
        "\n",
        "  def __init__(self, base_model: BaseEstimator, rules: Dict, **base_params):\n",
        "      \"\"\"\n",
        "      Initializes the rule-augmented estimator by supplying underlying sklearn estimator\n",
        "      and hard-coded rules.\n",
        "\n",
        "      Args:\n",
        "        base_model: underlying sklearn estimator.\n",
        "          Must implement fit and predict method.\n",
        "        rules: hard coded rules in format of dictionary,\n",
        "          with keys being the pandas dataframe column name, \n",
        "          and values being a tuple in the following form: \n",
        "          (comparison operator, value, return value)\n",
        "\n",
        "          Acceptable comparison operators are: \n",
        "          \"=\", \"<\", \">\", \"<=\", \">=\"\n",
        "\n",
        "          Example:\n",
        "                \n",
        "                {\"House Type\": [\n",
        "                    (\"=\", \"Penthouse\", 1.0),\n",
        "                    (\"=\", \"Shack\", 0.0)\n",
        "                  ],\n",
        "                  \"House Price\": [\n",
        "                      (\"<\", 1000.0, 0.0),\n",
        "                      (\">=\", 500000.0, 1.0)\n",
        "                ]}\n",
        "        **base_params: Optional keyword arguments which will be passed on\n",
        "            to the base_model.\n",
        "\n",
        "      \"\"\"\n",
        "      self.rules = rules\n",
        "      self.base_model = base_model\n",
        "      self.base_model.set_params(**base_params)\n",
        "      self.outcome_range = [0,1]\n",
        "\n",
        "  def __repr__(self):\n",
        "      return \"Rule Augmented Estimator:\\n\\n\\t Base Model: {}\\n\\t Rules: {}\".format(self.base_model, self.rules)\n",
        "\n",
        "  def __str__(self):\n",
        "      return self.__str__\n",
        "\n",
        "  def _get_base_model_data(self, X: pd.DataFrame, y: pd.Series) -> Tuple[pd.DataFrame, pd.Series]:\n",
        "      \"\"\"\n",
        "      Filters the training data for data points not affected by the rules.\n",
        "      \"\"\"\n",
        "      train_x = X\n",
        "\n",
        "      for category, rules in self.rules.items():\n",
        "\n",
        "          if category not in train_x.columns.values: continue\n",
        "\n",
        "          for rule in rules:\n",
        "\n",
        "              if rule[0] == \"=\":\n",
        "                  train_x = train_x.loc[train_x[category] != rule[1]]\n",
        "\n",
        "              elif rule[0] == \"<\":\n",
        "                  train_x = train_x.loc[train_x[category] >= rule[1]]\n",
        "\n",
        "              elif rule[0] == \">\":\n",
        "                  train_x = train_x.loc[train_x[category] <= rule[1]]\n",
        "\n",
        "              elif rule[0] == \"<=\":\n",
        "                  train_x = train_x.loc[train_x[category] > rule[1]]\n",
        "\n",
        "              elif rule[0] == \">=\":\n",
        "                  train_x = train_x.loc[train_x[category] < rule[1]]\n",
        "\n",
        "              else:\n",
        "                  print(\"Invalid rule detected: {}\".format(rule))\n",
        "              \n",
        "      indices = train_x.index.values\n",
        "      train_y = y.iloc[indices]\n",
        "      \n",
        "      train_x = train_x.reset_index(drop=True)\n",
        "      train_y = train_y.reset_index(drop=True)\n",
        "      \n",
        "      return train_x, train_y   \n",
        "\n",
        "  def fit(self, X: pd.DataFrame, y: pd.Series, **kwargs):\n",
        "      \"\"\"Fits the estimator to the data.\n",
        "      \n",
        "      Fits the estimator to the data, only training the underlying estimator\n",
        "      on data which isn't affected by the hard-coded rules.\n",
        "      \n",
        "      Args:\n",
        "          X: The training feature data.\n",
        "          y: The training label data.\n",
        "          **kwargs: Optional keyword arguments passed to the underlying\n",
        "          estimator's fit function.\n",
        "              \n",
        "      \"\"\"\n",
        "      train_x, train_y = self._get_base_model_data(X, y)\n",
        "      self.base_model.fit(train_x, train_y, **kwargs)\n",
        "\n",
        "  def predict(self, X: pd.DataFrame) -> np.array:\n",
        "      \"\"\"Gets predictions for the provided feature data.\n",
        "      \n",
        "      The predicitons are evaluated using the provided rules wherever possible\n",
        "      otherwise the underlying estimator is used.\n",
        "      \n",
        "      Args:\n",
        "          X: The feature data to evaluate predictions for.\n",
        "      \n",
        "      Returns:\n",
        "          np.array: Evaluated predictions.\n",
        "      \"\"\"\n",
        "      \n",
        "      p_X = X.copy()\n",
        "      p_X['prediction'] = np.nan\n",
        "\n",
        "      for category, rules in self.rules.items():\n",
        "\n",
        "          if category not in p_X.columns.values: continue\n",
        "\n",
        "          for rule in rules:\n",
        "\n",
        "              if rule[0] == \"=\":\n",
        "                  p_X.loc[p_X[category] == rule[1], 'prediction'] = rule[2]\n",
        "\n",
        "              elif rule[0] == \"<\":\n",
        "                  p_X.loc[p_X[category] < rule[1], 'prediction'] = rule[2]\n",
        "\n",
        "              elif rule[0] == \">\":\n",
        "                  p_X.loc[p_X[category] > rule[1], 'prediction'] = rule[2]\n",
        "\n",
        "              elif rule[0] == \"<=\":\n",
        "                  p_X.loc[p_X[category] <= rule[1], 'prediction'] = rule[2]\n",
        "\n",
        "              elif rule[0] == \">=\":\n",
        "                  p_X.loc[p_X[category] >= rule[1], 'prediction'] = rule[2]\n",
        "\n",
        "              else:\n",
        "                  print(\"Invalid rule detected: {}\".format(rule))\n",
        "\n",
        "      if len(p_X.loc[p_X['prediction'].isna()].index != 0):\n",
        "\n",
        "          base_X = p_X.loc[p_X['prediction'].isna()].copy()\n",
        "          base_X.drop('prediction', axis=1, inplace=True)\n",
        "          p_X.loc[p_X['prediction'].isna(), 'prediction'] = self.base_model.predict(base_X)\n",
        "\n",
        "      return p_X['prediction'].values\n",
        "    \n",
        "  def get_params(self, deep: bool = True) -> Dict:\n",
        "      \"\"\"Return the model's and base model's parameters.\n",
        "      Args:\n",
        "          deep: Whether to recursively return the base model's parameters.\n",
        "      Returns\n",
        "          Dict: The model's parameters.\n",
        "      \"\"\"\n",
        "      \n",
        "      params = {'base_model': self.base_model,\n",
        "                'outcome_range': self.outcome_range,\n",
        "                'rules': self.rules\n",
        "                }\n",
        "\n",
        "      params.update(self.base_model.get_params(deep=deep))\n",
        "      return params\n",
        "    \n",
        "  def set_params(self, **params):\n",
        "      \"\"\"Sets parameters for the model and base model.\n",
        "      Args:\n",
        "          **params: Optional keyword arguments.\n",
        "      \"\"\"\n",
        "                \n",
        "      parameters = params\n",
        "      param_keys = parameters.keys()\n",
        "      \n",
        "      if 'base_model' in param_keys:\n",
        "          value = parameters.pop('base_model')\n",
        "          self.base_model = value"
      ],
      "execution_count": 22,
      "outputs": []
    },
    {
      "cell_type": "code",
      "metadata": {
        "id": "Z553bqQOdwF7"
      },
      "source": [
        "def evaluation(y, y_hat, title = 'Confusion Matrix'):\n",
        "    cm = confusion_matrix(y, y_hat)\n",
        "    precision = precision_score(y, y_hat)\n",
        "    recall = recall_score(y, y_hat)\n",
        "    accuracy = accuracy_score(y,y_hat)\n",
        "    f1 = f1_score(y,y_hat)\n",
        "    print('Recall: ', recall)\n",
        "    print('Accuracy: ', accuracy)\n",
        "    print('Precision: ', precision)\n",
        "    print('F1: ', f1)\n",
        "    sns.heatmap(cm,  cmap= 'PuBu', annot=True, fmt='g', annot_kws=    {'size':20})\n",
        "    plt.xlabel('predicted', fontsize=18)\n",
        "    plt.ylabel('actual', fontsize=18)\n",
        "    plt.title(title, fontsize=18)\n",
        "    \n",
        "    plt.show();"
      ],
      "execution_count": 23,
      "outputs": []
    },
    {
      "cell_type": "code",
      "metadata": {
        "colab": {
          "base_uri": "https://localhost:8080/"
        },
        "id": "6NlcOvUzdxSV",
        "outputId": "74f27e9c-a3c4-4312-ea04-bcdbede667d1"
      },
      "source": [
        "# fit the hybrid model with relevant features\n",
        "gbc = GradientBoostingClassifier(n_estimators=100, verbose=1)\n",
        "hybrid_model = RuleAugmentedEstimator(gbc, rules)\n",
        "\n",
        "hybrid_model.fit(train_X, train_y)\n",
        "predictions = hybrid_model.predict(test_X)"
      ],
      "execution_count": 24,
      "outputs": [
        {
          "output_type": "stream",
          "text": [
            "      Iter       Train Loss   Remaining Time \n",
            "         1           1.3740            0.85s\n",
            "         2           1.3716            0.77s\n",
            "         3           1.3696            0.73s\n",
            "         4           1.3678            0.72s\n",
            "         5           1.3662            0.70s\n",
            "         6           1.3647            0.69s\n",
            "         7           1.3635            0.67s\n",
            "         8           1.3620            0.66s\n",
            "         9           1.3610            0.67s\n",
            "        10           1.3599            0.66s\n",
            "        20           1.3503            0.53s\n",
            "        30           1.3435            0.48s\n",
            "        40           1.3374            0.41s\n",
            "        50           1.3316            0.35s\n",
            "        60           1.3266            0.29s\n",
            "        70           1.3212            0.21s\n",
            "        80           1.3163            0.14s\n",
            "        90           1.3105            0.07s\n",
            "       100           1.3056            0.00s\n"
          ],
          "name": "stdout"
        }
      ]
    },
    {
      "cell_type": "code",
      "metadata": {
        "colab": {
          "base_uri": "https://localhost:8080/",
          "height": 374
        },
        "id": "kfA-ibCSd6yE",
        "outputId": "f9364bdc-6f2f-495a-9a2c-8f57668a1dcb"
      },
      "source": [
        "# hybrid (with hand labeled)\n",
        "evaluation(test_y, predictions)"
      ],
      "execution_count": 25,
      "outputs": [
        {
          "output_type": "stream",
          "text": [
            "Recall:  0.5842105263157895\n",
            "Accuracy:  0.605138961719979\n",
            "Precision:  0.6078860898138007\n",
            "F1:  0.5958132045088567\n"
          ],
          "name": "stdout"
        },
        {
          "output_type": "display_data",
          "data": {
            "image/png": "[encoded data removed]",
            "text/plain": [
              "<Figure size 432x288 with 2 Axes>"
            ]
          },
          "metadata": {
            "tags": [],
            "needs_background": "light"
          }
        }
      ]
    },
    {
      "cell_type": "code",
      "metadata": {
        "colab": {
          "base_uri": "https://localhost:8080/"
        },
        "id": "emqw2nGRMUUb",
        "outputId": "fd33a727-e3bb-4a17-9730-535b3189fbf6"
      },
      "source": [
        "# hybrid model features\n",
        "num_feats = list(train_X.columns)\n",
        "feat_imp = eli5.explain_weights_df(gbc, top=10, feature_names=num_feats)\n",
        "print(feat_imp)"
      ],
      "execution_count": 36,
      "outputs": [
        {
          "output_type": "stream",
          "text": [
            "          feature    weight       std\n",
            "0  neg_check_umls  0.476461  0.238417\n",
            "1         dep_sim  0.428110  0.275289\n",
            "2      check_umls  0.088961  0.052533\n",
            "3      check_med7  0.006468  0.041916\n"
          ],
          "name": "stdout"
        }
      ]
    },
    {
      "cell_type": "markdown",
      "metadata": {
        "id": "z9cBCpiKebgr"
      },
      "source": [
        "Rule based model only"
      ]
    },
    {
      "cell_type": "code",
      "metadata": {
        "id": "u-yCNt3gehFu"
      },
      "source": [
        "class RuleBasedEstimator(BaseEstimator):\n",
        "  \"\"\"\n",
        "  Uses deterministic rule-based logic.\n",
        "  \"\"\"\n",
        "\n",
        "  def __init__(self, base_model: BaseEstimator, rules: Dict, **base_params):\n",
        "      \"\"\"\n",
        "      Initializes the rule-based estimator by supplying hard-coded rules.\n",
        "\n",
        "      Args:\n",
        "        base_model: underlying sklearn estimator.\n",
        "          Must implement fit and predict method.\n",
        "        rules: hard coded rules in format of dictionary,\n",
        "          with keys being the pandas dataframe column name, \n",
        "          and values being a tuple in the following form: \n",
        "          (comparison operator, value, return value)\n",
        "\n",
        "          Acceptable comparison operators are: \n",
        "          \"=\", \"<\", \">\", \"<=\", \">=\"\n",
        "\n",
        "          Example:\n",
        "                \n",
        "                {\"House Type\": [\n",
        "                    (\"=\", \"Penthouse\", 1.0),\n",
        "                    (\"=\", \"Shack\", 0.0)\n",
        "                  ],\n",
        "                  \"House Price\": [\n",
        "                      (\"<\", 1000.0, 0.0),\n",
        "                      (\">=\", 500000.0, 1.0)\n",
        "                ]}\n",
        "        **base_params: Optional keyword arguments which will be passed on\n",
        "            to the base_model.\n",
        "\n",
        "      \"\"\"\n",
        "      self.rules = rules\n",
        "      self.base_model = base_model\n",
        "      self.base_model.set_params(**base_params)\n",
        "\n",
        "  def __repr__(self):\n",
        "      return \"Rule Augmented Estimator:\\n\\n\\t Base Model: {}\\n\\t Rules: {}\".format(self.base_model, self.rules)\n",
        "\n",
        "  def __str__(self):\n",
        "      return self.__str__\n",
        "  \n",
        "\n",
        "  def fit(self, X: pd.DataFrame, y: pd.Series, **kwargs):\n",
        "      \"\"\"Fits the estimator to the data.\n",
        "      \n",
        "      Fits the estimator to the data, only training the underlying estimator\n",
        "      on data which isn't affected by the hard-coded rules.\n",
        "      \n",
        "      Args:\n",
        "          X: The training feature data.\n",
        "          y: The training label data.\n",
        "          **kwargs: Optional keyword arguments passed to the underlying\n",
        "          estimator's fit function.\n",
        "              \n",
        "      \"\"\"\n",
        "      self.base_model.fit(X, y, **kwargs)\n",
        "\n",
        "  def predict(self, X: pd.DataFrame) -> np.array:\n",
        "      \"\"\"Gets predictions for the provided feature data.\n",
        "      \n",
        "      The predicitons are evaluated using the provided rules wherever possible\n",
        "      otherwise the underlying estimator is used.\n",
        "      \n",
        "      Args:\n",
        "          X: The feature data to evaluate predictions for.\n",
        "      \n",
        "      Returns:\n",
        "          np.array: Evaluated predictions.\n",
        "      \"\"\"\n",
        "      \n",
        "      p_X = X.copy()\n",
        "      p_X['prediction'] = np.nan\n",
        "\n",
        "      for category, rules in self.rules.items():\n",
        "\n",
        "          if category not in p_X.columns.values: continue\n",
        "\n",
        "          for rule in rules:\n",
        "\n",
        "              if rule[0] == \"=\":\n",
        "                  p_X.loc[p_X[category] == rule[1], 'prediction'] = rule[2]\n",
        "\n",
        "              elif rule[0] == \"<\":\n",
        "                  p_X.loc[p_X[category] < rule[1], 'prediction'] = rule[2]\n",
        "\n",
        "              elif rule[0] == \">\":\n",
        "                  p_X.loc[p_X[category] > rule[1], 'prediction'] = rule[2]\n",
        "\n",
        "              elif rule[0] == \"<=\":\n",
        "                  p_X.loc[p_X[category] <= rule[1], 'prediction'] = rule[2]\n",
        "\n",
        "              elif rule[0] == \">=\":\n",
        "                  p_X.loc[p_X[category] >= rule[1], 'prediction'] = rule[2]\n",
        "\n",
        "              else:\n",
        "                  print(\"Invalid rule detected: {}\".format(rule))\n",
        "\n",
        "      # check if any predictions missing (relegate to base_model)\n",
        "      if len(p_X.loc[p_X['prediction'].isna()].index != 0):\n",
        "\n",
        "          base_X = p_X.loc[p_X['prediction'].isna()].copy()\n",
        "          base_X.drop('prediction', axis=1, inplace=True)\n",
        "          p_X.loc[p_X['prediction'].isna(), 'prediction'] = self.base_model.predict(base_X)\n",
        "\n",
        "      return p_X['prediction'].values\n",
        "    \n",
        "\n",
        "  def get_params(self, deep: bool = True) -> Dict:\n",
        "      \"\"\"Return the model's and base model's parameters.\n",
        "      Args:\n",
        "          deep: Whether to recursively return the base model's parameters.\n",
        "      Returns\n",
        "          Dict: The model's parameters.\n",
        "      \"\"\"\n",
        "      \n",
        "      params = {'base_model': self.base_model,\n",
        "                'rules': self.rules\n",
        "                }\n",
        "\n",
        "      params.update(self.base_model.get_params(deep=deep))\n",
        "      return params\n",
        "  \n",
        "\n",
        "  def set_params(self, **params):\n",
        "      \"\"\"Sets parameters for the model and base model.\n",
        "      Args:\n",
        "          **params: Optional keyword arguments.\n",
        "      \"\"\"\n",
        "                \n",
        "      parameters = params\n",
        "      param_keys = parameters.keys()\n",
        "      \n",
        "      if 'base_model' in param_keys:\n",
        "          value = parameters.pop('base_model')\n",
        "          self.base_model = value\n",
        "          \n",
        "      if 'rules' in param_keys:\n",
        "          value = parameters.pop('rules')\n",
        "          self.rules = value\n",
        "      \n",
        "      self.base_model.set_params(**parameters)"
      ],
      "execution_count": 26,
      "outputs": []
    },
    {
      "cell_type": "code",
      "metadata": {
        "id": "Rz6ITeU_fTnj"
      },
      "source": [
        "# RULES:\n",
        "# check_umls: if they do not share a concept, return 1 (no contradiction)\n",
        "# neg_check_umls: if number of neg tokens is equal, return 0 (no contradiction); otherwise, return 1 (contradiction)\n",
        "# check_med7: if not talking about same DRUG -> return 0 (no contradiction); if same DRUG but different other info -> return 1 (contradiction)\n",
        "# dep_sim: if similarity < 0.5 (contradiction)\n",
        "\n",
        "\n",
        "rules = {\"check_umls\": [\n",
        "                (\"=\", 1, 0.0)\n",
        "              ], \n",
        "        \"neg_check_umls\": [\n",
        "                (\"=\", 1, 1.0)\n",
        "              ],\n",
        "         \"check_med7\": [\n",
        "                (\"=\", 1, 1.0)\n",
        "              ],\n",
        "         \"dep_sim\": [\n",
        "                (\"<\", 0.5, 1.0)\n",
        "              ]\n",
        "        }"
      ],
      "execution_count": 27,
      "outputs": []
    },
    {
      "cell_type": "code",
      "metadata": {
        "colab": {
          "base_uri": "https://localhost:8080/"
        },
        "id": "-zhu-cftfHy4",
        "outputId": "c33b2741-3d2d-4b22-ab82-541cd40d7064"
      },
      "source": [
        "# fit the hybrid model with relevant features\n",
        "gbc = GradientBoostingClassifier(n_estimators=100, verbose=1)\n",
        "rule_model = RuleBasedEstimator(gbc, rules)\n",
        "\n",
        "rule_model.fit(train_X, train_y)\n",
        "predictions = rule_model.predict(test_X)"
      ],
      "execution_count": 28,
      "outputs": [
        {
          "output_type": "stream",
          "text": [
            "      Iter       Train Loss   Remaining Time \n",
            "         1           1.3757            1.15s\n",
            "         2           1.3671            1.07s\n",
            "         3           1.3600            1.05s\n",
            "         4           1.3542            1.06s\n",
            "         5           1.3495            1.03s\n",
            "         6           1.3455            1.01s\n",
            "         7           1.3423            1.02s\n",
            "         8           1.3396            0.99s\n",
            "         9           1.3373            0.97s\n",
            "        10           1.3354            0.97s\n",
            "        20           1.3257            0.86s\n",
            "        30           1.3208            0.79s\n",
            "        40           1.3158            0.67s\n",
            "        50           1.3121            0.55s\n",
            "        60           1.3079            0.44s\n",
            "        70           1.3049            0.32s\n",
            "        80           1.3020            0.22s\n",
            "        90           1.2986            0.11s\n",
            "       100           1.2956            0.00s\n"
          ],
          "name": "stdout"
        }
      ]
    },
    {
      "cell_type": "code",
      "metadata": {
        "colab": {
          "base_uri": "https://localhost:8080/",
          "height": 374
        },
        "id": "fpWTgy7pfOUE",
        "outputId": "d681ffcb-974e-4641-d485-668cb32bd845"
      },
      "source": [
        "# rule only (with hand labeled)\n",
        "evaluation(test_y, predictions)"
      ],
      "execution_count": 29,
      "outputs": [
        {
          "output_type": "stream",
          "text": [
            "Recall:  0.5610526315789474\n",
            "Accuracy:  0.5862611431567908\n",
            "Precision:  0.5889502762430939\n",
            "F1:  0.5746630727762804\n"
          ],
          "name": "stdout"
        },
        {
          "output_type": "display_data",
          "data": {
            "image/png": "[encoded data removed]",
            "text/plain": [
              "<Figure size 432x288 with 2 Axes>"
            ]
          },
          "metadata": {
            "tags": [],
            "needs_background": "light"
          }
        }
      ]
    },
    {
      "cell_type": "markdown",
      "metadata": {
        "id": "fXw3LjZMfa7K"
      },
      "source": [
        "Decision tree algorithm only"
      ]
    },
    {
      "cell_type": "code",
      "metadata": {
        "colab": {
          "base_uri": "https://localhost:8080/"
        },
        "id": "61yRQNT6fc5D",
        "outputId": "a42dfcd5-18b3-4def-c089-44eb069c961b"
      },
      "source": [
        "gbc = GradientBoostingClassifier(n_estimators=100, verbose=1)\n",
        "gbc.fit(train_X, train_y)\n",
        "predictions = gbc.predict(test_X)"
      ],
      "execution_count": 30,
      "outputs": [
        {
          "output_type": "stream",
          "text": [
            "      Iter       Train Loss   Remaining Time \n",
            "         1           1.3757            1.30s\n",
            "         2           1.3671            1.12s\n",
            "         3           1.3600            1.05s\n",
            "         4           1.3542            1.01s\n",
            "         5           1.3495            0.99s\n",
            "         6           1.3455            0.97s\n",
            "         7           1.3423            0.95s\n",
            "         8           1.3396            0.96s\n",
            "         9           1.3373            0.96s\n",
            "        10           1.3354            0.94s\n",
            "        20           1.3257            0.80s\n",
            "        30           1.3208            0.73s\n",
            "        40           1.3158            0.63s\n",
            "        50           1.3121            0.53s\n",
            "        60           1.3079            0.42s\n",
            "        70           1.3049            0.32s\n",
            "        80           1.3020            0.21s\n",
            "        90           1.2986            0.11s\n",
            "       100           1.2956            0.00s\n"
          ],
          "name": "stdout"
        }
      ]
    },
    {
      "cell_type": "code",
      "metadata": {
        "colab": {
          "base_uri": "https://localhost:8080/",
          "height": 374
        },
        "id": "Fq-TEASefewV",
        "outputId": "6a2317dd-a491-48f1-e0e3-bc7ca98bcedc"
      },
      "source": [
        "# GBC only (with hand labeled)\n",
        "evaluation(test_y, predictions)"
      ],
      "execution_count": 31,
      "outputs": [
        {
          "output_type": "stream",
          "text": [
            "Recall:  0.5326315789473685\n",
            "Accuracy:  0.5951756685894074\n",
            "Precision:  0.6067146282973621\n",
            "F1:  0.5672645739910315\n"
          ],
          "name": "stdout"
        },
        {
          "output_type": "display_data",
          "data": {
            "image/png": "[encoded data removed]",
            "text/plain": [
              "<Figure size 432x288 with 2 Axes>"
            ]
          },
          "metadata": {
            "tags": [],
            "needs_background": "light"
          }
        }
      ]
    },
    {
      "cell_type": "markdown",
      "metadata": {
        "id": "waPUW3eEhH9J"
      },
      "source": [
        "MIMIC qualitative exploration"
      ]
    },
    {
      "cell_type": "code",
      "metadata": {
        "colab": {
          "base_uri": "https://localhost:8080/"
        },
        "id": "AgjdeMLkhJcw",
        "outputId": "3672c213-e39a-49d2-f7bb-7f460f4ac4b0"
      },
      "source": [
        "# for processed sentence pairs from MIMIC\n",
        "mimic_df = pd.read_csv(\"gdrive/MyDrive/6.871/mimic_features.csv\")\n",
        "print(mimic_df)"
      ],
      "execution_count": 24,
      "outputs": [
        {
          "output_type": "stream",
          "text": [
            "     Unnamed: 0  neg_check_umls  ...         conflict_type  pair_id\n",
            "0             0               0  ...         ['diagnosis']        0\n",
            "1             1               0  ...         ['diagnosis']        1\n",
            "2             2               0  ...         ['diagnosis']        2\n",
            "3             3               0  ...         ['diagnosis']        3\n",
            "4             4               0  ...         ['diagnosis']        4\n",
            "..          ...             ...  ...                   ...      ...\n",
            "836         836               0  ...              ['test']      156\n",
            "837         837               0  ...              ['test']      157\n",
            "838         838               0  ...  ['diagnosis', 'med']      158\n",
            "839         839               0  ...  ['diagnosis', 'med']      159\n",
            "840         840               0  ...  ['diagnosis', 'med']      160\n",
            "\n",
            "[841 rows x 10 columns]\n"
          ],
          "name": "stdout"
        }
      ]
    },
    {
      "cell_type": "code",
      "metadata": {
        "colab": {
          "base_uri": "https://localhost:8080/"
        },
        "id": "sSy04QqYhLGA",
        "outputId": "2a680697-1a86-4ca0-8ae0-52587cd45079"
      },
      "source": [
        "mimic_X = mimic_df[['check_umls', 'neg_check_umls', \"check_med7\", \"dep_sim\"]].copy()\n",
        "print(mimic_X)"
      ],
      "execution_count": 25,
      "outputs": [
        {
          "output_type": "stream",
          "text": [
            "     check_umls  neg_check_umls  check_med7   dep_sim\n",
            "0             1               0           0  0.761119\n",
            "1             1               0           0  0.268047\n",
            "2             1               0           0  0.588540\n",
            "3             1               0           0  0.758409\n",
            "4             1               0           0  0.808922\n",
            "..          ...             ...         ...       ...\n",
            "836           1               0           0  0.327957\n",
            "837           1               0           0  0.868670\n",
            "838           1               0           0  0.643665\n",
            "839           1               0           0  0.658082\n",
            "840           1               0           0  0.941207\n",
            "\n",
            "[841 rows x 4 columns]\n"
          ],
          "name": "stdout"
        }
      ]
    },
    {
      "cell_type": "code",
      "metadata": {
        "colab": {
          "base_uri": "https://localhost:8080/"
        },
        "id": "n8RdnoeehqIf",
        "outputId": "bdc3dc12-a7f3-433a-f1ba-4665deaaa01e"
      },
      "source": [
        "# gbc only\n",
        "gbc = GradientBoostingClassifier(n_estimators=100, verbose=1)\n",
        "gbc.fit(train_X, train_y)\n",
        "predictions = gbc.predict(mimic_X)"
      ],
      "execution_count": 61,
      "outputs": [
        {
          "output_type": "stream",
          "text": [
            "      Iter       Train Loss   Remaining Time \n",
            "         1           1.3758            0.92s\n",
            "         2           1.3672            0.86s\n",
            "         3           1.3603            0.85s\n",
            "         4           1.3544            0.82s\n",
            "         5           1.3498            0.83s\n",
            "         6           1.3458            0.82s\n",
            "         7           1.3426            0.81s\n",
            "         8           1.3399            0.81s\n",
            "         9           1.3376            0.80s\n",
            "        10           1.3357            0.79s\n",
            "        20           1.3260            0.67s\n",
            "        30           1.3209            0.60s\n",
            "        40           1.3164            0.52s\n",
            "        50           1.3122            0.44s\n",
            "        60           1.3084            0.35s\n",
            "        70           1.3058            0.27s\n",
            "        80           1.3025            0.18s\n",
            "        90           1.3000            0.09s\n",
            "       100           1.2975            0.00s\n"
          ],
          "name": "stdout"
        }
      ]
    },
    {
      "cell_type": "markdown",
      "metadata": {
        "id": "63uuHqXWlp-D"
      },
      "source": [
        "Qualitative evaluation on mimic"
      ]
    },
    {
      "cell_type": "code",
      "metadata": {
        "colab": {
          "base_uri": "https://localhost:8080/"
        },
        "id": "L_cg9MFAh1Om",
        "outputId": "da970493-a4fe-47d8-d00a-a8526def619c"
      },
      "source": [
        "print(predictions)"
      ],
      "execution_count": 62,
      "outputs": [
        {
          "output_type": "stream",
          "text": [
            "[0 0 0 0 0 0 1 1 0 0 0 0 1 1 0 1 1 1 1 1 0 0 0 0 0 0 0 0 0 0 0 0 1 1 1 1 0\n",
            " 1 1 0 0 0 0 1 0 1 0 1 1 0 1 0 0 0 0 0 0 0 0 0 0 0 0 1 0 1 1 0 0 0 0 0 0 0\n",
            " 0 0 0 0 0 0 1 1 1 0 0 0 0 0 1 0 1 0 1 1 0 0 1 0 0 0 0 0 0 0 1 1 1 1 1 1 0\n",
            " 0 1 0 0 1 0 0 1 1 1 0 0 0 0 1 0 0 0 0 0 1 1 1 1 0 0 0 1 1 0 0 0 0 1 1 1 1\n",
            " 1 1 1 1 1 1 1 0 1 1 0 0 1 0 1 0 1 1 1 0 0 0 0 0 0 0 0 1 0 0 0 1 1 1 1 1 1\n",
            " 1 1 0 1 1 0 1 1 1 0 0 1 0 0 0 0 0 0 0 0 0 0 0 0 0 0 0 0 1 1 0 0 0 1 0 1 1\n",
            " 0 1 0 1 1 1 1 0 0 1 0 0 0 0 0 0 0 0 1 1 0 0 1 1 0 0 1 1 0 0 1 0 0 1 1 0 0\n",
            " 1 1 0 1 0 0 0 1 0 1 0 0 0 0 0 0 0 1 0 0 0 0 0 0 1 0 0 0 1 0 1 1 1 1 0 0 0\n",
            " 0 0 1 1 1 0 1 0 0 0 0 0 0 0 0 0 0 0 1 0 0 1 1 1 0 0 1 1 0 0 0 0 0 1 0 0 0\n",
            " 0 0 0 1 1 1 1 0 0 0 0 0 0 1 0 0 1 1 1 0 0 0 0 0 1 0 0 0 0 1 1 1 0 1 0 1 0\n",
            " 0 0 0 0 1 0 0 0 0 0 0 1 0 1 1 0 0 0 0 0 0 0 1 1 0 0 1 0 0 0 0 0 1 0 0 1 1\n",
            " 0 1 1 0 0 1 0 0 1 0 0 1 1 0 0 0 0 0 0 0 0 0 0 0 1 1 0 0 0 0 0 0 0 0 0 0 0\n",
            " 0 0 0 0 0 0 0 0 0 0 0 0 1 1 0 1 1 0 0 0 1 0 1 0 0 1 1 0 0 0 0 0 0 0 0 0 1\n",
            " 0 0 0 0 0 0 0 1 0 0 0 0 0 0 0 0 1 0 0 0 0 0 0 0 1 0 0 0 1 0 1 0 0 1 0 0 0\n",
            " 0 0 0 1 0 1 0 1 0 1 0 0 1 0 0 0 1 0 0 0 0 0 0 0 0 0 0 0 0 0 0 0 0 0 0 0 0\n",
            " 0 0 0 0 0 1 0 0 0 1 0 0 1 0 0 0 1 1 1 0 0 1 1 0 1 0 0 0 0 0 0 1 0 0 0 0 0\n",
            " 0 1 0 0 0 0 0 0 0 0 1 0 0 1 0 1 0 0 1 1 0 1 0 0 0 1 0 1 0 0 1 0 0 0 0 0 0\n",
            " 0 1 0 0 0 0 0 0 0 0 0 0 0 1 0 0 0 0 0 0 1 0 0 0 1 0 0 1 1 0 0 0 1 1 0 1 0\n",
            " 0 0 0 0 0 0 0 0 0 0 0 0 0 0 1 0 0 0 1 0 0 1 0 0 1 1 1 1 0 0 0 0 1 0 0 0 0\n",
            " 1 1 0 0 0 0 1 1 1 0 0 0 0 0 1 1 0 0 0 0 0 0 1 0 1 1 0 1 0 1 1 0 1 0 1 0 0\n",
            " 0 1 0 0 1 0 1 1 1 1 0 1 0 0 0 0 1 1 0 0 0 0 0 0 0 0 0 0 0 0 0 0 0 1 0 1 0\n",
            " 1 1 0 1 0 0 0 1 1 1 0 1 0 0 0 0 0 1 0 0 0 0 0 1 0 0 1 1 0 0 0 0 0 0 0 0 0\n",
            " 0 0 1 0 0 1 0 0 0 0 0 1 0 1 0 0 0 0 0 0 1 1 1 0 0 0 0]\n"
          ],
          "name": "stdout"
        }
      ]
    },
    {
      "cell_type": "code",
      "metadata": {
        "colab": {
          "base_uri": "https://localhost:8080/"
        },
        "id": "z9W9Iw1Bh6vs",
        "outputId": "9dd15675-c78b-49a0-e843-f6025e99fce7"
      },
      "source": [
        "# get positive prediction indices\n",
        "print(type(predictions))\n",
        "positive_indices = np.where(predictions == 1)\n",
        "print(positive_indices[0])\n",
        "print(type(positive_indices[0]))"
      ],
      "execution_count": 63,
      "outputs": [
        {
          "output_type": "stream",
          "text": [
            "<class 'numpy.ndarray'>\n",
            "[  6   7  12  13  15  16  17  18  19  32  33  34  35  37  38  43  45  47\n",
            "  48  50  63  65  66  80  81  82  88  90  92  93  96 104 105 106 107 108\n",
            " 109 112 115 118 119 120 125 131 132 133 134 138 139 144 145 146 147 148\n",
            " 149 150 151 152 153 154 156 157 160 162 164 165 166 175 179 180 181 182\n",
            " 183 184 185 186 188 189 191 192 193 196 213 214 218 220 221 223 225 226\n",
            " 227 228 231 240 241 244 245 248 249 252 255 256 259 260 262 266 268 276\n",
            " 283 287 289 290 291 292 298 299 300 302 314 317 318 319 322 323 329 336\n",
            " 337 338 339 346 349 350 351 357 362 363 364 366 368 374 381 383 384 392\n",
            " 393 396 402 405 406 408 409 412 415 418 419 431 432 456 457 459 460 464\n",
            " 466 469 470 480 488 497 505 509 511 514 521 523 525 527 530 534 560 564\n",
            " 567 571 572 573 576 577 579 586 593 602 605 607 610 611 613 617 619 622\n",
            " 630 642 649 653 656 657 661 662 664 680 684 687 690 691 692 693 698 703\n",
            " 704 709 710 711 717 718 725 727 728 730 732 733 735 737 741 744 746 747\n",
            " 748 749 751 756 757 773 775 777 778 780 784 785 786 788 794 800 803 804\n",
            " 816 819 825 827 834 835 836]\n",
            "<class 'numpy.ndarray'>\n"
          ],
          "name": "stdout"
        }
      ]
    },
    {
      "cell_type": "code",
      "metadata": {
        "colab": {
          "base_uri": "https://localhost:8080/"
        },
        "id": "_BXEnJlMiuhw",
        "outputId": "eb3b0054-4399-40e6-a966-ca259da15ce9"
      },
      "source": [
        "positive_examples_df = pd.DataFrame()\n",
        "for positive_index in tqdm(positive_indices[0]):\n",
        "  pos_example = mimic_df.iloc[positive_index]\n",
        "  positive_examples_df = pd.concat((positive_examples_df, pos_example), axis=1)"
      ],
      "execution_count": 64,
      "outputs": [
        {
          "output_type": "stream",
          "text": [
            "100%|██████████| 259/259 [00:00<00:00, 855.45it/s]\n"
          ],
          "name": "stderr"
        }
      ]
    },
    {
      "cell_type": "code",
      "metadata": {
        "colab": {
          "base_uri": "https://localhost:8080/"
        },
        "id": "MlWNUgdHiUDC",
        "outputId": "99af7be1-a62c-4bcf-8a0c-cba6fc550dd0"
      },
      "source": [
        "print(positive_examples_df)"
      ],
      "execution_count": 65,
      "outputs": [
        {
          "output_type": "stream",
          "text": [
            "                                                              6    ...                                                836\n",
            "Unnamed: 0                                                      6  ...                                                836\n",
            "neg_check_umls                                                  1  ...                                                  0\n",
            "check_umls                                                      1  ...                                                  1\n",
            "check_med7                                                      0  ...                                                  0\n",
            "sentence_1      She denies ever having a urinary tract    infe...  ...     Neuro: Alert and oriented x 3    Labs / Rad...\n",
            "sentence_2       No recent UTIs or hx of    resistent organisms.'  ...  -- Guaiac negative    -- labs c/w anemia of ch...\n",
            "dep_sim                                                  0.306616  ...                                           0.327957\n",
            "hadm_id                                                    162197  ...                                             120799\n",
            "conflict_type                                       ['diagnosis']  ...                                           ['test']\n",
            "pair_id                                                         6  ...                                                156\n",
            "\n",
            "[10 rows x 259 columns]\n"
          ],
          "name": "stdout"
        }
      ]
    },
    {
      "cell_type": "code",
      "metadata": {
        "colab": {
          "base_uri": "https://localhost:8080/"
        },
        "id": "rOFUm7IYjZDb",
        "outputId": "92834834-f3ec-45a2-de59-beff06861730"
      },
      "source": [
        "positive_examples_df_transposed = positive_examples_df.T \n",
        "print(positive_examples_df_transposed)\n",
        "positive_examples_df_transposed.to_csv(\"positive_examples_mimic_eval_mednli.csv\")"
      ],
      "execution_count": 66,
      "outputs": [
        {
          "output_type": "stream",
          "text": [
            "    Unnamed: 0 neg_check_umls check_umls  ... hadm_id  conflict_type pair_id\n",
            "6            6              1          1  ...  162197  ['diagnosis']       6\n",
            "7            7              1          1  ...  162197  ['diagnosis']       7\n",
            "12          12              0          1  ...  162197  ['diagnosis']      12\n",
            "13          13              0          1  ...  162197  ['diagnosis']      13\n",
            "15          15              1          1  ...  162197  ['diagnosis']      15\n",
            "..         ...            ...        ...  ...     ...            ...     ...\n",
            "825        825              0          0  ...  120799             []     145\n",
            "827        827              0          0  ...  120799             []     147\n",
            "834        834              1          1  ...  120799       ['test']     154\n",
            "835        835              1          1  ...  120799       ['test']     155\n",
            "836        836              0          1  ...  120799       ['test']     156\n",
            "\n",
            "[259 rows x 10 columns]\n"
          ],
          "name": "stdout"
        }
      ]
    },
    {
      "cell_type": "markdown",
      "metadata": {
        "id": "bWpnrebqlEEI"
      },
      "source": [
        "Negative examples"
      ]
    },
    {
      "cell_type": "code",
      "metadata": {
        "colab": {
          "base_uri": "https://localhost:8080/"
        },
        "id": "zO4pTExljowh",
        "outputId": "1b5ee66e-6ec9-47d5-9736-665648674d70"
      },
      "source": [
        "# get negative prediction indices\n",
        "negative_indices = np.where(predictions == 0)\n",
        "\n",
        "negative_examples_df = pd.DataFrame()\n",
        "for negative_index in tqdm(negative_indices[0]):\n",
        "  neg_example = mimic_df.iloc[negative_index]\n",
        "  negative_examples_df = pd.concat((negative_examples_df, neg_example), axis=1)\n",
        "\n",
        "negative_examples_df.to_csv(\"negative_examples_mimic_eval_mednli.csv\")"
      ],
      "execution_count": 67,
      "outputs": [
        {
          "output_type": "stream",
          "text": [
            "100%|██████████| 582/582 [00:00<00:00, 866.85it/s]\n"
          ],
          "name": "stderr"
        }
      ]
    },
    {
      "cell_type": "code",
      "metadata": {
        "colab": {
          "base_uri": "https://localhost:8080/"
        },
        "id": "ZV9gG4Bdkb5z",
        "outputId": "e3992a68-583d-496c-fe7e-c999af8aa192"
      },
      "source": [
        "print(negative_examples_df)"
      ],
      "execution_count": 68,
      "outputs": [
        {
          "output_type": "stream",
          "text": [
            "                                                              0    ...                                                840\n",
            "Unnamed: 0                                                      0  ...                                                840\n",
            "neg_check_umls                                                  0  ...                                                  0\n",
            "check_umls                                                      1  ...                                                  1\n",
            "check_med7                                                      0  ...                                                  0\n",
            "sentence_1      This is a 60 yo female hx of chronic hep C    ...  ...     RR: 23 (16 - 28) insp/min    SpO2: 97%    H...\n",
            "sentence_2         Assessment: 60 yo female with hx of chronic...  ...     RR: 25 (19 - 28) insp/min    SpO2: 96%    H...\n",
            "dep_sim                                                  0.761119  ...                                           0.941207\n",
            "hadm_id                                                    162197  ...                                             120799\n",
            "conflict_type                                       ['diagnosis']  ...                               ['diagnosis', 'med']\n",
            "pair_id                                                         0  ...                                                160\n",
            "\n",
            "[10 rows x 582 columns]\n"
          ],
          "name": "stdout"
        }
      ]
    },
    {
      "cell_type": "code",
      "metadata": {
        "colab": {
          "base_uri": "https://localhost:8080/"
        },
        "id": "3FD07Jtbkybc",
        "outputId": "bf544fc5-8f49-4fb3-ee40-1a2fa0c67901"
      },
      "source": [
        "negative_examples_df_transposed = negative_examples_df.T\n",
        "print(negative_examples_df_transposed)\n",
        "negative_examples_df_transposed.to_csv(\"negative_examples_mimic_eval_mednli.csv\")"
      ],
      "execution_count": 69,
      "outputs": [
        {
          "output_type": "stream",
          "text": [
            "    Unnamed: 0 neg_check_umls check_umls  ... hadm_id         conflict_type pair_id\n",
            "0            0              0          1  ...  162197         ['diagnosis']       0\n",
            "1            1              0          1  ...  162197         ['diagnosis']       1\n",
            "2            2              0          1  ...  162197         ['diagnosis']       2\n",
            "3            3              0          1  ...  162197         ['diagnosis']       3\n",
            "4            4              0          1  ...  162197         ['diagnosis']       4\n",
            "..         ...            ...        ...  ...     ...                   ...     ...\n",
            "833        833              0          1  ...  120799              ['test']     153\n",
            "837        837              0          1  ...  120799              ['test']     157\n",
            "838        838              0          1  ...  120799  ['diagnosis', 'med']     158\n",
            "839        839              0          1  ...  120799  ['diagnosis', 'med']     159\n",
            "840        840              0          1  ...  120799  ['diagnosis', 'med']     160\n",
            "\n",
            "[582 rows x 10 columns]\n"
          ],
          "name": "stdout"
        }
      ]
    }
  ]
}