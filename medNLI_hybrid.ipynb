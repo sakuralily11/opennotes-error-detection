{
  "nbformat": 4,
  "nbformat_minor": 0,
  "metadata": {
    "colab": {
      "name": "medNLI_hybrid.ipynb",
      "provenance": [],
      "collapsed_sections": []
    },
    "kernelspec": {
      "name": "python3",
      "display_name": "Python 3"
    },
    "language_info": {
      "name": "python"
    }
  },
  "cells": [
    {
      "cell_type": "code",
      "metadata": {
        "colab": {
          "base_uri": "https://localhost:8080/"
        },
        "id": "jFVWPLs3dJDe",
        "outputId": "bcac96b1-3119-440e-d90e-cb672a501b08"
      },
      "source": [
        "!pip install spacy==2.3.5\n",
        "!pip install scispacy==0.3.0\n",
        "!pip install eli5"
      ],
      "execution_count": null,
      "outputs": [
        {
          "output_type": "stream",
          "text": [
            "Collecting spacy==2.3.5\n",
            "\u001b[?25l  Downloading https://files.pythonhosted.org/packages/95/89/1539c4024c339650c222b0b2ca2b3e3f13523b7a02671f8001b7b1cee6f2/spacy-2.3.5-cp37-cp37m-manylinux2014_x86_64.whl (10.4MB)\n",
            "\u001b[K     |████████████████████████████████| 10.4MB 12.7MB/s \n",
            "\u001b[?25hRequirement already satisfied: blis<0.8.0,>=0.4.0 in /usr/local/lib/python3.7/dist-packages (from spacy==2.3.5) (0.4.1)\n",
            "Requirement already satisfied: wasabi<1.1.0,>=0.4.0 in /usr/local/lib/python3.7/dist-packages (from spacy==2.3.5) (0.8.2)\n",
            "Requirement already satisfied: setuptools in /usr/local/lib/python3.7/dist-packages (from spacy==2.3.5) (56.1.0)\n",
            "Collecting thinc<7.5.0,>=7.4.1\n",
            "\u001b[?25l  Downloading https://files.pythonhosted.org/packages/9a/92/71ab278f865f7565c37ed6917d0f23342e4f9a0633013113bd435cf0a691/thinc-7.4.5-cp37-cp37m-manylinux2014_x86_64.whl (1.0MB)\n",
            "\u001b[K     |████████████████████████████████| 1.1MB 27.7MB/s \n",
            "\u001b[?25hRequirement already satisfied: catalogue<1.1.0,>=0.0.7 in /usr/local/lib/python3.7/dist-packages (from spacy==2.3.5) (1.0.0)\n",
            "Requirement already satisfied: tqdm<5.0.0,>=4.38.0 in /usr/local/lib/python3.7/dist-packages (from spacy==2.3.5) (4.41.1)\n",
            "Requirement already satisfied: srsly<1.1.0,>=1.0.2 in /usr/local/lib/python3.7/dist-packages (from spacy==2.3.5) (1.0.5)\n",
            "Requirement already satisfied: requests<3.0.0,>=2.13.0 in /usr/local/lib/python3.7/dist-packages (from spacy==2.3.5) (2.23.0)\n",
            "Requirement already satisfied: murmurhash<1.1.0,>=0.28.0 in /usr/local/lib/python3.7/dist-packages (from spacy==2.3.5) (1.0.5)\n",
            "Requirement already satisfied: numpy>=1.15.0 in /usr/local/lib/python3.7/dist-packages (from spacy==2.3.5) (1.19.5)\n",
            "Requirement already satisfied: plac<1.2.0,>=0.9.6 in /usr/local/lib/python3.7/dist-packages (from spacy==2.3.5) (1.1.3)\n",
            "Requirement already satisfied: preshed<3.1.0,>=3.0.2 in /usr/local/lib/python3.7/dist-packages (from spacy==2.3.5) (3.0.5)\n",
            "Requirement already satisfied: cymem<2.1.0,>=2.0.2 in /usr/local/lib/python3.7/dist-packages (from spacy==2.3.5) (2.0.5)\n",
            "Requirement already satisfied: importlib-metadata>=0.20; python_version < \"3.8\" in /usr/local/lib/python3.7/dist-packages (from catalogue<1.1.0,>=0.0.7->spacy==2.3.5) (4.0.1)\n",
            "Requirement already satisfied: urllib3!=1.25.0,!=1.25.1,<1.26,>=1.21.1 in /usr/local/lib/python3.7/dist-packages (from requests<3.0.0,>=2.13.0->spacy==2.3.5) (1.24.3)\n",
            "Requirement already satisfied: idna<3,>=2.5 in /usr/local/lib/python3.7/dist-packages (from requests<3.0.0,>=2.13.0->spacy==2.3.5) (2.10)\n",
            "Requirement already satisfied: chardet<4,>=3.0.2 in /usr/local/lib/python3.7/dist-packages (from requests<3.0.0,>=2.13.0->spacy==2.3.5) (3.0.4)\n",
            "Requirement already satisfied: certifi>=2017.4.17 in /usr/local/lib/python3.7/dist-packages (from requests<3.0.0,>=2.13.0->spacy==2.3.5) (2020.12.5)\n",
            "Requirement already satisfied: typing-extensions>=3.6.4; python_version < \"3.8\" in /usr/local/lib/python3.7/dist-packages (from importlib-metadata>=0.20; python_version < \"3.8\"->catalogue<1.1.0,>=0.0.7->spacy==2.3.5) (3.7.4.3)\n",
            "Requirement already satisfied: zipp>=0.5 in /usr/local/lib/python3.7/dist-packages (from importlib-metadata>=0.20; python_version < \"3.8\"->catalogue<1.1.0,>=0.0.7->spacy==2.3.5) (3.4.1)\n",
            "Installing collected packages: thinc, spacy\n",
            "  Found existing installation: thinc 7.4.0\n",
            "    Uninstalling thinc-7.4.0:\n",
            "      Successfully uninstalled thinc-7.4.0\n",
            "  Found existing installation: spacy 2.2.4\n",
            "    Uninstalling spacy-2.2.4:\n",
            "      Successfully uninstalled spacy-2.2.4\n",
            "Successfully installed spacy-2.3.5 thinc-7.4.5\n",
            "Collecting scispacy==0.3.0\n",
            "  Using cached https://files.pythonhosted.org/packages/7b/0c/e1dc89d73122677cdee8a2d4e734c608c5f112e0c4ea2886f0944ceff1b6/scispacy-0.3.0-py3-none-any.whl\n",
            "Requirement already satisfied: joblib in /usr/local/lib/python3.7/dist-packages (from scispacy==0.3.0) (1.0.1)\n",
            "Requirement already satisfied: requests<3.0.0conllu,>=2.0.0 in /usr/local/lib/python3.7/dist-packages (from scispacy==0.3.0) (2.23.0)\n",
            "Requirement already satisfied: scikit-learn>=0.20.3 in /usr/local/lib/python3.7/dist-packages (from scispacy==0.3.0) (0.22.2.post1)\n",
            "Collecting pysbd\n",
            "\u001b[?25l  Downloading https://files.pythonhosted.org/packages/48/0a/c99fb7d7e176f8b176ef19704a32e6a9c6aafdf19ef75a187f701fc15801/pysbd-0.3.4-py3-none-any.whl (71kB)\n",
            "\u001b[K     |████████████████████████████████| 71kB 5.6MB/s \n",
            "\u001b[?25hCollecting nmslib>=1.7.3.6\n",
            "\u001b[?25l  Downloading https://files.pythonhosted.org/packages/be/77/aebbd03a32488024d2ae2230b47a28f6fa83c887318e673fa5d3234f7772/nmslib-2.1.1-cp37-cp37m-manylinux2010_x86_64.whl (13.5MB)\n",
            "\u001b[K     |████████████████████████████████| 13.5MB 313kB/s \n",
            "\u001b[?25hRequirement already satisfied: spacy<3.0.0,>=2.3.0 in /usr/local/lib/python3.7/dist-packages (from scispacy==0.3.0) (2.3.5)\n",
            "Requirement already satisfied: numpy in /usr/local/lib/python3.7/dist-packages (from scispacy==0.3.0) (1.19.5)\n",
            "Requirement already satisfied: urllib3!=1.25.0,!=1.25.1,<1.26,>=1.21.1 in /usr/local/lib/python3.7/dist-packages (from requests<3.0.0conllu,>=2.0.0->scispacy==0.3.0) (1.24.3)\n",
            "Requirement already satisfied: certifi>=2017.4.17 in /usr/local/lib/python3.7/dist-packages (from requests<3.0.0conllu,>=2.0.0->scispacy==0.3.0) (2020.12.5)\n",
            "Requirement already satisfied: idna<3,>=2.5 in /usr/local/lib/python3.7/dist-packages (from requests<3.0.0conllu,>=2.0.0->scispacy==0.3.0) (2.10)\n",
            "Requirement already satisfied: chardet<4,>=3.0.2 in /usr/local/lib/python3.7/dist-packages (from requests<3.0.0conllu,>=2.0.0->scispacy==0.3.0) (3.0.4)\n",
            "Requirement already satisfied: scipy>=0.17.0 in /usr/local/lib/python3.7/dist-packages (from scikit-learn>=0.20.3->scispacy==0.3.0) (1.4.1)\n",
            "Requirement already satisfied: psutil in /usr/local/lib/python3.7/dist-packages (from nmslib>=1.7.3.6->scispacy==0.3.0) (5.4.8)\n",
            "Collecting pybind11<2.6.2\n",
            "\u001b[?25l  Downloading https://files.pythonhosted.org/packages/00/84/fc9dc13ee536ba5e6b8fd10ce368fea5b738fe394c3b296cde7c9b144a92/pybind11-2.6.1-py2.py3-none-any.whl (188kB)\n",
            "\u001b[K     |████████████████████████████████| 194kB 54.9MB/s \n",
            "\u001b[?25hRequirement already satisfied: thinc<7.5.0,>=7.4.1 in /usr/local/lib/python3.7/dist-packages (from spacy<3.0.0,>=2.3.0->scispacy==0.3.0) (7.4.5)\n",
            "Requirement already satisfied: preshed<3.1.0,>=3.0.2 in /usr/local/lib/python3.7/dist-packages (from spacy<3.0.0,>=2.3.0->scispacy==0.3.0) (3.0.5)\n",
            "Requirement already satisfied: tqdm<5.0.0,>=4.38.0 in /usr/local/lib/python3.7/dist-packages (from spacy<3.0.0,>=2.3.0->scispacy==0.3.0) (4.41.1)\n",
            "Requirement already satisfied: wasabi<1.1.0,>=0.4.0 in /usr/local/lib/python3.7/dist-packages (from spacy<3.0.0,>=2.3.0->scispacy==0.3.0) (0.8.2)\n",
            "Requirement already satisfied: setuptools in /usr/local/lib/python3.7/dist-packages (from spacy<3.0.0,>=2.3.0->scispacy==0.3.0) (56.1.0)\n",
            "Requirement already satisfied: blis<0.8.0,>=0.4.0 in /usr/local/lib/python3.7/dist-packages (from spacy<3.0.0,>=2.3.0->scispacy==0.3.0) (0.4.1)\n",
            "Requirement already satisfied: srsly<1.1.0,>=1.0.2 in /usr/local/lib/python3.7/dist-packages (from spacy<3.0.0,>=2.3.0->scispacy==0.3.0) (1.0.5)\n",
            "Requirement already satisfied: murmurhash<1.1.0,>=0.28.0 in /usr/local/lib/python3.7/dist-packages (from spacy<3.0.0,>=2.3.0->scispacy==0.3.0) (1.0.5)\n",
            "Requirement already satisfied: catalogue<1.1.0,>=0.0.7 in /usr/local/lib/python3.7/dist-packages (from spacy<3.0.0,>=2.3.0->scispacy==0.3.0) (1.0.0)\n",
            "Requirement already satisfied: cymem<2.1.0,>=2.0.2 in /usr/local/lib/python3.7/dist-packages (from spacy<3.0.0,>=2.3.0->scispacy==0.3.0) (2.0.5)\n",
            "Requirement already satisfied: plac<1.2.0,>=0.9.6 in /usr/local/lib/python3.7/dist-packages (from spacy<3.0.0,>=2.3.0->scispacy==0.3.0) (1.1.3)\n",
            "Requirement already satisfied: importlib-metadata>=0.20; python_version < \"3.8\" in /usr/local/lib/python3.7/dist-packages (from catalogue<1.1.0,>=0.0.7->spacy<3.0.0,>=2.3.0->scispacy==0.3.0) (4.0.1)\n",
            "Requirement already satisfied: typing-extensions>=3.6.4; python_version < \"3.8\" in /usr/local/lib/python3.7/dist-packages (from importlib-metadata>=0.20; python_version < \"3.8\"->catalogue<1.1.0,>=0.0.7->spacy<3.0.0,>=2.3.0->scispacy==0.3.0) (3.7.4.3)\n",
            "Requirement already satisfied: zipp>=0.5 in /usr/local/lib/python3.7/dist-packages (from importlib-metadata>=0.20; python_version < \"3.8\"->catalogue<1.1.0,>=0.0.7->spacy<3.0.0,>=2.3.0->scispacy==0.3.0) (3.4.1)\n",
            "Installing collected packages: pysbd, pybind11, nmslib, scispacy\n",
            "Successfully installed nmslib-2.1.1 pybind11-2.6.1 pysbd-0.3.4 scispacy-0.3.0\n",
            "Collecting eli5\n",
            "  Using cached https://files.pythonhosted.org/packages/d1/54/04cab6e1c0ae535bec93f795d8403fdf6caf66fa5a6512263202dbb14ea6/eli5-0.11.0-py2.py3-none-any.whl\n",
            "Requirement already satisfied: numpy>=1.9.0 in /usr/local/lib/python3.7/dist-packages (from eli5) (1.19.5)\n",
            "Requirement already satisfied: scipy in /usr/local/lib/python3.7/dist-packages (from eli5) (1.4.1)\n",
            "Requirement already satisfied: tabulate>=0.7.7 in /usr/local/lib/python3.7/dist-packages (from eli5) (0.8.9)\n",
            "Requirement already satisfied: graphviz in /usr/local/lib/python3.7/dist-packages (from eli5) (0.10.1)\n",
            "Requirement already satisfied: attrs>16.0.0 in /usr/local/lib/python3.7/dist-packages (from eli5) (21.2.0)\n",
            "Requirement already satisfied: jinja2 in /usr/local/lib/python3.7/dist-packages (from eli5) (2.11.3)\n",
            "Requirement already satisfied: scikit-learn>=0.20 in /usr/local/lib/python3.7/dist-packages (from eli5) (0.22.2.post1)\n",
            "Requirement already satisfied: six in /usr/local/lib/python3.7/dist-packages (from eli5) (1.15.0)\n",
            "Requirement already satisfied: MarkupSafe>=0.23 in /usr/local/lib/python3.7/dist-packages (from jinja2->eli5) (1.1.1)\n",
            "Requirement already satisfied: joblib>=0.11 in /usr/local/lib/python3.7/dist-packages (from scikit-learn>=0.20->eli5) (1.0.1)\n",
            "Installing collected packages: eli5\n",
            "Successfully installed eli5-0.11.0\n"
          ],
          "name": "stdout"
        }
      ]
    },
    {
      "cell_type": "code",
      "metadata": {
        "colab": {
          "base_uri": "https://localhost:8080/"
        },
        "id": "S-0hult4dO5o",
        "outputId": "62a6f774-6199-40b7-d8d2-18de3c4459c4"
      },
      "source": [
        "import spacy\n",
        "import scispacy\n",
        "import eli5\n",
        "\n",
        "from tqdm import tqdm\n",
        "from pprint import pprint\n",
        "from collections import OrderedDict\n",
        "import pandas as pd\n",
        "\n",
        "from spacy import displacy\n",
        "from scispacy.umls_linking import UmlsEntityLinker\n",
        "\n",
        "from sklearn.base import BaseEstimator\n",
        "from typing import Dict, Tuple\n",
        "import numpy as np\n",
        "\n",
        "from sklearn.ensemble import GradientBoostingClassifier\n",
        "\n",
        "# Standard Imports\n",
        "import seaborn as sns\n",
        "import matplotlib.pyplot as plt\n",
        "import pickle\n",
        "\n",
        "# Transformers\n",
        "from sklearn.preprocessing import LabelEncoder, OneHotEncoder, StandardScaler, MinMaxScaler\n",
        "\n",
        "# Modeling Evaluation\n",
        "from sklearn.model_selection import train_test_split, cross_val_score, KFold, GridSearchCV\n",
        "from sklearn.pipeline import Pipeline, FeatureUnion\n",
        "from sklearn.compose import ColumnTransformer\n",
        "from sklearn.metrics import accuracy_score, precision_score, recall_score,f1_score, confusion_matrix, classification_report\n",
        "from IPython.display import display, Markdown\n",
        "\n",
        "\n",
        "# should be 2.3.5 and >=0.3.0\n",
        "spacy.__version__, scispacy.__version__"
      ],
      "execution_count": 38,
      "outputs": [
        {
          "output_type": "execute_result",
          "data": {
            "text/plain": [
              "('2.3.5', '0.3.0')"
            ]
          },
          "metadata": {
            "tags": []
          },
          "execution_count": 38
        }
      ]
    },
    {
      "cell_type": "code",
      "metadata": {
        "colab": {
          "base_uri": "https://localhost:8080/"
        },
        "id": "Nm9tIpWqdQ24",
        "outputId": "bf5041ff-8825-4613-ca48-042b7ce7adc8"
      },
      "source": [
        "from google.colab import drive \n",
        "drive.mount('/content/gdrive')"
      ],
      "execution_count": null,
      "outputs": [
        {
          "output_type": "stream",
          "text": [
            "Mounted at /content/gdrive\n"
          ],
          "name": "stdout"
        }
      ]
    },
    {
      "cell_type": "markdown",
      "metadata": {
        "id": "ybV5UdB7dT-y"
      },
      "source": [
        "Read in structured data with relevant features (MedNLI)"
      ]
    },
    {
      "cell_type": "code",
      "metadata": {
        "colab": {
          "base_uri": "https://localhost:8080/"
        },
        "id": "HW3UU8NDdSOx",
        "outputId": "4b4f6e45-68b5-449a-fe16-17e48c987e6d"
      },
      "source": [
        "# split labeled data into training, testing sets for MedNLI data\n",
        "train_df = pd.read_csv(\"gdrive/MyDrive/6.871/train_features.csv\")\n",
        "dev_df = pd.read_csv(\"gdrive/MyDrive/6.871/dev_features.csv\")\n",
        "test_df = pd.read_csv(\"gdrive/MyDrive/6.871/test_features.csv\")\n",
        "\n",
        "#print(train_df)\n",
        "#print(dev_df)\n",
        "#print(test_df)\n",
        "\n",
        "total_train_df = pd.concat((train_df, dev_df), axis=0)\n",
        "print(total_train_df)"
      ],
      "execution_count": null,
      "outputs": [
        {
          "output_type": "stream",
          "text": [
            "      Unnamed: 0  baseline   cr  ...  vaccines  vaccine  euvolemic\n",
            "0              0       1.0  1.0  ...       NaN      NaN        NaN\n",
            "1              1       0.0  1.0  ...       NaN      NaN        NaN\n",
            "2              0       1.0  1.0  ...       NaN      NaN        NaN\n",
            "3              1       0.0  1.0  ...       NaN      NaN        NaN\n",
            "4              0       NaN  NaN  ...       NaN      NaN        NaN\n",
            "...          ...       ...  ...  ...       ...      ...        ...\n",
            "1893           1       NaN  NaN  ...       NaN      NaN        NaN\n",
            "1894           0       NaN  NaN  ...       NaN      NaN        NaN\n",
            "1895           1       NaN  NaN  ...       NaN      NaN        NaN\n",
            "1896           0       NaN  NaN  ...       NaN      NaN        NaN\n",
            "1897           1       NaN  NaN  ...       NaN      NaN        NaN\n",
            "\n",
            "[16874 rows x 7469 columns]\n"
          ],
          "name": "stdout"
        }
      ]
    },
    {
      "cell_type": "code",
      "metadata": {
        "colab": {
          "base_uri": "https://localhost:8080/"
        },
        "id": "p31ELJ2sdXhd",
        "outputId": "338cb5c9-9ee3-4b60-c6c3-b069e763c09d"
      },
      "source": [
        "# fill Na with 0\n",
        "total_train_df = total_train_df.fillna(0)\n",
        "test_df = test_df.fillna(0)\n",
        "\n",
        "train_X = total_train_df[['check_umls', 'neg_check_umls', \"check_med7\", \"dep_sim\"]].copy()\n",
        "train_y = total_train_df[\"contradiction?\"]\n",
        "\n",
        "test_X = test_X[['check_umls', 'neg_check_umls', \"check_med7\", \"dep_sim\"]].copy()\n",
        "test_y = test_df[\"contradiction?\"]\n",
        "\n",
        "\n",
        "print(train_X)\n",
        "print(test_X)\n",
        "print(train_y)"
      ],
      "execution_count": null,
      "outputs": [
        {
          "output_type": "stream",
          "text": [
            "      check_umls  neg_check_umls  check_med7   dep_sim\n",
            "0              0               0           0  0.611129\n",
            "1              0               0           0  0.611129\n",
            "2              0               0           0  0.564029\n",
            "3              0               0           0  0.564029\n",
            "4              0               0           0  0.652266\n",
            "...          ...             ...         ...       ...\n",
            "1893           0               0           0  0.782059\n",
            "1894           0               0           0  0.669158\n",
            "1895           0               0           0  0.669158\n",
            "1896           0               0           0  0.827947\n",
            "1897           0               0           0  0.827947\n",
            "\n",
            "[16874 rows x 4 columns]\n",
            "      check_umls  neg_check_umls  check_med7   dep_sim\n",
            "0              0               0           0  0.591419\n",
            "1              0               0           0  0.591419\n",
            "2              0               0           0  0.595948\n",
            "3              0               0           0  0.595948\n",
            "4              0               0           0  0.832968\n",
            "...          ...             ...         ...       ...\n",
            "1891           0               0           0  0.610489\n",
            "1892           0               0           0  0.782059\n",
            "1893           0               0           0  0.782059\n",
            "1894           0               0           0  0.669158\n",
            "1895           0               0           0  0.669158\n",
            "\n",
            "[1896 rows x 4 columns]\n",
            "0       0\n",
            "1       0\n",
            "2       1\n",
            "3       1\n",
            "4       0\n",
            "       ..\n",
            "1893    0\n",
            "1894    1\n",
            "1895    1\n",
            "1896    1\n",
            "1897    1\n",
            "Name: contradiction?, Length: 16874, dtype: int64\n"
          ],
          "name": "stdout"
        }
      ]
    },
    {
      "cell_type": "code",
      "metadata": {
        "id": "Jv0Ctz-VdnhC"
      },
      "source": [
        "# RULES:\n",
        "# check_umls: if they do not share a concept, return 1 (no contradiction)\n",
        "# neg_check_umls: if number of neg tokens is equal, return 0 (no contradiction); otherwise, return 1 (contradiction)\n",
        "# check_med7: if not talking about same DRUG -> return 0 (no contradiction); if same DRUG but different other info -> return 1 (contradiction)\n",
        "# dep_sim: if similarity < 0.5 (contradiction)\n",
        "\n",
        "\n",
        "rules = {\"check_umls\": [\n",
        "                (\"=\", 1, 0.0)\n",
        "              ], \n",
        "        \"neg_check_umls\": [\n",
        "                (\"=\", 1, 1.0)\n",
        "              ],\n",
        "         \"check_med7\": [\n",
        "                (\"=\", 1, 1.0)\n",
        "              ],\n",
        "         \"dep_sim\": [\n",
        "                (\"<\", 0.5, 1.0)\n",
        "              ]\n",
        "        }"
      ],
      "execution_count": null,
      "outputs": []
    },
    {
      "cell_type": "code",
      "metadata": {
        "id": "sZHok0EKdqmV"
      },
      "source": [
        "class RuleAugmentedEstimator(BaseEstimator):\n",
        "  \"\"\"\n",
        "  Augments sklearn estimators with deterministic rule-based logic.\n",
        "  \"\"\"\n",
        "\n",
        "  def __init__(self, base_model: BaseEstimator, rules: Dict, **base_params):\n",
        "      \"\"\"\n",
        "      Initializes the rule-augmented estimator by supplying underlying sklearn estimator\n",
        "      and hard-coded rules.\n",
        "\n",
        "      Args:\n",
        "        base_model: underlying sklearn estimator.\n",
        "          Must implement fit and predict method.\n",
        "        rules: hard coded rules in format of dictionary,\n",
        "          with keys being the pandas dataframe column name, \n",
        "          and values being a tuple in the following form: \n",
        "          (comparison operator, value, return value)\n",
        "\n",
        "          Acceptable comparison operators are: \n",
        "          \"=\", \"<\", \">\", \"<=\", \">=\"\n",
        "\n",
        "          Example:\n",
        "                \n",
        "                {\"House Type\": [\n",
        "                    (\"=\", \"Penthouse\", 1.0),\n",
        "                    (\"=\", \"Shack\", 0.0)\n",
        "                  ],\n",
        "                  \"House Price\": [\n",
        "                      (\"<\", 1000.0, 0.0),\n",
        "                      (\">=\", 500000.0, 1.0)\n",
        "                ]}\n",
        "        **base_params: Optional keyword arguments which will be passed on\n",
        "            to the base_model.\n",
        "\n",
        "      \"\"\"\n",
        "      self.rules = rules\n",
        "      self.base_model = base_model\n",
        "      self.base_model.set_params(**base_params)\n",
        "      self.outcome_range = [0,1]\n",
        "\n",
        "  def __repr__(self):\n",
        "      return \"Rule Augmented Estimator:\\n\\n\\t Base Model: {}\\n\\t Rules: {}\".format(self.base_model, self.rules)\n",
        "\n",
        "  def __str__(self):\n",
        "      return self.__str__\n",
        "\n",
        "  def _get_base_model_data(self, X: pd.DataFrame, y: pd.Series) -> Tuple[pd.DataFrame, pd.Series]:\n",
        "      \"\"\"\n",
        "      Filters the training data for data points not affected by the rules.\n",
        "      \"\"\"\n",
        "      train_x = X\n",
        "\n",
        "      for category, rules in self.rules.items():\n",
        "\n",
        "          if category not in train_x.columns.values: continue\n",
        "\n",
        "          for rule in rules:\n",
        "\n",
        "              if rule[0] == \"=\":\n",
        "                  train_x = train_x.loc[train_x[category] != rule[1]]\n",
        "\n",
        "              elif rule[0] == \"<\":\n",
        "                  train_x = train_x.loc[train_x[category] >= rule[1]]\n",
        "\n",
        "              elif rule[0] == \">\":\n",
        "                  train_x = train_x.loc[train_x[category] <= rule[1]]\n",
        "\n",
        "              elif rule[0] == \"<=\":\n",
        "                  train_x = train_x.loc[train_x[category] > rule[1]]\n",
        "\n",
        "              elif rule[0] == \">=\":\n",
        "                  train_x = train_x.loc[train_x[category] < rule[1]]\n",
        "\n",
        "              else:\n",
        "                  print(\"Invalid rule detected: {}\".format(rule))\n",
        "              \n",
        "      indices = train_x.index.values\n",
        "      train_y = y.iloc[indices]\n",
        "      \n",
        "      train_x = train_x.reset_index(drop=True)\n",
        "      train_y = train_y.reset_index(drop=True)\n",
        "      \n",
        "      return train_x, train_y   \n",
        "\n",
        "  def fit(self, X: pd.DataFrame, y: pd.Series, **kwargs):\n",
        "      \"\"\"Fits the estimator to the data.\n",
        "      \n",
        "      Fits the estimator to the data, only training the underlying estimator\n",
        "      on data which isn't affected by the hard-coded rules.\n",
        "      \n",
        "      Args:\n",
        "          X: The training feature data.\n",
        "          y: The training label data.\n",
        "          **kwargs: Optional keyword arguments passed to the underlying\n",
        "          estimator's fit function.\n",
        "              \n",
        "      \"\"\"\n",
        "      train_x, train_y = self._get_base_model_data(X, y)\n",
        "      self.base_model.fit(train_x, train_y, **kwargs)\n",
        "\n",
        "  def predict(self, X: pd.DataFrame) -> np.array:\n",
        "      \"\"\"Gets predictions for the provided feature data.\n",
        "      \n",
        "      The predicitons are evaluated using the provided rules wherever possible\n",
        "      otherwise the underlying estimator is used.\n",
        "      \n",
        "      Args:\n",
        "          X: The feature data to evaluate predictions for.\n",
        "      \n",
        "      Returns:\n",
        "          np.array: Evaluated predictions.\n",
        "      \"\"\"\n",
        "      \n",
        "      p_X = X.copy()\n",
        "      p_X['prediction'] = np.nan\n",
        "\n",
        "      for category, rules in self.rules.items():\n",
        "\n",
        "          if category not in p_X.columns.values: continue\n",
        "\n",
        "          for rule in rules:\n",
        "\n",
        "              if rule[0] == \"=\":\n",
        "                  p_X.loc[p_X[category] == rule[1], 'prediction'] = rule[2]\n",
        "\n",
        "              elif rule[0] == \"<\":\n",
        "                  p_X.loc[p_X[category] < rule[1], 'prediction'] = rule[2]\n",
        "\n",
        "              elif rule[0] == \">\":\n",
        "                  p_X.loc[p_X[category] > rule[1], 'prediction'] = rule[2]\n",
        "\n",
        "              elif rule[0] == \"<=\":\n",
        "                  p_X.loc[p_X[category] <= rule[1], 'prediction'] = rule[2]\n",
        "\n",
        "              elif rule[0] == \">=\":\n",
        "                  p_X.loc[p_X[category] >= rule[1], 'prediction'] = rule[2]\n",
        "\n",
        "              else:\n",
        "                  print(\"Invalid rule detected: {}\".format(rule))\n",
        "\n",
        "      if len(p_X.loc[p_X['prediction'].isna()].index != 0):\n",
        "\n",
        "          base_X = p_X.loc[p_X['prediction'].isna()].copy()\n",
        "          base_X.drop('prediction', axis=1, inplace=True)\n",
        "          p_X.loc[p_X['prediction'].isna(), 'prediction'] = self.base_model.predict(base_X)\n",
        "\n",
        "      return p_X['prediction'].values\n",
        "    \n",
        "  def get_params(self, deep: bool = True) -> Dict:\n",
        "      \"\"\"Return the model's and base model's parameters.\n",
        "      Args:\n",
        "          deep: Whether to recursively return the base model's parameters.\n",
        "      Returns\n",
        "          Dict: The model's parameters.\n",
        "      \"\"\"\n",
        "      \n",
        "      params = {'base_model': self.base_model,\n",
        "                'outcome_range': self.outcome_range,\n",
        "                'rules': self.rules\n",
        "                }\n",
        "\n",
        "      params.update(self.base_model.get_params(deep=deep))\n",
        "      return params\n",
        "    \n",
        "  def set_params(self, **params):\n",
        "      \"\"\"Sets parameters for the model and base model.\n",
        "      Args:\n",
        "          **params: Optional keyword arguments.\n",
        "      \"\"\"\n",
        "                \n",
        "      parameters = params\n",
        "      param_keys = parameters.keys()\n",
        "      \n",
        "      if 'base_model' in param_keys:\n",
        "          value = parameters.pop('base_model')\n",
        "          self.base_model = value"
      ],
      "execution_count": null,
      "outputs": []
    },
    {
      "cell_type": "code",
      "metadata": {
        "id": "Z553bqQOdwF7"
      },
      "source": [
        "def evaluation(y, y_hat, title = 'Confusion Matrix'):\n",
        "    cm = confusion_matrix(y, y_hat)\n",
        "    precision = precision_score(y, y_hat)\n",
        "    recall = recall_score(y, y_hat)\n",
        "    accuracy = accuracy_score(y,y_hat)\n",
        "    f1 = f1_score(y,y_hat)\n",
        "    print('Recall: ', recall)\n",
        "    print('Accuracy: ', accuracy)\n",
        "    print('Precision: ', precision)\n",
        "    print('F1: ', f1)\n",
        "    sns.heatmap(cm,  cmap= 'PuBu', annot=True, fmt='g', annot_kws=    {'size':20})\n",
        "    plt.xlabel('predicted', fontsize=18)\n",
        "    plt.ylabel('actual', fontsize=18)\n",
        "    plt.title(title, fontsize=18)\n",
        "    \n",
        "    plt.show();"
      ],
      "execution_count": null,
      "outputs": []
    },
    {
      "cell_type": "code",
      "metadata": {
        "colab": {
          "base_uri": "https://localhost:8080/"
        },
        "id": "6NlcOvUzdxSV",
        "outputId": "ac8fbe72-ba7d-488c-9b4e-181d2241f776"
      },
      "source": [
        "# fit the hybrid model with relevant features\n",
        "gbc = GradientBoostingClassifier(n_estimators=100, verbose=1)\n",
        "hybrid_model = RuleAugmentedEstimator(gbc, rules)\n",
        "\n",
        "hybrid_model.fit(train_X, train_y)\n",
        "predictions = hybrid_model.predict(test_X)"
      ],
      "execution_count": null,
      "outputs": [
        {
          "output_type": "stream",
          "text": [
            "      Iter       Train Loss   Remaining Time \n",
            "         1           1.3739            0.70s\n",
            "         2           1.3715            0.64s\n",
            "         3           1.3696            0.61s\n",
            "         4           1.3676            0.60s\n",
            "         5           1.3660            0.59s\n",
            "         6           1.3647            0.60s\n",
            "         7           1.3634            0.58s\n",
            "         8           1.3619            0.57s\n",
            "         9           1.3609            0.60s\n",
            "        10           1.3598            0.60s\n",
            "        20           1.3507            0.48s\n",
            "        30           1.3443            0.41s\n",
            "        40           1.3382            0.36s\n",
            "        50           1.3320            0.30s\n",
            "        60           1.3276            0.24s\n",
            "        70           1.3210            0.18s\n",
            "        80           1.3162            0.12s\n",
            "        90           1.3110            0.06s\n",
            "       100           1.3062            0.00s\n"
          ],
          "name": "stdout"
        }
      ]
    },
    {
      "cell_type": "code",
      "metadata": {
        "colab": {
          "base_uri": "https://localhost:8080/",
          "height": 374
        },
        "id": "kfA-ibCSd6yE",
        "outputId": "9f493327-ab45-4b63-8ee6-c2fe182fcb3b"
      },
      "source": [
        "# hybrid\n",
        "evaluation(test_y, predictions)"
      ],
      "execution_count": null,
      "outputs": [
        {
          "output_type": "stream",
          "text": [
            "Recall:  0.5928270042194093\n",
            "Accuracy:  0.6086497890295358\n",
            "Precision:  0.6122004357298475\n",
            "F1:  0.6023579849946409\n"
          ],
          "name": "stdout"
        },
        {
          "output_type": "display_data",
          "data": {
            "image/png": "[encoded data removed]",
            "text/plain": [
              "<Figure size 432x288 with 2 Axes>"
            ]
          },
          "metadata": {
            "tags": [],
            "needs_background": "light"
          }
        }
      ]
    },
    {
      "cell_type": "markdown",
      "metadata": {
        "id": "z9cBCpiKebgr"
      },
      "source": [
        "Rule based model only"
      ]
    },
    {
      "cell_type": "code",
      "metadata": {
        "id": "u-yCNt3gehFu"
      },
      "source": [
        "class RuleBasedEstimator(BaseEstimator):\n",
        "  \"\"\"\n",
        "  Uses deterministic rule-based logic.\n",
        "  \"\"\"\n",
        "\n",
        "  def __init__(self, base_model: BaseEstimator, rules: Dict, **base_params):\n",
        "      \"\"\"\n",
        "      Initializes the rule-based estimator by supplying hard-coded rules.\n",
        "\n",
        "      Args:\n",
        "        base_model: underlying sklearn estimator.\n",
        "          Must implement fit and predict method.\n",
        "        rules: hard coded rules in format of dictionary,\n",
        "          with keys being the pandas dataframe column name, \n",
        "          and values being a tuple in the following form: \n",
        "          (comparison operator, value, return value)\n",
        "\n",
        "          Acceptable comparison operators are: \n",
        "          \"=\", \"<\", \">\", \"<=\", \">=\"\n",
        "\n",
        "          Example:\n",
        "                \n",
        "                {\"House Type\": [\n",
        "                    (\"=\", \"Penthouse\", 1.0),\n",
        "                    (\"=\", \"Shack\", 0.0)\n",
        "                  ],\n",
        "                  \"House Price\": [\n",
        "                      (\"<\", 1000.0, 0.0),\n",
        "                      (\">=\", 500000.0, 1.0)\n",
        "                ]}\n",
        "        **base_params: Optional keyword arguments which will be passed on\n",
        "            to the base_model.\n",
        "\n",
        "      \"\"\"\n",
        "      self.rules = rules\n",
        "      self.base_model = base_model\n",
        "      self.base_model.set_params(**base_params)\n",
        "\n",
        "  def __repr__(self):\n",
        "      return \"Rule Augmented Estimator:\\n\\n\\t Base Model: {}\\n\\t Rules: {}\".format(self.base_model, self.rules)\n",
        "\n",
        "  def __str__(self):\n",
        "      return self.__str__\n",
        "  \n",
        "\n",
        "  def fit(self, X: pd.DataFrame, y: pd.Series, **kwargs):\n",
        "      \"\"\"Fits the estimator to the data.\n",
        "      \n",
        "      Fits the estimator to the data, only training the underlying estimator\n",
        "      on data which isn't affected by the hard-coded rules.\n",
        "      \n",
        "      Args:\n",
        "          X: The training feature data.\n",
        "          y: The training label data.\n",
        "          **kwargs: Optional keyword arguments passed to the underlying\n",
        "          estimator's fit function.\n",
        "              \n",
        "      \"\"\"\n",
        "      self.base_model.fit(X, y, **kwargs)\n",
        "\n",
        "  def predict(self, X: pd.DataFrame) -> np.array:\n",
        "      \"\"\"Gets predictions for the provided feature data.\n",
        "      \n",
        "      The predicitons are evaluated using the provided rules wherever possible\n",
        "      otherwise the underlying estimator is used.\n",
        "      \n",
        "      Args:\n",
        "          X: The feature data to evaluate predictions for.\n",
        "      \n",
        "      Returns:\n",
        "          np.array: Evaluated predictions.\n",
        "      \"\"\"\n",
        "      \n",
        "      p_X = X.copy()\n",
        "      p_X['prediction'] = np.nan\n",
        "\n",
        "      for category, rules in self.rules.items():\n",
        "\n",
        "          if category not in p_X.columns.values: continue\n",
        "\n",
        "          for rule in rules:\n",
        "\n",
        "              if rule[0] == \"=\":\n",
        "                  p_X.loc[p_X[category] == rule[1], 'prediction'] = rule[2]\n",
        "\n",
        "              elif rule[0] == \"<\":\n",
        "                  p_X.loc[p_X[category] < rule[1], 'prediction'] = rule[2]\n",
        "\n",
        "              elif rule[0] == \">\":\n",
        "                  p_X.loc[p_X[category] > rule[1], 'prediction'] = rule[2]\n",
        "\n",
        "              elif rule[0] == \"<=\":\n",
        "                  p_X.loc[p_X[category] <= rule[1], 'prediction'] = rule[2]\n",
        "\n",
        "              elif rule[0] == \">=\":\n",
        "                  p_X.loc[p_X[category] >= rule[1], 'prediction'] = rule[2]\n",
        "\n",
        "              else:\n",
        "                  print(\"Invalid rule detected: {}\".format(rule))\n",
        "\n",
        "      # check if any predictions missing (relegate to base_model)\n",
        "      if len(p_X.loc[p_X['prediction'].isna()].index != 0):\n",
        "\n",
        "          base_X = p_X.loc[p_X['prediction'].isna()].copy()\n",
        "          base_X.drop('prediction', axis=1, inplace=True)\n",
        "          p_X.loc[p_X['prediction'].isna(), 'prediction'] = self.base_model.predict(base_X)\n",
        "\n",
        "      return p_X['prediction'].values\n",
        "    \n",
        "\n",
        "  def get_params(self, deep: bool = True) -> Dict:\n",
        "      \"\"\"Return the model's and base model's parameters.\n",
        "      Args:\n",
        "          deep: Whether to recursively return the base model's parameters.\n",
        "      Returns\n",
        "          Dict: The model's parameters.\n",
        "      \"\"\"\n",
        "      \n",
        "      params = {'base_model': self.base_model,\n",
        "                'rules': self.rules\n",
        "                }\n",
        "\n",
        "      params.update(self.base_model.get_params(deep=deep))\n",
        "      return params\n",
        "  \n",
        "\n",
        "  def set_params(self, **params):\n",
        "      \"\"\"Sets parameters for the model and base model.\n",
        "      Args:\n",
        "          **params: Optional keyword arguments.\n",
        "      \"\"\"\n",
        "                \n",
        "      parameters = params\n",
        "      param_keys = parameters.keys()\n",
        "      \n",
        "      if 'base_model' in param_keys:\n",
        "          value = parameters.pop('base_model')\n",
        "          self.base_model = value\n",
        "          \n",
        "      if 'rules' in param_keys:\n",
        "          value = parameters.pop('rules')\n",
        "          self.rules = value\n",
        "      \n",
        "      self.base_model.set_params(**parameters)"
      ],
      "execution_count": null,
      "outputs": []
    },
    {
      "cell_type": "code",
      "metadata": {
        "id": "Rz6ITeU_fTnj"
      },
      "source": [
        "# RULES:\n",
        "# check_umls: if they do not share a concept, return 1 (no contradiction)\n",
        "# neg_check_umls: if number of neg tokens is equal, return 0 (no contradiction); otherwise, return 1 (contradiction)\n",
        "# check_med7: if not talking about same DRUG -> return 0 (no contradiction); if same DRUG but different other info -> return 1 (contradiction)\n",
        "# dep_sim: if similarity < 0.5 (contradiction)\n",
        "\n",
        "\n",
        "rules = {\"check_umls\": [\n",
        "                (\"=\", 1, 0.0)\n",
        "              ], \n",
        "        \"neg_check_umls\": [\n",
        "                (\"=\", 1, 1.0)\n",
        "              ],\n",
        "         \"check_med7\": [\n",
        "                (\"=\", 1, 1.0)\n",
        "              ],\n",
        "         \"dep_sim\": [\n",
        "                (\"<\", 0.5, 1.0)\n",
        "              ]\n",
        "        }"
      ],
      "execution_count": null,
      "outputs": []
    },
    {
      "cell_type": "code",
      "metadata": {
        "colab": {
          "base_uri": "https://localhost:8080/"
        },
        "id": "-zhu-cftfHy4",
        "outputId": "47e9b33a-e110-42ca-81fc-6ec78f717828"
      },
      "source": [
        "# fit the hybrid model with relevant features\n",
        "gbc = GradientBoostingClassifier(n_estimators=100, verbose=1)\n",
        "rule_model = RuleBasedEstimator(gbc, rules)\n",
        "\n",
        "rule_model.fit(train_X, train_y)\n",
        "predictions = rule_model.predict(test_X)"
      ],
      "execution_count": null,
      "outputs": [
        {
          "output_type": "stream",
          "text": [
            "      Iter       Train Loss   Remaining Time \n",
            "         1           1.3758            1.24s\n",
            "         2           1.3672            1.04s\n",
            "         3           1.3603            0.97s\n",
            "         4           1.3544            0.93s\n",
            "         5           1.3498            0.90s\n",
            "         6           1.3458            0.88s\n",
            "         7           1.3426            0.86s\n",
            "         8           1.3399            0.84s\n",
            "         9           1.3376            0.83s\n",
            "        10           1.3357            0.81s\n",
            "        20           1.3260            0.70s\n",
            "        30           1.3209            0.61s\n",
            "        40           1.3164            0.54s\n",
            "        50           1.3122            0.45s\n",
            "        60           1.3084            0.37s\n",
            "        70           1.3058            0.27s\n",
            "        80           1.3025            0.18s\n",
            "        90           1.3000            0.09s\n",
            "       100           1.2975            0.00s\n"
          ],
          "name": "stdout"
        }
      ]
    },
    {
      "cell_type": "code",
      "metadata": {
        "colab": {
          "base_uri": "https://localhost:8080/",
          "height": 374
        },
        "id": "fpWTgy7pfOUE",
        "outputId": "ec2d89d8-1dd5-41ad-fcf0-be609a189181"
      },
      "source": [
        "# rule only\n",
        "evaluation(test_y, predictions)"
      ],
      "execution_count": null,
      "outputs": [
        {
          "output_type": "stream",
          "text": [
            "Recall:  0.5632911392405063\n",
            "Accuracy:  0.5896624472573839\n",
            "Precision:  0.5946547884187082\n",
            "F1:  0.5785482123510293\n"
          ],
          "name": "stdout"
        },
        {
          "output_type": "display_data",
          "data": {
            "image/png": "[encoded data removed]",
            "text/plain": [
              "<Figure size 432x288 with 2 Axes>"
            ]
          },
          "metadata": {
            "tags": [],
            "needs_background": "light"
          }
        }
      ]
    },
    {
      "cell_type": "markdown",
      "metadata": {
        "id": "fXw3LjZMfa7K"
      },
      "source": [
        "Decision tree algorithm only"
      ]
    },
    {
      "cell_type": "code",
      "metadata": {
        "colab": {
          "base_uri": "https://localhost:8080/"
        },
        "id": "61yRQNT6fc5D",
        "outputId": "e3ef6eca-b7f9-4ff6-d815-3fc783fcec82"
      },
      "source": [
        "gbc = GradientBoostingClassifier(n_estimators=100, verbose=1)\n",
        "gbc.fit(train_X, train_y)\n",
        "predictions = gbc.predict(test_X)"
      ],
      "execution_count": null,
      "outputs": [
        {
          "output_type": "stream",
          "text": [
            "      Iter       Train Loss   Remaining Time \n",
            "         1           1.3758            1.04s\n",
            "         2           1.3672            0.92s\n",
            "         3           1.3603            0.88s\n",
            "         4           1.3544            0.87s\n",
            "         5           1.3498            0.89s\n",
            "         6           1.3458            0.87s\n",
            "         7           1.3426            0.85s\n",
            "         8           1.3399            0.83s\n",
            "         9           1.3376            0.82s\n",
            "        10           1.3357            0.80s\n",
            "        20           1.3260            0.69s\n",
            "        30           1.3209            0.61s\n",
            "        40           1.3164            0.53s\n",
            "        50           1.3122            0.47s\n",
            "        60           1.3084            0.41s\n",
            "        70           1.3058            0.32s\n",
            "        80           1.3025            0.21s\n",
            "        90           1.3000            0.11s\n",
            "       100           1.2975            0.00s\n"
          ],
          "name": "stdout"
        }
      ]
    },
    {
      "cell_type": "code",
      "metadata": {
        "colab": {
          "base_uri": "https://localhost:8080/",
          "height": 374
        },
        "id": "Fq-TEASefewV",
        "outputId": "8686d713-ceaa-49a4-c2cc-ee7965a78234"
      },
      "source": [
        "# GBC only\n",
        "evaluation(test_y, predictions)"
      ],
      "execution_count": null,
      "outputs": [
        {
          "output_type": "stream",
          "text": [
            "Recall:  0.5295358649789029\n",
            "Accuracy:  0.6054852320675106\n",
            "Precision:  0.6243781094527363\n",
            "F1:  0.5730593607305936\n"
          ],
          "name": "stdout"
        },
        {
          "output_type": "display_data",
          "data": {
            "image/png": "[encoded data removed]",
            "text/plain": [
              "<Figure size 432x288 with 2 Axes>"
            ]
          },
          "metadata": {
            "tags": [],
            "needs_background": "light"
          }
        }
      ]
    },
    {
      "cell_type": "markdown",
      "metadata": {
        "id": "waPUW3eEhH9J"
      },
      "source": [
        "MIMIC qualitative exploration"
      ]
    },
    {
      "cell_type": "code",
      "metadata": {
        "colab": {
          "base_uri": "https://localhost:8080/"
        },
        "id": "AgjdeMLkhJcw",
        "outputId": "3672c213-e39a-49d2-f7bb-7f460f4ac4b0"
      },
      "source": [
        "# for processed sentence pairs from MIMIC\n",
        "mimic_df = pd.read_csv(\"gdrive/MyDrive/6.871/mimic_features.csv\")\n",
        "print(mimic_df)"
      ],
      "execution_count": 24,
      "outputs": [
        {
          "output_type": "stream",
          "text": [
            "     Unnamed: 0  neg_check_umls  ...         conflict_type  pair_id\n",
            "0             0               0  ...         ['diagnosis']        0\n",
            "1             1               0  ...         ['diagnosis']        1\n",
            "2             2               0  ...         ['diagnosis']        2\n",
            "3             3               0  ...         ['diagnosis']        3\n",
            "4             4               0  ...         ['diagnosis']        4\n",
            "..          ...             ...  ...                   ...      ...\n",
            "836         836               0  ...              ['test']      156\n",
            "837         837               0  ...              ['test']      157\n",
            "838         838               0  ...  ['diagnosis', 'med']      158\n",
            "839         839               0  ...  ['diagnosis', 'med']      159\n",
            "840         840               0  ...  ['diagnosis', 'med']      160\n",
            "\n",
            "[841 rows x 10 columns]\n"
          ],
          "name": "stdout"
        }
      ]
    },
    {
      "cell_type": "code",
      "metadata": {
        "colab": {
          "base_uri": "https://localhost:8080/"
        },
        "id": "sSy04QqYhLGA",
        "outputId": "2a680697-1a86-4ca0-8ae0-52587cd45079"
      },
      "source": [
        "#mimic_train_X, mimic_test_X, mimic_train_y, mimic_test_y = train_test_split(X, y, test_size=0.33, random_state=42)\n",
        "\n",
        "mimic_X = mimic_df[['check_umls', 'neg_check_umls', \"check_med7\", \"dep_sim\"]].copy()\n",
        "print(mimic_X)\n",
        "\n",
        "#train_X = total_train_df[['check_umls', 'neg_check_umls', \"check_med7\", \"dep_sim\"]].copy()\n",
        "#mimic_train_y = total_train_df[\"contradiction?\"]\n",
        "\n",
        "#test_X = test_X[['check_umls', 'neg_check_umls', \"check_med7\", \"dep_sim\"]].copy()\n",
        "#test_y = test_df[\"contradiction?\"]"
      ],
      "execution_count": 25,
      "outputs": [
        {
          "output_type": "stream",
          "text": [
            "     check_umls  neg_check_umls  check_med7   dep_sim\n",
            "0             1               0           0  0.761119\n",
            "1             1               0           0  0.268047\n",
            "2             1               0           0  0.588540\n",
            "3             1               0           0  0.758409\n",
            "4             1               0           0  0.808922\n",
            "..          ...             ...         ...       ...\n",
            "836           1               0           0  0.327957\n",
            "837           1               0           0  0.868670\n",
            "838           1               0           0  0.643665\n",
            "839           1               0           0  0.658082\n",
            "840           1               0           0  0.941207\n",
            "\n",
            "[841 rows x 4 columns]\n"
          ],
          "name": "stdout"
        }
      ]
    },
    {
      "cell_type": "code",
      "metadata": {
        "colab": {
          "base_uri": "https://localhost:8080/"
        },
        "id": "n8RdnoeehqIf",
        "outputId": "87d28634-df1f-416a-f3ff-cb55c11a2953"
      },
      "source": [
        "# gbc only\n",
        "gbc = GradientBoostingClassifier(n_estimators=100, verbose=1)\n",
        "gbc.fit(train_X, train_y)\n",
        "predictions = gbc.predict(mimic_X)"
      ],
      "execution_count": 26,
      "outputs": [
        {
          "output_type": "stream",
          "text": [
            "      Iter       Train Loss   Remaining Time \n",
            "         1           1.3758            0.83s\n",
            "         2           1.3672            0.81s\n",
            "         3           1.3603            0.80s\n",
            "         4           1.3544            0.79s\n",
            "         5           1.3498            0.80s\n",
            "         6           1.3458            0.78s\n",
            "         7           1.3426            0.77s\n",
            "         8           1.3399            0.76s\n",
            "         9           1.3376            0.75s\n",
            "        10           1.3357            0.74s\n",
            "        20           1.3260            0.65s\n",
            "        30           1.3209            0.57s\n",
            "        40           1.3164            0.49s\n",
            "        50           1.3122            0.41s\n",
            "        60           1.3084            0.33s\n",
            "        70           1.3058            0.25s\n",
            "        80           1.3025            0.17s\n",
            "        90           1.3000            0.08s\n",
            "       100           1.2975            0.00s\n"
          ],
          "name": "stdout"
        }
      ]
    },
    {
      "cell_type": "code",
      "metadata": {
        "colab": {
          "base_uri": "https://localhost:8080/"
        },
        "id": "L_cg9MFAh1Om",
        "outputId": "7698d6cf-e46c-451c-f3fb-f5a1099f1b44"
      },
      "source": [
        "print(predictions)"
      ],
      "execution_count": 27,
      "outputs": [
        {
          "output_type": "stream",
          "text": [
            "[0 0 0 0 0 0 1 1 0 0 0 0 1 1 0 1 1 1 1 1 0 0 0 0 0 0 0 0 0 0 0 0 1 1 1 1 0\n",
            " 1 1 0 0 0 0 1 0 1 0 1 1 0 1 0 0 0 0 0 0 0 0 0 0 0 0 1 0 1 1 0 0 0 0 0 0 0\n",
            " 0 0 0 0 0 0 1 1 1 0 0 0 0 0 1 0 1 0 1 1 0 0 1 0 0 0 0 0 0 0 1 1 1 1 1 1 0\n",
            " 0 1 0 0 1 0 0 1 1 1 0 0 0 0 1 0 0 0 0 0 1 1 1 1 0 0 0 1 1 0 0 0 0 1 1 1 1\n",
            " 1 1 1 1 1 1 1 0 1 1 0 0 1 0 1 0 1 1 1 0 0 0 0 0 0 0 0 1 0 0 0 1 1 1 1 1 1\n",
            " 1 1 0 1 1 0 1 1 1 0 0 1 0 0 0 0 0 0 0 0 0 0 0 0 0 0 0 0 1 1 0 0 0 1 0 1 1\n",
            " 0 1 0 1 1 1 1 0 0 1 0 0 0 0 0 0 0 0 1 1 0 0 1 1 0 0 1 1 0 0 1 0 0 1 1 0 0\n",
            " 1 1 0 1 0 0 0 1 0 1 0 0 0 0 0 0 0 1 0 0 0 0 0 0 1 0 0 0 1 0 1 1 1 1 0 0 0\n",
            " 0 0 1 1 1 0 1 0 0 0 0 0 0 0 0 0 0 0 1 0 0 1 1 1 0 0 1 1 0 0 0 0 0 1 0 0 0\n",
            " 0 0 0 1 1 1 1 0 0 0 0 0 0 1 0 0 1 1 1 0 0 0 0 0 1 0 0 0 0 1 1 1 0 1 0 1 0\n",
            " 0 0 0 0 1 0 0 0 0 0 0 1 0 1 1 0 0 0 0 0 0 0 1 1 0 0 1 0 0 0 0 0 1 0 0 1 1\n",
            " 0 1 1 0 0 1 0 0 1 0 0 1 1 0 0 0 0 0 0 0 0 0 0 0 1 1 0 0 0 0 0 0 0 0 0 0 0\n",
            " 0 0 0 0 0 0 0 0 0 0 0 0 1 1 0 1 1 0 0 0 1 0 1 0 0 1 1 0 0 0 0 0 0 0 0 0 1\n",
            " 0 0 0 0 0 0 0 1 0 0 0 0 0 0 0 0 1 0 0 0 0 0 0 0 1 0 0 0 1 0 1 0 0 1 0 0 0\n",
            " 0 0 0 1 0 1 0 1 0 1 0 0 1 0 0 0 1 0 0 0 0 0 0 0 0 0 0 0 0 0 0 0 0 0 0 0 0\n",
            " 0 0 0 0 0 1 0 0 0 1 0 0 1 0 0 0 1 1 1 0 0 1 1 0 1 0 0 0 0 0 0 1 0 0 0 0 0\n",
            " 0 1 0 0 0 0 0 0 0 0 1 0 0 1 0 1 0 0 1 1 0 1 0 0 0 1 0 1 0 0 1 0 0 0 0 0 0\n",
            " 0 1 0 0 0 0 0 0 0 0 0 0 0 1 0 0 0 0 0 0 1 0 0 0 1 0 0 1 1 0 0 0 1 1 0 1 0\n",
            " 0 0 0 0 0 0 0 0 0 0 0 0 0 0 1 0 0 0 1 0 0 1 0 0 1 1 1 1 0 0 0 0 1 0 0 0 0\n",
            " 1 1 0 0 0 0 1 1 1 0 0 0 0 0 1 1 0 0 0 0 0 0 1 0 1 1 0 1 0 1 1 0 1 0 1 0 0\n",
            " 0 1 0 0 1 0 1 1 1 1 0 1 0 0 0 0 1 1 0 0 0 0 0 0 0 0 0 0 0 0 0 0 0 1 0 1 0\n",
            " 1 1 0 1 0 0 0 1 1 1 0 1 0 0 0 0 0 1 0 0 0 0 0 1 0 0 1 1 0 0 0 0 0 0 0 0 0\n",
            " 0 0 1 0 0 1 0 0 0 0 0 1 0 1 0 0 0 0 0 0 1 1 1 0 0 0 0]\n"
          ],
          "name": "stdout"
        }
      ]
    },
    {
      "cell_type": "code",
      "metadata": {
        "colab": {
          "base_uri": "https://localhost:8080/"
        },
        "id": "z9W9Iw1Bh6vs",
        "outputId": "9c60bf20-4063-4f93-d42f-53397a3d9c68"
      },
      "source": [
        "# get positive prediction indices\n",
        "print(type(predictions))\n",
        "positive_indices = np.where(predictions == 1)\n",
        "print(positive_indices[0])\n",
        "print(type(positive_indices[0]))"
      ],
      "execution_count": 33,
      "outputs": [
        {
          "output_type": "stream",
          "text": [
            "<class 'numpy.ndarray'>\n",
            "[  6   7  12  13  15  16  17  18  19  32  33  34  35  37  38  43  45  47\n",
            "  48  50  63  65  66  80  81  82  88  90  92  93  96 104 105 106 107 108\n",
            " 109 112 115 118 119 120 125 131 132 133 134 138 139 144 145 146 147 148\n",
            " 149 150 151 152 153 154 156 157 160 162 164 165 166 175 179 180 181 182\n",
            " 183 184 185 186 188 189 191 192 193 196 213 214 218 220 221 223 225 226\n",
            " 227 228 231 240 241 244 245 248 249 252 255 256 259 260 262 266 268 276\n",
            " 283 287 289 290 291 292 298 299 300 302 314 317 318 319 322 323 329 336\n",
            " 337 338 339 346 349 350 351 357 362 363 364 366 368 374 381 383 384 392\n",
            " 393 396 402 405 406 408 409 412 415 418 419 431 432 456 457 459 460 464\n",
            " 466 469 470 480 488 497 505 509 511 514 521 523 525 527 530 534 560 564\n",
            " 567 571 572 573 576 577 579 586 593 602 605 607 610 611 613 617 619 622\n",
            " 630 642 649 653 656 657 661 662 664 680 684 687 690 691 692 693 698 703\n",
            " 704 709 710 711 717 718 725 727 728 730 732 733 735 737 741 744 746 747\n",
            " 748 749 751 756 757 773 775 777 778 780 784 785 786 788 794 800 803 804\n",
            " 816 819 825 827 834 835 836]\n",
            "<class 'numpy.ndarray'>\n"
          ],
          "name": "stdout"
        }
      ]
    },
    {
      "cell_type": "code",
      "metadata": {
        "colab": {
          "base_uri": "https://localhost:8080/"
        },
        "id": "_BXEnJlMiuhw",
        "outputId": "8efd3651-a16a-4126-8c77-961bec83a359"
      },
      "source": [
        "positive_examples_df = pd.DataFrame()\n",
        "for positive_index in tqdm(positive_indices[0]):\n",
        "  #print(positive_index)\n",
        "  pos_example = mimic_df.iloc[positive_index]\n",
        "  #print(type(pos_example))\n",
        "  positive_examples_df = pd.concat((positive_examples_df, pos_example), axis=1)\n",
        "  #print(positive_examples_df)\n",
        "  #break"
      ],
      "execution_count": 39,
      "outputs": [
        {
          "output_type": "stream",
          "text": [
            "100%|██████████| 259/259 [00:00<00:00, 897.59it/s]\n"
          ],
          "name": "stderr"
        }
      ]
    },
    {
      "cell_type": "code",
      "metadata": {
        "colab": {
          "base_uri": "https://localhost:8080/"
        },
        "id": "MlWNUgdHiUDC",
        "outputId": "14f07565-9dbc-44f3-c548-e6aaeada6320"
      },
      "source": [
        "print(positive_examples_df)"
      ],
      "execution_count": 40,
      "outputs": [
        {
          "output_type": "stream",
          "text": [
            "                                                              6    ...                                                836\n",
            "Unnamed: 0                                                      6  ...                                                836\n",
            "neg_check_umls                                                  1  ...                                                  0\n",
            "check_umls                                                      1  ...                                                  1\n",
            "check_med7                                                      0  ...                                                  0\n",
            "sentence_1      She denies ever having a urinary tract    infe...  ...     Neuro: Alert and oriented x 3    Labs / Rad...\n",
            "sentence_2       No recent UTIs or hx of    resistent organisms.'  ...  -- Guaiac negative    -- labs c/w anemia of ch...\n",
            "dep_sim                                                  0.306616  ...                                           0.327957\n",
            "hadm_id                                                    162197  ...                                             120799\n",
            "conflict_type                                       ['diagnosis']  ...                                           ['test']\n",
            "pair_id                                                         6  ...                                                156\n",
            "\n",
            "[10 rows x 259 columns]\n"
          ],
          "name": "stdout"
        }
      ]
    },
    {
      "cell_type": "code",
      "metadata": {
        "id": "rOFUm7IYjZDb"
      },
      "source": [
        "positive_examples_df.to_csv(\"positive_examples_mimic_eval_mednli.csv\")"
      ],
      "execution_count": 43,
      "outputs": []
    },
    {
      "cell_type": "code",
      "metadata": {
        "colab": {
          "base_uri": "https://localhost:8080/"
        },
        "id": "zO4pTExljowh",
        "outputId": "e8b97752-0e7d-4f74-ab13-6d44a7c30c49"
      },
      "source": [
        "# get negative prediction indices\n",
        "negative_indices = np.where(predictions == 0)\n",
        "\n",
        "negative_examples_df = pd.DataFrame()\n",
        "for negative_index in tqdm(negative_indices[0]):\n",
        "  neg_example = mimic_df.iloc[negative_index]\n",
        "  negative_examples_df = pd.concat((negative_examples_df, neg_example), axis=1)\n",
        "\n",
        "negative_examples_df.to_csv(\"negative_examples_mimic_eval_mednli.csv\")"
      ],
      "execution_count": 44,
      "outputs": [
        {
          "output_type": "stream",
          "text": [
            "100%|██████████| 582/582 [00:00<00:00, 835.63it/s]\n"
          ],
          "name": "stderr"
        }
      ]
    }
  ]
}