{
 "cells": [
  {
   "cell_type": "code",
   "execution_count": 1,
   "id": "94419448-4cfa-42d8-b8ad-f9648dccb549",
   "metadata": {},
   "outputs": [],
   "source": [
    "import pandas as pd\n",
    "import json\n",
    "import csv"
   ]
  },
  {
   "cell_type": "code",
   "execution_count": 2,
   "id": "13bce2d6-632f-4de3-ae2a-30d815130d67",
   "metadata": {},
   "outputs": [],
   "source": [
    "def read_json():\n",
    "\n",
    "\n",
    "    filenames = [\n",
    "            'train',\n",
    "            'test',\n",
    "            'dev'\n",
    "    ]\n",
    "\n",
    "    file_temp = \"mli_{}_v1.jsonl\"\n",
    "\n",
    "    for filetype in filenames:\n",
    "        filename = file_temp.format(filetype)\n",
    "\n",
    "        # label 0 = no contradiction, 1 = contradiction\n",
    "        data = {\"sentence 1\": [],\n",
    "                \"sentence 2\": [],\n",
    "                \"label\": []}\n",
    "\n",
    "        with open(filename, 'r') as f:\n",
    "            print(\"Reading: {}\".format(filename))\n",
    "            for line in f:\n",
    "                example = json.loads(line)\n",
    "                \n",
    "                label = example.get('gold_label', None)\n",
    "                if label and label in [\"entailment\", \"contradiction\"]:\n",
    "                    s1 = example['sentence1']\n",
    "                    s2 = example['sentence2']\n",
    "                    data[\"sentence 1\"].append(s1)\n",
    "                    data[\"sentence 2\"].append(s2)\n",
    "                    if label == \"entailment\":\n",
    "                        data[\"label\"].append(0)\n",
    "                    else:\n",
    "                        data[\"label\"].append(1)\n",
    "\n",
    "        print(len(data[\"sentence 1\"]))\n",
    "        assert len(data[\"sentence 1\"]) == len(data[\"sentence 2\"]) == len(data[\"label\"])\n",
    "\n",
    "        df = pd.DataFrame(data=data)\n",
    "        csv_name = \"mednli_labeled_{}.csv\".format(filetype)\n",
    "        df.to_csv(csv_name, index=False)\n",
    "    "
   ]
  },
  {
   "cell_type": "code",
   "execution_count": 3,
   "id": "3ef2127e-8560-4660-a05d-8b0e55138357",
   "metadata": {},
   "outputs": [],
   "source": [
    "def csv_to_txt(filename):\n",
    "\n",
    "    csv_file = filename+'.csv'\n",
    "    txt_file = filename+'.txt'\n",
    "    with open(txt_file, \"w\", encoding='UTF-8') as my_output_file:\n",
    "        with open(csv_file, \"r\", encoding='UTF-8') as my_input_file:\n",
    "            [ my_output_file.write(\"\\t\".join(row)+'\\n') for row in csv.reader(my_input_file)]\n",
    "        my_output_file.close()\n",
    "\n"
   ]
  },
  {
   "cell_type": "code",
   "execution_count": 38,
   "id": "c1e771d9-7f01-4ce3-afcf-4c702cfa9c17",
   "metadata": {},
   "outputs": [],
   "source": [
    "def csv_extract(filename):\n",
    "    csv_file = filename+'.csv'\n",
    "    txt_file = filename+'.txt'\n",
    "    first = True\n",
    "    with open(txt_file, \"w\", encoding='UTF-8') as my_output_file:\n",
    "        with open(csv_file, \"r\", encoding='UTF-8') as my_input_file:\n",
    "            for row in csv.reader(my_input_file):\n",
    "                if first:\n",
    "                    first = False\n",
    "                    continue\n",
    "                my_output_file.write(\"\\t\".join(row[1:3])+'\\n')\n",
    "        my_output_file.close()\n",
    "        \n"
   ]
  },
  {
   "cell_type": "code",
   "execution_count": 34,
   "id": "ef242d7e-4f5f-4087-a9a1-1dba1037eb3f",
   "metadata": {},
   "outputs": [],
   "source": [
    "def csv_extract(filename):\n",
    "    txt_file = 'mednli/generated/train.txt'\n",
    "    with open(txt_file, \"w\", encoding='UTF-8') as my_output_file:\n",
    "        with open(filename, \"r\", encoding='UTF-8') as my_input_file:\n",
    "            for line in my_input_file.readlines():\n",
    "                l =  line.split(\"\\t\")\n",
    "                if len(l) == 3:\n",
    "                    if l[2].rstrip() == \"0.0\":\n",
    "                        l[2] = \"0\"\n",
    "                    else:\n",
    "                        l[2] = \"1\"\n",
    "                my_output_file.write(\"\\t\".join(l)+'\\n')\n",
    "        my_output_file.close()"
   ]
  },
  {
   "cell_type": "code",
   "execution_count": 41,
   "id": "e9e86f03-86f0-40e8-8924-1d6df807ec71",
   "metadata": {},
   "outputs": [
    {
     "ename": "FileNotFoundError",
     "evalue": "[Errno 2] No such file or directory: 'mednli/data/mimic_qual.txt'",
     "output_type": "error",
     "traceback": [
      "\u001b[0;31m---------------------------------------------------------------------------\u001b[0m",
      "\u001b[0;31mFileNotFoundError\u001b[0m                         Traceback (most recent call last)",
      "\u001b[0;32m<ipython-input-41-4c0972ea7cd4>\u001b[0m in \u001b[0;36m<module>\u001b[0;34m\u001b[0m\n\u001b[0;32m----> 1\u001b[0;31m \u001b[0mcsv_extract\u001b[0m\u001b[0;34m(\u001b[0m\u001b[0;34m\"mednli/data/mimic_qual\"\u001b[0m\u001b[0;34m)\u001b[0m\u001b[0;34m\u001b[0m\u001b[0;34m\u001b[0m\u001b[0m\n\u001b[0m",
      "\u001b[0;32m<ipython-input-38-e5babca1b1ac>\u001b[0m in \u001b[0;36mcsv_extract\u001b[0;34m(filename)\u001b[0m\n\u001b[1;32m      3\u001b[0m     \u001b[0mtxt_file\u001b[0m \u001b[0;34m=\u001b[0m \u001b[0mfilename\u001b[0m\u001b[0;34m+\u001b[0m\u001b[0;34m'.txt'\u001b[0m\u001b[0;34m\u001b[0m\u001b[0;34m\u001b[0m\u001b[0m\n\u001b[1;32m      4\u001b[0m     \u001b[0mfirst\u001b[0m \u001b[0;34m=\u001b[0m \u001b[0;32mTrue\u001b[0m\u001b[0;34m\u001b[0m\u001b[0;34m\u001b[0m\u001b[0m\n\u001b[0;32m----> 5\u001b[0;31m     \u001b[0;32mwith\u001b[0m \u001b[0mopen\u001b[0m\u001b[0;34m(\u001b[0m\u001b[0mtxt_file\u001b[0m\u001b[0;34m,\u001b[0m \u001b[0;34m\"w\"\u001b[0m\u001b[0;34m,\u001b[0m \u001b[0mencoding\u001b[0m\u001b[0;34m=\u001b[0m\u001b[0;34m'UTF-8'\u001b[0m\u001b[0;34m)\u001b[0m \u001b[0;32mas\u001b[0m \u001b[0mmy_output_file\u001b[0m\u001b[0;34m:\u001b[0m\u001b[0;34m\u001b[0m\u001b[0;34m\u001b[0m\u001b[0m\n\u001b[0m\u001b[1;32m      6\u001b[0m         \u001b[0;32mwith\u001b[0m \u001b[0mopen\u001b[0m\u001b[0;34m(\u001b[0m\u001b[0mcsv_file\u001b[0m\u001b[0;34m,\u001b[0m \u001b[0;34m\"r\"\u001b[0m\u001b[0;34m,\u001b[0m \u001b[0mencoding\u001b[0m\u001b[0;34m=\u001b[0m\u001b[0;34m'UTF-8'\u001b[0m\u001b[0;34m)\u001b[0m \u001b[0;32mas\u001b[0m \u001b[0mmy_input_file\u001b[0m\u001b[0;34m:\u001b[0m\u001b[0;34m\u001b[0m\u001b[0;34m\u001b[0m\u001b[0m\n\u001b[1;32m      7\u001b[0m             \u001b[0;32mfor\u001b[0m \u001b[0mrow\u001b[0m \u001b[0;32min\u001b[0m \u001b[0mcsv\u001b[0m\u001b[0;34m.\u001b[0m\u001b[0mreader\u001b[0m\u001b[0;34m(\u001b[0m\u001b[0mmy_input_file\u001b[0m\u001b[0;34m)\u001b[0m\u001b[0;34m:\u001b[0m\u001b[0;34m\u001b[0m\u001b[0;34m\u001b[0m\u001b[0m\n",
      "\u001b[0;31mFileNotFoundError\u001b[0m: [Errno 2] No such file or directory: 'mednli/data/mimic_qual.txt'"
     ]
    }
   ],
   "source": [
    "csv_extract(\"mimic_qual\")"
   ]
  },
  {
   "cell_type": "code",
   "execution_count": null,
   "id": "d595b910-a073-4060-bac5-f6fd9babe489",
   "metadata": {},
   "outputs": [],
   "source": []
  }
 ],
 "metadata": {
  "kernelspec": {
   "display_name": "Python 3",
   "language": "python",
   "name": "python3"
  },
  "language_info": {
   "codemirror_mode": {
    "name": "ipython",
    "version": 3
   },
   "file_extension": ".py",
   "mimetype": "text/x-python",
   "name": "python",
   "nbconvert_exporter": "python",
   "pygments_lexer": "ipython3",
   "version": "3.7.10"
  }
 },
 "nbformat": 4,
 "nbformat_minor": 5
}
